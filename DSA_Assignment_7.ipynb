{
 "cells": [
  {
   "attachments": {},
   "cell_type": "markdown",
   "metadata": {},
   "source": [
    "<aside>\n",
    "💡 **Question 1**\n",
    "\n",
    "Given two strings s and t, *determine if they are isomorphic*.\n",
    "\n",
    "Two strings s and t are isomorphic if the characters in s can be replaced to get t.\n",
    "\n",
    "All occurrences of a character must be replaced with another character while preserving the order of characters. No two characters may map to the same character, but a character may map to itself.\n",
    "\n",
    "**Example 1:**\n",
    "\n",
    "**Input:** s = \"egg\", t = \"add\"\n",
    "\n",
    "**Output:** true\n",
    "\n",
    "</aside>"
   ]
  },
  {
   "cell_type": "code",
   "execution_count": null,
   "metadata": {},
   "outputs": [],
   "source": [
    "def isIsomorphic(self, s: str, t: str) -> bool:\n",
    "        i = 0\n",
    "        h = {}\n",
    "        while i < len(s):\n",
    "            if t[i] not in h:\n",
    "                if s[i] in h.values():\n",
    "                    return False\n",
    "                else:\n",
    "                    h[t[i]] = s[i]\n",
    "            else:\n",
    "                if h[t[i]] != s[i]:\n",
    "                    return False\n",
    "            i = i + 1\n",
    "        return True"
   ]
  },
  {
   "attachments": {},
   "cell_type": "markdown",
   "metadata": {},
   "source": [
    "<aside>\n",
    "💡 **Question 2**\n",
    "\n",
    "Given a string num which represents an integer, return true *if* num *is a **strobogrammatic number***.\n",
    "\n",
    "A **strobogrammatic number** is a number that looks the same when rotated 180 degrees (looked at upside down).\n",
    "\n",
    "**Example 1:**\n",
    "\n",
    "**Input:** num = \"69\"\n",
    "\n",
    "**Output:**\n",
    "\n",
    "true\n",
    "\n",
    "</aside>"
   ]
  },
  {
   "cell_type": "code",
   "execution_count": 33,
   "metadata": {},
   "outputs": [],
   "source": [
    "def is_strobogrammatic_number(num):\n",
    "    strob= ['00','11','69','88','96']\n",
    "    j= len(num)-1\n",
    "    for i in range(len(num)//2+1):\n",
    "        n= ''.join(num[i]+num[j])\n",
    "        #print(n)\n",
    "        j-=1\n",
    "        if n not in strob:\n",
    "            return False\n",
    "    \n",
    "    return True"
   ]
  },
  {
   "cell_type": "code",
   "execution_count": 34,
   "metadata": {},
   "outputs": [
    {
     "data": {
      "text/plain": [
       "False"
      ]
     },
     "execution_count": 34,
     "metadata": {},
     "output_type": "execute_result"
    }
   ],
   "source": [
    "is_strobogrammatic_number(\"962\")"
   ]
  },
  {
   "cell_type": "code",
   "execution_count": 35,
   "metadata": {},
   "outputs": [
    {
     "data": {
      "text/plain": [
       "True"
      ]
     },
     "execution_count": 35,
     "metadata": {},
     "output_type": "execute_result"
    }
   ],
   "source": [
    "is_strobogrammatic_number(\"88\")"
   ]
  },
  {
   "attachments": {},
   "cell_type": "markdown",
   "metadata": {},
   "source": [
    "<aside>\n",
    "💡 **Question 3**\n",
    "\n",
    "Given two non-negative integers, num1 and num2 represented as string, return *the sum of* num1 *and* num2 *as a string*.\n",
    "\n",
    "You must solve the problem without using any built-in library for handling large integers (such as BigInteger). You must also not convert the inputs to integers directly.\n",
    "\n",
    "**Example 1:**\n",
    "\n",
    "**Input:** num1 = \"11\", num2 = \"123\"\n",
    "\n",
    "**Output:**\n",
    "\n",
    "\"134\"\n",
    "\n",
    "</aside>"
   ]
  },
  {
   "cell_type": "code",
   "execution_count": null,
   "metadata": {},
   "outputs": [],
   "source": [
    "def addStrings(self, num1: str, num2: str) -> str:\n",
    "        carry = 0\n",
    "        res= ''\n",
    "        if len(num1)<len(num2):\n",
    "            num1='0'*(len(num2)-len(num1))+num1\n",
    "        else:\n",
    "            num2 ='0'*(len(num1)-len(num2))+num2\n",
    "        for i in range(len(num1)-1,-1,-1):\n",
    "            sum1= 0\n",
    "            sum1= int(num1[i])+int(num2[i])+carry\n",
    "            carry= sum1//10\n",
    "            res = str(sum1%10)+res\n",
    "        if carry>0:\n",
    "            res= str(carry)+res\n",
    "        return str(res)"
   ]
  },
  {
   "attachments": {},
   "cell_type": "markdown",
   "metadata": {},
   "source": [
    "<aside>\n",
    "💡 **Question 4**\n",
    "\n",
    "Given a string s, reverse the order of characters in each word within a sentence while still preserving whitespace and initial word order.\n",
    "\n",
    "**Example 1:**\n",
    "\n",
    "**Input:** s = \"Let's take LeetCode contest\"\n",
    "\n",
    "**Output:** \"s'teL ekat edoCteeL tsetnoc\"\n",
    "\n",
    "</aside>"
   ]
  },
  {
   "cell_type": "code",
   "execution_count": 91,
   "metadata": {},
   "outputs": [
    {
     "name": "stdout",
     "output_type": "stream",
     "text": [
      " s'teL  ekat  edoCteeL tsetnoc\n"
     ]
    }
   ],
   "source": [
    "def reverseWords(self, s: str) -> str:\n",
    "        o=''\n",
    "        output=[]\n",
    "        for i in s:\n",
    "        # print(i)\n",
    "            o=o+i\n",
    "            if i==' ':\n",
    "                o=o[::-1]\n",
    "                output.append(o)\n",
    "                o=''\n",
    "            \n",
    "        out_str= ''.join(output)\n",
    "        out_str = out_str+' '+o[::-1]\n",
    "        return out_str[1:]"
   ]
  },
  {
   "attachments": {},
   "cell_type": "markdown",
   "metadata": {},
   "source": [
    "<aside>\n",
    "💡 **Question 5**\n",
    "\n",
    "Given a string s and an integer k, reverse the first k characters for every 2k characters counting from the start of the string.\n",
    "\n",
    "If there are fewer than k characters left, reverse all of them. If there are less than 2k but greater than or equal to k characters, then reverse the first k characters and leave the other as original.\n",
    "\n",
    "**Example 1:**\n",
    "\n",
    "**Input:** s = \"abcdefg\", k = 2\n",
    "\n",
    "**Output:**\n",
    "\n",
    "\"bacdfeg\"\n",
    "\n",
    "</aside>"
   ]
  },
  {
   "cell_type": "code",
   "execution_count": null,
   "metadata": {},
   "outputs": [],
   "source": [
    "def reverseStr(self, s: str, k: int) -> str:\n",
    "        if k==1 :\n",
    "            return s\n",
    "        ans= \"\"\n",
    "        if len(s)<=k:\n",
    "            return s[::-1]\n",
    "        odd= 1\n",
    "        for i in range(0, len(s), k):\n",
    "            if odd== 1:\n",
    "                a= s[i:i+k]\n",
    "                ans= ans+a[::-1]\n",
    "                odd= 0\n",
    "            else:\n",
    "                ans= ans+s[i:i+k]\n",
    "                odd= 1\n",
    "        return (ans)"
   ]
  },
  {
   "attachments": {},
   "cell_type": "markdown",
   "metadata": {},
   "source": [
    "<aside>\n",
    "💡 **Question 6**\n",
    "\n",
    "Given two strings s and goal, return true *if and only if* s *can become* goal *after some number of **shifts** on* s.\n",
    "\n",
    "A **shift** on s consists of moving the leftmost character of s to the rightmost position.\n",
    "\n",
    "- For example, if s = \"abcde\", then it will be \"bcdea\" after one shift.\n",
    "\n",
    "**Example 1:**\n",
    "\n",
    "**Input:** s = \"abcde\", goal = \"cdeab\"\n",
    "\n",
    "**Output:**\n",
    "\n",
    "true\n",
    "\n",
    "</aside>"
   ]
  },
  {
   "cell_type": "code",
   "execution_count": 97,
   "metadata": {},
   "outputs": [
    {
     "name": "stdout",
     "output_type": "stream",
     "text": [
      "0\n"
     ]
    }
   ],
   "source": [
    "def rotateString(self, s: str, goal: str) -> bool:\n",
    "        flag=0\n",
    "        if s== goal:\n",
    "            flag= 1\n",
    "        for i in range(len(s)):\n",
    "            m= s[i:]+s[:i]\n",
    "            if m==goal:\n",
    "                flag=1\n",
    "                break\n",
    "        return True if flag==1 else False\n"
   ]
  },
  {
   "attachments": {},
   "cell_type": "markdown",
   "metadata": {},
   "source": [
    "<aside>\n",
    "💡 **Question 7**\n",
    "\n",
    "Given two strings s and t, return true *if they are equal when both are typed into empty text editors*. '#' means a backspace character.\n",
    "\n",
    "Note that after backspacing an empty text, the text will continue empty.\n",
    "\n",
    "**Example 1:**\n",
    "\n",
    "**Input:** s = \"ab#c\", t = \"ad#c\"\n",
    "\n",
    "**Output:** true\n",
    "\n",
    "**Explanation:**\n",
    "\n",
    "Both s and t become \"ac\".\n",
    "\n",
    "</aside>"
   ]
  },
  {
   "cell_type": "code",
   "execution_count": 124,
   "metadata": {},
   "outputs": [
    {
     "name": "stdout",
     "output_type": "stream",
     "text": [
      "['y']\n",
      "[]\n",
      "['f']\n",
      "[]\n",
      "['o']\n",
      "[]\n",
      "['f']\n",
      "True\n"
     ]
    }
   ],
   "source": [
    "def backspaceCompare(self, s: str, t: str) -> bool:\n",
    "        m1,m2= [],[]\n",
    "        for i in range(len(s)):\n",
    "            if s[i]== '#':\n",
    "                if m1!=[] :\n",
    "                    m1.pop()\n",
    "                else:\n",
    "                    continue\n",
    "            else:\n",
    "                m1.append(s[i])\n",
    "        for i in range(len(t)):\n",
    "            if  t[i]=='#':\n",
    "                if m2!=[]:\n",
    "                    m2.pop()\n",
    "                else:\n",
    "                    continue\n",
    "            else:\n",
    "                m2.append(t[i])\n",
    "            \n",
    "        return m1==m2"
   ]
  },
  {
   "attachments": {},
   "cell_type": "markdown",
   "metadata": {},
   "source": [
    "<aside>\n",
    "💡 **Question 8**\n",
    "\n",
    "You are given an array coordinates, coordinates[i] = [x, y], where [x, y] represents the coordinate of a point. Check if these points make a straight line in the XY plane.\n",
    "\n",
    "</aside>\n",
    "**Input:** coordinates = [[1,2],[2,3],[3,4],[4,5],[5,6],[6,7]]\n",
    "\n",
    "**Output:** true"
   ]
  },
  {
   "cell_type": "code",
   "execution_count": 129,
   "metadata": {},
   "outputs": [
    {
     "name": "stdout",
     "output_type": "stream",
     "text": [
      "0 [1, 2]\n",
      "1 [2, 3]\n",
      "2 [3, 4]\n",
      "3 [4, 5]\n",
      "4 [5, 6]\n"
     ]
    }
   ],
   "source": [
    "def checkStraightLine(self, coordinates: List[List[int]]) -> bool:\n",
    "        if coordinates[1][0]-coordinates[0][0] == 0:\n",
    "            return False\n",
    "        tan = (coordinates[1][1]-coordinates[0][1])/(coordinates[1][0]-coordinates[0][0])\n",
    "        \n",
    "        for i in range(1, len(coordinates)):\n",
    "            if (coordinates[i][1]- coordinates[0][1])/ (coordinates[i][0]- coordinates[0][0])!= tan:\n",
    "                return False\n",
    "        return True"
   ]
  },
  {
   "attachments": {},
   "cell_type": "markdown",
   "metadata": {},
   "source": []
  }
 ],
 "metadata": {
  "kernelspec": {
   "display_name": "base",
   "language": "python",
   "name": "python3"
  },
  "language_info": {
   "codemirror_mode": {
    "name": "ipython",
    "version": 3
   },
   "file_extension": ".py",
   "mimetype": "text/x-python",
   "name": "python",
   "nbconvert_exporter": "python",
   "pygments_lexer": "ipython3",
   "version": "3.9.13"
  },
  "orig_nbformat": 4
 },
 "nbformat": 4,
 "nbformat_minor": 2
}
