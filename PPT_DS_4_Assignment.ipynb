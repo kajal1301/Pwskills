{
  "nbformat": 4,
  "nbformat_minor": 0,
  "metadata": {
    "colab": {
      "provenance": [],
      "authorship_tag": "ABX9TyMwmqgMmk6mltnkGz4Bu+XP",
      "include_colab_link": true
    },
    "kernelspec": {
      "name": "python3",
      "display_name": "Python 3"
    },
    "language_info": {
      "name": "python"
    }
  },
  "cells": [
    {
      "cell_type": "markdown",
      "metadata": {
        "id": "view-in-github",
        "colab_type": "text"
      },
      "source": [
        "<a href=\"https://colab.research.google.com/github/kajal1301/Pwskills/blob/main/PPT_DS_4_Assignment.ipynb\" target=\"_parent\"><img src=\"https://colab.research.google.com/assets/colab-badge.svg\" alt=\"Open In Colab\"/></a>"
      ]
    },
    {
      "cell_type": "markdown",
      "source": [
        "## General Linear Model:\n",
        "\n",
        "\n"
      ],
      "metadata": {
        "id": "8wLi8BsR7uEI"
      }
    },
    {
      "cell_type": "markdown",
      "source": [
        "### 1. What is the purpose of the General Linear Model (GLM)?\n"
      ],
      "metadata": {
        "id": "YZV9ddpw7zIl"
      }
    },
    {
      "cell_type": "markdown",
      "source": [
        "* General linear model (GLM) is used to analyse and understand the relationship\n",
        "between a dependent variable (output feature) and one or more independent variables.\n",
        "* It is widely used in various felids such as regression analysis analysis of variance (ANOVA) and analysis of covariance (ANCOVA).\n",
        "* GLM assumes that dependent variable follows a normal distribution and the relationship between dependend and independent variable is linear.\n",
        "* GLM provides a framework for hypothesis testing, model comparison and estimation of parameters.\n",
        "\n"
      ],
      "metadata": {
        "id": "kYSb6vrgP3M3"
      }
    },
    {
      "cell_type": "markdown",
      "source": [
        "### 2. What are the key assumptions of the General Linear Model?\n"
      ],
      "metadata": {
        "id": "89q0qy4c7zF7"
      }
    },
    {
      "cell_type": "markdown",
      "source": [
        "Key assumptions of General Linear Model are:-\n",
        "1.\tLinearity : GLM assumes that the relationship between dependent variable and independent variables is linear.\n",
        "2.\tIndependence: This states that there should be no systematic relationship or dependency between the independent variables. If this condition violates, it can lead to biased and inefficient estimates.\n",
        "3.\tHomoscedasticity: Homoscedasticity assumes that variance of errors is constant across all independent variables.\n",
        "4.\tNormality: GLM assures that the errors or residuals follow normal distribution. This is necessary for hypothesis testing, confidence interval and model inderence.\n",
        "5.\tNo Multicollinearity: It refers to degree of correlation between independent variables. GLM assumes that independent variables are not correlated with each other.\n",
        "6.\tNo Endogeneity: GLM assumes that there is no correlation between the error term and one or more independent variables. Which if happens can lead to biased and inconsistent estimates.\n",
        "7.\tCorrect Specification: GLM assumes that model is correctly specified. Means the functional form of relationship between the variables is accurately represented in the model\n"
      ],
      "metadata": {
        "id": "pe8ROCv3QEbj"
      }
    },
    {
      "cell_type": "markdown",
      "source": [
        "### 3. How do you interpret the coefficients in a GLM?\n"
      ],
      "metadata": {
        "id": "Fmwm8dVj7zDy"
      }
    },
    {
      "cell_type": "markdown",
      "source": [
        "The cofficients in GLM depends on the specific model and variables used. In general coefficients provide information about the magnitude and direction of the effect that each independent variable has on the dependent variable, assuming all other variables in the model are held constant.\n",
        "1.\tcoefficient sign:  (+ or - ) sign indicates the direction of the relationship between the independent and dependent variable.\n",
        "2.\tMagnitude: magnitude reflects the size of effect that the independent variable has on the dependent variable, all else being equal.\n",
        "3.\tStatistical Significance: the statistical significance of a coefficient is determined by its p-value.\n",
        "4.\tAdjusted vs Unadjusted Coefficients: Model with independent variable might have adjusted coefficients sometimes. Adjusted coefficients provide a more accurate estimate of the relationship between a specific independent variable and dependent variable.\n"
      ],
      "metadata": {
        "id": "t0BhO8JfQK4i"
      }
    },
    {
      "cell_type": "markdown",
      "source": [
        "### 4. What is the difference between a univariate and multivariate GLM?\n",
        "\n"
      ],
      "metadata": {
        "id": "Gaa5a3pO7zA7"
      }
    },
    {
      "cell_type": "markdown",
      "source": [
        "In **univariate GLM**, a single dependent variable is present having more than 1 independent variables. The goal of this model is to explain the variation of the sinhle dependent varuable with other independent variables.\n",
        "Example: linear regression, logistic regression\n",
        "\n",
        "---\n",
        "\n",
        "\n",
        "In **Multivariate GLM**, there are multiple dependent variables analyzed simultaneously by taking their relationships into account with their predictor variables.\n",
        "Example: multivariate regression, multivariate analysis of variance (MANOVA)\n"
      ],
      "metadata": {
        "id": "zVgocvawQPR3"
      }
    },
    {
      "cell_type": "markdown",
      "source": [
        "### 5. Explain the concept of interaction effects in a GLM.\n"
      ],
      "metadata": {
        "id": "4xdl-Rd57y9_"
      }
    },
    {
      "cell_type": "markdown",
      "source": [
        "In GLM, Interaction effects refer to the combined effect of two or more independent variables on the dependent variable that is greater (or lesser) than the sum of their individual effects. There are two kinds of interaction effects:\n",
        "1. Simple Interaction: A simple interaction occurs when one independent variable on the another independent variable.\n",
        "2. Complex Interaction: It occues whenone independent variable is dependent on two or more dependent variables."
      ],
      "metadata": {
        "id": "SloleOq2RjoB"
      }
    },
    {
      "cell_type": "markdown",
      "source": [
        "### 6. How do you handle categorical predictors in a GLM?\n"
      ],
      "metadata": {
        "id": "aoAwxmSM7y7a"
      }
    },
    {
      "cell_type": "markdown",
      "source": [
        "In GLM categorical variables are handled via data encoding. Some of the data encoding techniques are:\n",
        "1.\t**One hot encoding**: In One Hot Encoding, each category is represented as a binary vector, where each bit corresponds to a unique category.\n",
        "Disadvantage of this type of encoding is that if we are having 100 categorical features, this will create 100 features which will increase dimensionality of data.\n",
        "Also it will create a sparse matrix.\n",
        "\n",
        "2. **Label Encoding**: It assigns a unique numerical label to each category in the variable.\n",
        "\tDisadvantage: it randomly assigns number as per alphabetical order and thus it might decrease the importance of a categorical variable.\n",
        "3. **Ordinal Encoding**: It helps assign ranks to the labels/ categorical data. In this technique each category is assigned a neumerical value based on its position in the order.\n",
        "4. **Target guided Ordinal Encoding**: this technique is used to encode each categorical variable based on their relationship with the target variable. This encoding is useful when we have a categorical variable with large number of unique categories. Here, we replace categorical variable with a numerical value based on the mean and median of the target variable for that category.\n",
        "\n"
      ],
      "metadata": {
        "id": "C5VFXwP0QzJx"
      }
    },
    {
      "cell_type": "markdown",
      "source": [
        "### 7. What is the purpose of the design matrix in a GLM?\n"
      ],
      "metadata": {
        "id": "V4ACURnV7y4f"
      }
    },
    {
      "cell_type": "markdown",
      "source": [
        "Design matrix is a crucial component of GLM. It is a structured representation of independent variables in GLM organised in matrix format.\n",
        "The purpose of design matrix in GLM are:\n",
        "1. Encoding Independent Variables : The design matrix represents independent variables in a structured manner where each matrix corresponds to a specific independent variable, and each row corresponds to an observation or data point. It encodes the values of the independent variables for each observation, allowing GLM to incorporate them into the model.\n",
        "2. Incorporating Nonlinear Relationships:\n",
        "The design matrix can include  interactions of the original independent variables to analyse nonlinear relationships between the predictors and the dependent variable.\n",
        "\n",
        "3. Handling Categorical Variables:\n",
        "It is important to handle categorical variables in GLM as model only understands numerical value. This is done by data encoding.\n",
        "4. Estimating Coefficients:\n",
        "The design matrix allows the GLM to estimate the coefficients for each independent variable. By incorporating the design matrix into the GLM's estimation procedure, the model determines the relationship between the independent variables and the dependent variable, estimating the magnitude and significance of the effects of each predictor.\n",
        "\n",
        "5. Making Predictions:\n",
        "Once the GLM estimates the coefficients, the design matrix is used to make predictions for new, unseen data points. By multiplying the design matrix of the new data with the estimated coefficients, the GLM can generate predictions for the dependent variable based on the values of the independent variables.\n",
        "\n"
      ],
      "metadata": {
        "id": "VqIfpi-jTkbs"
      }
    },
    {
      "cell_type": "markdown",
      "source": [
        "### 8. How do you test the significance of predictors in a GLM?\n"
      ],
      "metadata": {
        "id": "GK78dUXe7y1y"
      }
    },
    {
      "cell_type": "markdown",
      "source": [
        "We can test significance of predictors in GLM by following ways:\n",
        "1. Hypothesis testing\n",
        "2. Chi square test\n",
        "3. ANOVA test\n",
        "4. By estimating coefficients\n"
      ],
      "metadata": {
        "id": "rGEUFD-8UxEk"
      }
    },
    {
      "cell_type": "markdown",
      "source": [
        "### 9. What is the difference between Type I, Type II, and Type III sums of squares in a GLM?\n"
      ],
      "metadata": {
        "id": "a2TqqsxS7yyq"
      }
    },
    {
      "cell_type": "markdown",
      "source": [
        "**TYPE I sums of squares**:Type I Sums of Squares, or also called Sequential Sums of Squares, assign variation to the different variables in a sequential order.\n",
        "**TYPE II Sums of square: **\n",
        "**TYPE III Sums of square: **"
      ],
      "metadata": {
        "id": "stEw-dcwVowJ"
      }
    },
    {
      "cell_type": "markdown",
      "source": [
        "### 10. Explain the concept of deviance in a GLM."
      ],
      "metadata": {
        "id": "M9R-hDwF7yv7"
      }
    },
    {
      "cell_type": "markdown",
      "source": [
        "In a GLM, deviance is a measure of goodness of fit of the model. It quantifies the discrepency between the observed data and the predictions made by the model.\n",
        "The deviance is calculated as follows:\n",
        "\n",
        "Deviance = -2 * (log-likelihood of fitted model - log-likelihood of saturated model)"
      ],
      "metadata": {
        "id": "-kux5bD07ytX"
      }
    },
    {
      "cell_type": "markdown",
      "source": [
        "## Regression:\n",
        "\n",
        "\n"
      ],
      "metadata": {
        "id": "Vi4iVS0y7yqN"
      }
    },
    {
      "cell_type": "markdown",
      "source": [
        "11. What is regression analysis and what is its purpose?\n"
      ],
      "metadata": {
        "id": "XEqhiYrI7ynL"
      }
    },
    {
      "cell_type": "markdown",
      "source": [
        "Regression is a kind of Supervised Machine Learning which is used when the dependent feature is having continuous value.\n",
        "\n",
        "For example : heights of students in the class.\n",
        "The purpose of regression analysis is to find the relationship between independent and dependent features where the dependent (output) variable is having continuous values."
      ],
      "metadata": {
        "id": "GmGAhZ3PX05g"
      }
    },
    {
      "cell_type": "markdown",
      "source": [
        "12. What is the difference between simple linear regression and multiple linear regression?\n"
      ],
      "metadata": {
        "id": "S4OJmI2pYUKj"
      }
    },
    {
      "cell_type": "markdown",
      "source": [
        "In **simple linear Regression**, there is only 1 independent variable which is used to estimate or predict the dependent variable. Here we can assume that the dependent variable is having a linear relationship witht he independent variable. The goal here is to find the best fit line that minimizes the difference between the observed values and predicted values based on linear relationship.\n",
        "\n",
        "In Multiple Linear Regression, There are two or more than 3 independent variables that are used to estimate or predict the dependent variable. The goal here is to find the best fit line or hyperplane that minimizes the relationship between multiple independent variables and the dependent variable."
      ],
      "metadata": {
        "id": "1IoZ0RH1YUHs"
      }
    },
    {
      "cell_type": "markdown",
      "source": [
        "### 13. How do you interpret the R-squared value in regression?"
      ],
      "metadata": {
        "id": "pkQXBoltYUFU"
      }
    },
    {
      "cell_type": "markdown",
      "source": [
        "R-squared is also known as coefficient of determination. It is a statistical measure that represents the proportion of variance in the dependent variable that is explained by the independent variables in a regression model.\n",
        " * R-squared= 1 - SS_res/SS_total\n",
        "* where SS_res= sum of squares of residuals\n",
        "* SS_total= sum of squares of total\n",
        " * It ranges between 0 and 1.\n",
        " * If R-square value reaches towards 1, then this is the case of overfitting.\n",
        ""
      ],
      "metadata": {
        "id": "i1AxfgtpZeRC"
      }
    },
    {
      "cell_type": "markdown",
      "source": [
        "### 14. What is the difference between correlation and regression?\n"
      ],
      "metadata": {
        "id": "j78kSlZFZeNa"
      }
    },
    {
      "cell_type": "markdown",
      "source": [
        "Correlation is a satistical measure that establishes the relationships between two variables."
      ],
      "metadata": {
        "id": "Pn2artNzZeKP"
      }
    },
    {
      "cell_type": "markdown",
      "source": [],
      "metadata": {
        "id": "W79MsJ0oZeFc"
      }
    },
    {
      "cell_type": "markdown",
      "source": [],
      "metadata": {
        "id": "CxiQaKj9ZeCl"
      }
    },
    {
      "cell_type": "markdown",
      "source": [],
      "metadata": {
        "id": "6VSFt0ECZd_0"
      }
    },
    {
      "cell_type": "markdown",
      "source": [],
      "metadata": {
        "id": "rJRBj1TfYUCx"
      }
    },
    {
      "cell_type": "markdown",
      "source": [
        "\n",
        "14. What is the difference between correlation and regression?\n",
        "15. What is the difference between the coefficients and the intercept in regression?\n",
        "16. How do you handle outliers in regression analysis?\n",
        "17. What is the difference between ridge regression and ordinary least squares regression?\n",
        "18. What is heteroscedasticity in regression and how does it affect the model?\n",
        "19. How do you handle multicollinearity in regression analysis?\n",
        "20. What is polynomial regression and when is it used?"
      ],
      "metadata": {
        "id": "03C-0dRDYT_2"
      }
    },
    {
      "cell_type": "markdown",
      "source": [],
      "metadata": {
        "id": "hfSDPom1YT9o"
      }
    },
    {
      "cell_type": "markdown",
      "source": [],
      "metadata": {
        "id": "nm8E_mjpYT62"
      }
    },
    {
      "cell_type": "markdown",
      "source": [],
      "metadata": {
        "id": "VZN20zP9YT4F"
      }
    },
    {
      "cell_type": "markdown",
      "source": [],
      "metadata": {
        "id": "AW1zgkVKYT1M"
      }
    },
    {
      "cell_type": "markdown",
      "source": [],
      "metadata": {
        "id": "s1-JREUlYTxo"
      }
    },
    {
      "cell_type": "markdown",
      "source": [],
      "metadata": {
        "id": "I5uSBtc8YTtG"
      }
    },
    {
      "cell_type": "code",
      "execution_count": null,
      "metadata": {
        "id": "Kpa6GskP7hHm"
      },
      "outputs": [],
      "source": []
    }
  ]
}