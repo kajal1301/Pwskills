{
  "nbformat": 4,
  "nbformat_minor": 0,
  "metadata": {
    "colab": {
      "provenance": [],
      "authorship_tag": "ABX9TyOz/5XffLnpfM84HQPzhClt",
      "include_colab_link": true
    },
    "kernelspec": {
      "name": "python3",
      "display_name": "Python 3"
    },
    "language_info": {
      "name": "python"
    }
  },
  "cells": [
    {
      "cell_type": "markdown",
      "metadata": {
        "id": "view-in-github",
        "colab_type": "text"
      },
      "source": [
        "<a href=\"https://colab.research.google.com/github/kajal1301/Pwskills/blob/main/PPT_DS_4_Assignment.ipynb\" target=\"_parent\"><img src=\"https://colab.research.google.com/assets/colab-badge.svg\" alt=\"Open In Colab\"/></a>"
      ]
    },
    {
      "cell_type": "markdown",
      "source": [
        "## General Linear Model:\n",
        "\n",
        "\n"
      ],
      "metadata": {
        "id": "8wLi8BsR7uEI"
      }
    },
    {
      "cell_type": "markdown",
      "source": [
        "1. What is the purpose of the General Linear Model (GLM)?\n"
      ],
      "metadata": {
        "id": "YZV9ddpw7zIl"
      }
    },
    {
      "cell_type": "markdown",
      "source": [
        "2. What are the key assumptions of the General Linear Model?\n"
      ],
      "metadata": {
        "id": "89q0qy4c7zF7"
      }
    },
    {
      "cell_type": "markdown",
      "source": [
        "3. How do you interpret the coefficients in a GLM?\n"
      ],
      "metadata": {
        "id": "Fmwm8dVj7zDy"
      }
    },
    {
      "cell_type": "markdown",
      "source": [
        "4. What is the difference between a univariate and multivariate GLM?\n",
        "\n"
      ],
      "metadata": {
        "id": "Gaa5a3pO7zA7"
      }
    },
    {
      "cell_type": "markdown",
      "source": [
        "5. Explain the concept of interaction effects in a GLM.\n"
      ],
      "metadata": {
        "id": "4xdl-Rd57y9_"
      }
    },
    {
      "cell_type": "markdown",
      "source": [
        "6. How do you handle categorical predictors in a GLM?\n"
      ],
      "metadata": {
        "id": "aoAwxmSM7y7a"
      }
    },
    {
      "cell_type": "markdown",
      "source": [
        "7. What is the purpose of the design matrix in a GLM?\n"
      ],
      "metadata": {
        "id": "V4ACURnV7y4f"
      }
    },
    {
      "cell_type": "markdown",
      "source": [
        "8. How do you test the significance of predictors in a GLM?\n"
      ],
      "metadata": {
        "id": "GK78dUXe7y1y"
      }
    },
    {
      "cell_type": "markdown",
      "source": [
        "9. What is the difference between Type I, Type II, and Type III sums of squares in a GLM?\n"
      ],
      "metadata": {
        "id": "a2TqqsxS7yyq"
      }
    },
    {
      "cell_type": "markdown",
      "source": [
        "10. Explain the concept of deviance in a GLM."
      ],
      "metadata": {
        "id": "M9R-hDwF7yv7"
      }
    },
    {
      "cell_type": "markdown",
      "source": [],
      "metadata": {
        "id": "-kux5bD07ytX"
      }
    },
    {
      "cell_type": "markdown",
      "source": [],
      "metadata": {
        "id": "Vi4iVS0y7yqN"
      }
    },
    {
      "cell_type": "markdown",
      "source": [],
      "metadata": {
        "id": "XEqhiYrI7ynL"
      }
    },
    {
      "cell_type": "code",
      "execution_count": null,
      "metadata": {
        "id": "Kpa6GskP7hHm"
      },
      "outputs": [],
      "source": []
    }
  ]
}