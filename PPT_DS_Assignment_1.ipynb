{
  "nbformat": 4,
  "nbformat_minor": 0,
  "metadata": {
    "colab": {
      "provenance": [],
      "authorship_tag": "ABX9TyMQifJJfkgNZS8eWVj/q9Hr",
      "include_colab_link": true
    },
    "kernelspec": {
      "name": "python3",
      "display_name": "Python 3"
    },
    "language_info": {
      "name": "python"
    }
  },
  "cells": [
    {
      "cell_type": "markdown",
      "metadata": {
        "id": "view-in-github",
        "colab_type": "text"
      },
      "source": [
        "<a href=\"https://colab.research.google.com/github/kajal1301/Pwskills/blob/main/PPT_DS_Assignment_1.ipynb\" target=\"_parent\"><img src=\"https://colab.research.google.com/assets/colab-badge.svg\" alt=\"Open In Colab\"/></a>"
      ]
    },
    {
      "cell_type": "code",
      "execution_count": null,
      "metadata": {
        "colab": {
          "base_uri": "https://localhost:8080/"
        },
        "id": "YYQ0I0Hs9kW-",
        "outputId": "f5677cf7-d91d-4c57-fc2d-70510896e1e1"
      },
      "outputs": [
        {
          "output_type": "stream",
          "name": "stdout",
          "text": [
            "Enter a string:- hello\n",
            "olleh\n"
          ]
        }
      ],
      "source": [
        "#1. Write a Python program to reverse a string without using any built-in string reversal functions.\n",
        "s= input(\"Enter a string:- \")\n",
        "output_string=''\n",
        "#string reversal\n",
        "for i in range(len(s)-1,-1,-1):\n",
        "  output_string+=str(s[i])\n",
        "print(output_string)"
      ]
    },
    {
      "cell_type": "code",
      "source": [
        "#2. Implement a function to check if a given string is a palindrome.\n",
        "str1= input(\"Enter string:- \")\n",
        "Flag= 1\n",
        "str1= str1.lower()\n",
        "m,n= 0,len(str1)-1\n",
        "while n>m:\n",
        "  if str1[n]!= str1[m]:\n",
        "    Flag = False\n",
        "    break\n",
        "  m+=1\n",
        "  n-=1\n",
        "print(\"The Given string is palindrome\") if Flag else print(\"The given string is not palindrome\")\n",
        "\n"
      ],
      "metadata": {
        "colab": {
          "base_uri": "https://localhost:8080/"
        },
        "id": "2BebrhOn99Ev",
        "outputId": "40485a07-523b-44f2-d805-9651e1a986a4"
      },
      "execution_count": null,
      "outputs": [
        {
          "output_type": "stream",
          "name": "stdout",
          "text": [
            "Enter string:- racecar\n",
            "The Given string is palindrome\n"
          ]
        }
      ]
    },
    {
      "cell_type": "code",
      "source": [
        "#3. Write a program to find the largest element in a given list.\n",
        "num1= list(map(int,input(\"Enter list:- \").split(',')))\n",
        "# method 1\n",
        "print(max(num1))\n",
        "\n",
        "## method 2:\n",
        "max_num= num1[0]\n",
        "for i in num1[1:]:\n",
        "  if max_num<i:\n",
        "    max_num=i\n",
        "print(\"The largest element in given list is:- \",max_num)\n"
      ],
      "metadata": {
        "colab": {
          "base_uri": "https://localhost:8080/"
        },
        "id": "ElClWS1C_nbA",
        "outputId": "3993cca7-cdca-4485-996a-fec9944ad59c"
      },
      "execution_count": null,
      "outputs": [
        {
          "output_type": "stream",
          "name": "stdout",
          "text": [
            "Enter list:- 20,1,30,45,2,6,8,3\n",
            "45\n",
            "The largest element in given list is:-  45\n"
          ]
        }
      ]
    },
    {
      "cell_type": "code",
      "source": [
        "#4. Implement a function to count the occurrence of each element in a list.\n",
        "\n",
        "list1= list(map(int,input(\"Enter list:- \").split(',')))\n",
        "target = int(input(\"Enter target number: \"))\n",
        "\n",
        "#method 1:\n",
        "print(list1.count(target))\n",
        "\n",
        "#method 2:\n",
        "count= 0\n",
        "for i in list1:\n",
        "  if target ==i:\n",
        "    count+=1\n",
        "print(f'{target} occured {count} times in the list')\n",
        "\n",
        "#method 3: using dict\n",
        "dict1= {i: list1.count(i) for i in list1}\n",
        "print(dict1.get(target))"
      ],
      "metadata": {
        "colab": {
          "base_uri": "https://localhost:8080/"
        },
        "id": "V7D3A0omAsvk",
        "outputId": "a402f2a2-9c96-4d43-fb72-4db6c8e5e716"
      },
      "execution_count": null,
      "outputs": [
        {
          "output_type": "stream",
          "name": "stdout",
          "text": [
            "Enter list:- 1,2,3,9,6,4,7,3,6,12,5,8,9,9,9,15\n",
            "Enter target number: 5\n",
            "1\n",
            "5 occured 1 times in the list\n",
            "1\n"
          ]
        }
      ]
    },
    {
      "cell_type": "code",
      "source": [
        "#5. Write a Python program to find the second largest number in a list.\n",
        "list5= list(map(int,input(\"Enter list:- \").split(',')))\n",
        "list5.sort(reverse= True)\n",
        "print(f'The second largest number in list is: {list5[1]}')"
      ],
      "metadata": {
        "colab": {
          "base_uri": "https://localhost:8080/"
        },
        "id": "cUaQf40DBreu",
        "outputId": "7d9e1134-ad1a-4eb4-b660-4ca13bb34e5d"
      },
      "execution_count": null,
      "outputs": [
        {
          "output_type": "stream",
          "name": "stdout",
          "text": [
            "Enter list:- 3,45,100,99,88,1,0,4,28\n",
            "The second largest number in list is: 99\n"
          ]
        }
      ]
    },
    {
      "cell_type": "code",
      "source": [
        "#6. Implement a function to remove duplicate elements from a list.\n",
        "list6= list(map(int,input(\"Enter list:- \").split(',')))\n",
        "list6= list(set(list6))\n",
        "print(list6)"
      ],
      "metadata": {
        "colab": {
          "base_uri": "https://localhost:8080/"
        },
        "id": "-Hcl7wHMDdOY",
        "outputId": "aaaad4be-410c-4a50-ed60-96da9d6efcd1"
      },
      "execution_count": null,
      "outputs": [
        {
          "output_type": "stream",
          "name": "stdout",
          "text": [
            "Enter list:- 1,1,1,4,6,7,3,5,7\n",
            "[1, 3, 4, 5, 6, 7]\n"
          ]
        }
      ]
    },
    {
      "cell_type": "code",
      "source": [
        "#7. Write a program to calculate the factorial of a given number.\n",
        "number= int(input(\"Enter Number:- \"))\n",
        "res=1\n",
        "for i in range(2,number+1):\n",
        "  res*=i\n",
        "\n",
        "print(f'The factorial of {number} is {res}')"
      ],
      "metadata": {
        "colab": {
          "base_uri": "https://localhost:8080/"
        },
        "id": "plQK7fL_Dumo",
        "outputId": "a2cf7f91-cf38-4e70-dbaf-0f43a8fe55d3"
      },
      "execution_count": null,
      "outputs": [
        {
          "output_type": "stream",
          "name": "stdout",
          "text": [
            "Enter Number:- 6\n",
            "The factorial of 6 is 720\n"
          ]
        }
      ]
    },
    {
      "cell_type": "code",
      "source": [
        "#8. Implement a function to check if a given number is prime.\n",
        "number8= int(input(\"Enter Number:- \"))\n",
        "prime= True\n",
        "for i in range(2,number8//2+1):\n",
        "  if number8%i==0:\n",
        "    prime=False\n",
        "    break\n",
        "if prime:\n",
        "  print(f'{number8} is prime number')\n",
        "else:\n",
        "  print(f'{number8} is not prime number')"
      ],
      "metadata": {
        "colab": {
          "base_uri": "https://localhost:8080/"
        },
        "id": "8amJKfKJEOan",
        "outputId": "843bac56-c885-43e2-d484-8fb837be0c4d"
      },
      "execution_count": null,
      "outputs": [
        {
          "output_type": "stream",
          "name": "stdout",
          "text": [
            "Enter Number:- 479\n",
            "479 is prime number\n"
          ]
        }
      ]
    },
    {
      "cell_type": "code",
      "source": [
        "#9. Write a Python program to sort a list of integers in ascending order.\n",
        "list9= list(map(int,input(\"Enter list:- \").split(',')))\n",
        "\n",
        "#method 1\n",
        "print(sorted(list9))\n",
        "\n",
        "#method 2: without using sort-\n",
        "for i in range(len(list9)-1):\n",
        "  for j in range(i+1,len(list9)):\n",
        "    if list9[i]>list9[j]:\n",
        "      list9[i],list9[j]=list9[j],list9[i]\n",
        "\n",
        "print(f'List after sorting: {list9}')"
      ],
      "metadata": {
        "colab": {
          "base_uri": "https://localhost:8080/"
        },
        "id": "eiLFGvkPFXc5",
        "outputId": "0e799b37-2fa4-4032-e382-9861f1b075c8"
      },
      "execution_count": null,
      "outputs": [
        {
          "output_type": "stream",
          "name": "stdout",
          "text": [
            "Enter list:- 3,4,6,23,56,7,1,6\n",
            "[1, 3, 4, 6, 6, 7, 23, 56]\n",
            "List after sorting: [1, 3, 4, 6, 6, 7, 23, 56]\n"
          ]
        }
      ]
    },
    {
      "cell_type": "code",
      "source": [
        "#10. Implement a function to find the sum of all numbers in a list.\n",
        "list_10= list(map(int,input(\"Enter list:- \").split(',')))\n",
        "\n",
        "#method 1:\n",
        "print(sum(list_10))\n",
        "\n",
        "#method 2 : without using function\n",
        "ans=0\n",
        "for i in list_10:\n",
        "  ans+=i\n",
        "print(f'Sum of the list is : {ans}')"
      ],
      "metadata": {
        "colab": {
          "base_uri": "https://localhost:8080/"
        },
        "id": "AaDhpwTPHUqX",
        "outputId": "49b19aca-7b92-4078-f3a4-35ab1db85fd9"
      },
      "execution_count": null,
      "outputs": [
        {
          "output_type": "stream",
          "name": "stdout",
          "text": [
            "Enter list:- 1,2,5,3,6,7\n",
            "24\n",
            "Sum of the list is : 24\n"
          ]
        }
      ]
    },
    {
      "cell_type": "code",
      "source": [
        "#11. Write a program to find the common elements between two lists.\n",
        "list_11_1= list(map(int,input(\"Enter 1st list:- \").split(',')))\n",
        "list_11_2= list(map(int,input(\"Enter 2nd list:- \").split(',')))\n",
        "\n",
        "#method 1 set intersection method:\n",
        "list_11_1 = set(list_11_1)\n",
        "list_11_2= set(list_11_2)\n",
        "print(f'The common elements in {list_11_1} and {list_11_2} are {list_11_1.intersection(list_11_2)}')\n",
        "\n",
        "#method 2:\n",
        "common=[]\n",
        "for i in list_11_1:\n",
        "  if i in list_11_2:\n",
        "    common.append(i)\n",
        "print(f'The common elements in {list_11_1} and {list_11_2} are {common}')"
      ],
      "metadata": {
        "id": "05TPV5vqHyrw",
        "colab": {
          "base_uri": "https://localhost:8080/"
        },
        "outputId": "66750268-a763-4041-bd70-0fd672b3a2fc"
      },
      "execution_count": null,
      "outputs": [
        {
          "output_type": "stream",
          "name": "stdout",
          "text": [
            "Enter 1st list:- 1,2,3,4,5\n",
            "Enter 2nd list:- 3,4,5,6,7\n",
            "The common elements in {1, 2, 3, 4, 5} and {3, 4, 5, 6, 7} are {3, 4, 5}\n",
            "The common elements in {1, 2, 3, 4, 5} and {3, 4, 5, 6, 7} are [3, 4, 5]\n"
          ]
        }
      ]
    },
    {
      "cell_type": "code",
      "source": [
        "#12. Implement a function to check if a given string is an anagram of another string.\n",
        "def is_anagram(str1,str2):\n",
        "  if sorted(str1)== sorted(str2):\n",
        "    return True\n",
        "  else:\n",
        "    return False\n",
        "str_1= input(\"Enter string 1:- \")\n",
        "str_2= input(\"Enter string 2:- \")\n",
        "if is_anagram(str_1,str_2):\n",
        "  print(f'{str_1} and {str_2} are anagrams')\n",
        "else:\n",
        "  print(f'{str_1} and {str_2} are not anagrams')\n"
      ],
      "metadata": {
        "colab": {
          "base_uri": "https://localhost:8080/"
        },
        "id": "4bXxU96jopBz",
        "outputId": "404b5fcd-dbf9-47e5-a838-89aaf5c8582a"
      },
      "execution_count": null,
      "outputs": [
        {
          "output_type": "stream",
          "name": "stdout",
          "text": [
            "Enter string 1:- listen\n",
            "Enter string 2:- silent\n",
            "listen and silent are anagrams\n"
          ]
        }
      ]
    },
    {
      "cell_type": "code",
      "source": [
        "#13. Write a Python program to generate all permutations of a given string.\n",
        "str_13= input(\"Enter String:- \")\n",
        "#method 1: with built in function\n",
        "from itertools import permutations\n",
        "p= permutations(str_13)\n",
        "a=[]\n",
        "output=[]\n",
        "for i in p:\n",
        "  a.append(list(i))\n",
        "  for k in a:\n",
        "    b= ''.join(str(j) for j in k)\n",
        "    output.append(b)\n",
        "\n",
        "print(set(output))\n",
        "#method 2: without built in function\n",
        "def get_permutation(str1):\n",
        "  if len(str1)==1:\n",
        "    return [str1]\n",
        "  else:\n",
        "    perm=[]\n",
        "    for i,c in enumerate(str1):\n",
        "      for j in get_permutation(str1[:i]+str1[i+1:]):\n",
        "        perm.append(c+j)\n",
        "    return perm\n",
        "print(f'All possible permutation of {str_13} are {get_permutation(str_13)}')"
      ],
      "metadata": {
        "colab": {
          "base_uri": "https://localhost:8080/"
        },
        "id": "0sCEMNBmpsNL",
        "outputId": "e33e95d9-960f-4a02-9130-460cf2553fe6"
      },
      "execution_count": 103,
      "outputs": [
        {
          "output_type": "stream",
          "name": "stdout",
          "text": [
            "Enter String:- abc\n",
            "{'abc', 'bac', 'cba', 'bca', 'acb', 'cab'}\n",
            "All possible permutation of abc are ['abc', 'acb', 'bac', 'bca', 'cab', 'cba']\n"
          ]
        }
      ]
    },
    {
      "cell_type": "code",
      "source": [
        "\n",
        "#14. Implement a function to calculate the Fibonacci sequence up to a given number of terms.\n",
        "n= int(input())\n",
        "def fibo(n):\n",
        "  if n==0:\n",
        "    return 0\n",
        "  elif n==1:\n",
        "    return 1\n",
        "  else:\n",
        "    a=0\n",
        "    b=1\n",
        "    for i in range(1,n):\n",
        "      c= a+b\n",
        "      a=b\n",
        "      b=c\n",
        "    return b\n",
        "print(f'Fibonacci sequence upto {n} is {fibo(n)}')\n",
        "\n",
        "#method 2: to get fibonacci series:\n",
        "from functools import reduce\n",
        "fib = lambda n:reduce(lambda x,i: x+[x[-1]+x[-2]],range(n-2),[0,1])\n",
        "print(fib(n))"
      ],
      "metadata": {
        "colab": {
          "base_uri": "https://localhost:8080/"
        },
        "id": "PWCcFGygqWnh",
        "outputId": "c76a41f5-7fff-403d-a0e2-7b17e0aa9c55"
      },
      "execution_count": null,
      "outputs": [
        {
          "output_type": "stream",
          "name": "stdout",
          "text": [
            "10\n",
            "Fibonacci sequence upto 10 is 55\n",
            "[0, 1, 1, 2, 3, 5, 8, 13, 21, 34]\n"
          ]
        }
      ]
    },
    {
      "cell_type": "code",
      "source": [
        "#15. Write a program to find the median of a list of numbers.\n",
        "import statistics as st\n",
        "list_15= list(map(int,input(\"Enter the list:- \").split(',')))\n",
        "print(st.median(list_15))\n",
        "\n",
        "#method 2:\n",
        "list_15.sort()\n",
        "n= len(list_15)\n",
        "if n%2 == 0:\n",
        "  med= (list_15[n//2-1]+ list_15[n//2])/2\n",
        "else:\n",
        "  med= list_15[n//2]\n",
        "print(f'Median of given list is: {med}')"
      ],
      "metadata": {
        "colab": {
          "base_uri": "https://localhost:8080/"
        },
        "id": "b3TIVpOh74OM",
        "outputId": "9f3a5d83-9751-4c20-9d29-0e93f9f90a87"
      },
      "execution_count": null,
      "outputs": [
        {
          "output_type": "stream",
          "name": "stdout",
          "text": [
            "Enter 1st list:- 4, 5, 8, 9, 10, 17,22,21,24,26\n",
            "13.5\n",
            "Median of given list is: 13.5\n"
          ]
        }
      ]
    },
    {
      "cell_type": "code",
      "source": [
        "#16. Implement a function to check if a given list is sorted in non-decreasing order.\n",
        "list_16= list(map(int,input(\"Enter the list:- \").split(',')))\n",
        "if list_16 == sorted(list_16):\n",
        "  print(\"Given list is sorted in non-decreasing order\")\n",
        "else:\n",
        "  print(\"List is not sorted in non-decreasing order\")"
      ],
      "metadata": {
        "colab": {
          "base_uri": "https://localhost:8080/"
        },
        "id": "n7D0xjaQGt_W",
        "outputId": "ef1c6e96-5629-4b47-8cce-e2f845ea10a4"
      },
      "execution_count": null,
      "outputs": [
        {
          "output_type": "stream",
          "name": "stdout",
          "text": [
            "Enter 1st list:- 4, 5, 8, 9, 10\n",
            "Given list is sorted in non-decreasing order\n"
          ]
        }
      ]
    },
    {
      "cell_type": "code",
      "source": [
        "#17. Write a Python program to find the intersection of two lists.\n",
        "list_1= list(map(int,input(\"Enter 1st list:- \").split(',')))\n",
        "list_2= list(map(int,input(\"Enter 2nd list:- \").split(',')))\n",
        "print(set(list_1).intersection(set(list_2)))"
      ],
      "metadata": {
        "colab": {
          "base_uri": "https://localhost:8080/"
        },
        "id": "PyBDS_k1H8W5",
        "outputId": "259d8efc-afba-47b0-bd96-c12994439093"
      },
      "execution_count": null,
      "outputs": [
        {
          "output_type": "stream",
          "name": "stdout",
          "text": [
            "Enter 1st list:- 4, 5, 8, 9, 10\n",
            "Enter 2nd list:- 8, 9, 10,13,15,17\n",
            "{8, 9, 10}\n"
          ]
        }
      ]
    },
    {
      "cell_type": "code",
      "source": [
        "#18. Implement a function to find the maximum subarray sum in a given list.\n",
        "arr= list(map(int,input(\"Enter array:- \").split(',')))\n",
        "sum1=arr[0]\n",
        "max1=arr[0]\n",
        "for i in range(1,len(arr)):\n",
        "  sum1= max(sum1+arr[i],arr[i])\n",
        "  max1= max(max1,sum1)\n",
        "print(f'Sum of maximum subarray of given array is {max1}')\n",
        "\n"
      ],
      "metadata": {
        "id": "wrQFcmgPIX-J",
        "colab": {
          "base_uri": "https://localhost:8080/"
        },
        "outputId": "c2a62f17-0617-4a45-8742-98f035356f25"
      },
      "execution_count": null,
      "outputs": [
        {
          "output_type": "stream",
          "name": "stdout",
          "text": [
            "Enter array:- -2,1,-3,4,-1,2,1,-5,4\n",
            "Sum of maximum subarray of given array is 6\n"
          ]
        }
      ]
    },
    {
      "cell_type": "code",
      "source": [
        "#19. Write a program to remove all vowels from a given string.\n",
        "str_19= input(\"Enter String:- \")\n",
        "vow= ['a','e','i','o','u']\n",
        "output= []\n",
        "for i in str_19:\n",
        "  if i not in vow:\n",
        "    output.append(i)\n",
        "\n",
        "print(''.join(output))"
      ],
      "metadata": {
        "colab": {
          "base_uri": "https://localhost:8080/"
        },
        "id": "LapwtzA4-cTy",
        "outputId": "d5a0773e-fc4d-4c23-f2b4-f0a388dd08ac"
      },
      "execution_count": null,
      "outputs": [
        {
          "output_type": "stream",
          "name": "stdout",
          "text": [
            "Enter String:- helloEveryone\n",
            "hllEvryn\n"
          ]
        }
      ]
    },
    {
      "cell_type": "code",
      "source": [
        "#20. Implement a function to reverse the order of words in a given sentence.\n",
        "str_20= input(\"Enter Sentence:- \")\n",
        "l1= str_20.split(' ')\n",
        "print(f\"The output after reversing this sentence is: {' '.join(l1[::-1])}\")"
      ],
      "metadata": {
        "colab": {
          "base_uri": "https://localhost:8080/"
        },
        "id": "KiCr1_ii_AIC",
        "outputId": "5ebfbfb6-4a09-4de0-a549-2d95e10b8119"
      },
      "execution_count": null,
      "outputs": [
        {
          "output_type": "stream",
          "name": "stdout",
          "text": [
            "Enter Sentence:- I am kajal mishra\n",
            "The output after reversing this sentence is: mishra kajal am I\n"
          ]
        }
      ]
    },
    {
      "cell_type": "code",
      "source": [
        "#21. Write a Python program to check if two strings are anagrams of each other.\n",
        "def is_anagram(str1,str2):\n",
        "  if sorted(str1)== sorted(str2):\n",
        "    return True\n",
        "  else:\n",
        "    return False\n",
        "str_21_1= input(\"Enter string 1:- \")\n",
        "str_21_2= input(\"Enter string 2:- \")\n",
        "if is_anagram(str_21_1,str_21_2):\n",
        "  print(f'{str_21_1} and {str_21_2} are anagrams')\n",
        "else:\n",
        "  print(f'{str_21_1} and {str_21_2} are not anagrams')"
      ],
      "metadata": {
        "colab": {
          "base_uri": "https://localhost:8080/"
        },
        "id": "0b2hBg9v_dBf",
        "outputId": "7bfd3f2f-4b39-4bac-fc54-edce12ab86f7"
      },
      "execution_count": null,
      "outputs": [
        {
          "output_type": "stream",
          "name": "stdout",
          "text": [
            "Enter string 1:- silent\n",
            "Enter string 2:- listen\n",
            "silent and listen are anagrams\n"
          ]
        }
      ]
    },
    {
      "cell_type": "code",
      "source": [
        "#22. Implement a function to find the first non-repeating character in a string.\n",
        "str_22= input(\"Enter string:- \")\n",
        "for i in range(len(str_22)-1):\n",
        "  if str_22[i] in str_22[i+1:]:\n",
        "      print(f\"First non-repeating character in string is {str_22[i]}\")\n",
        "      break\n"
      ],
      "metadata": {
        "id": "yrYRAkC2_3zC",
        "colab": {
          "base_uri": "https://localhost:8080/"
        },
        "outputId": "2b58638a-853a-40f6-86d3-8abc53bc40bd"
      },
      "execution_count": 16,
      "outputs": [
        {
          "output_type": "stream",
          "name": "stdout",
          "text": [
            "Enter string:- thisisastring\n",
            "First non-repeating character in string is t\n"
          ]
        }
      ]
    },
    {
      "cell_type": "code",
      "source": [
        "#23. Write a program to find the prime factors of a given number.\n",
        "n= int(input(\"Enter a number: \"))\n",
        "factor=[]\n",
        "for i in range(1,n//2+1):\n",
        "  if n%i == 0:\n",
        "    factor.append(i)\n",
        "factor.append(n)\n",
        "print(f'Factors of {n} are {factor}')"
      ],
      "metadata": {
        "colab": {
          "base_uri": "https://localhost:8080/"
        },
        "id": "_-FEycvRrY-J",
        "outputId": "0c5e6c77-fd95-401b-9222-09cdc95d97fa"
      },
      "execution_count": 23,
      "outputs": [
        {
          "output_type": "stream",
          "name": "stdout",
          "text": [
            "Enter a number: 105\n",
            "Factors of 105 are [1, 3, 5, 7, 15, 21, 35, 105]\n"
          ]
        }
      ]
    },
    {
      "cell_type": "code",
      "source": [
        "#24. Implement a function to check if a given number is a power of two.\n",
        "n= int(input(\"Enter a number: \"))\n",
        "def power_of_two(n):\n",
        "  if n==1:\n",
        "   return True\n",
        "  elif n==0:\n",
        "    return False\n",
        "  elif n%2!=0:\n",
        "    return False\n",
        "  else:\n",
        "    return power_of_two(n/2)\n",
        "if power_of_two(n):\n",
        "  print(f'{n} is a power of 2')\n",
        "else:\n",
        "  print(f'{n} is not power of 2')"
      ],
      "metadata": {
        "colab": {
          "base_uri": "https://localhost:8080/"
        },
        "id": "Nhwe8zO0seO2",
        "outputId": "cebd0ba0-4bad-4fac-aba0-341435113edb"
      },
      "execution_count": 26,
      "outputs": [
        {
          "output_type": "stream",
          "name": "stdout",
          "text": [
            "Enter a number: 36\n",
            "36 is not power of 2\n"
          ]
        }
      ]
    },
    {
      "cell_type": "code",
      "source": [
        "#25. Write a Python program to merge two sorted lists into a single sorted list.\n",
        "list_1= list(map(int,input(\"Enter 1st list:- \").split(',')))\n",
        "list_2= list(map(int,input(\"Enter 2nd list:- \").split(',')))\n",
        "\n",
        "#method 1:\n",
        "res= list_1+list_2\n",
        "print(sorted(res))\n",
        "\n",
        "#method 2:\n",
        "m= len(list_1)\n",
        "n= len(list_2)\n",
        "res=[]\n",
        "i,j= 0,0\n",
        "while i<m and j<n:\n",
        "  if list_1[i]< list_2[j]:\n",
        "    res.append(list_1[i])\n",
        "    i+=1\n",
        "  else:\n",
        "    res.append(list_2[j])\n",
        "    j+=1\n",
        "res.extend(list_1[i:])\n",
        "res.extend(list_2[j:])\n",
        "print(f'merged lists are {res}')\n",
        "\n"
      ],
      "metadata": {
        "colab": {
          "base_uri": "https://localhost:8080/"
        },
        "id": "krdhSF_Pt0Hb",
        "outputId": "6d073654-b38d-4498-ab81-eb98d5123305"
      },
      "execution_count": 44,
      "outputs": [
        {
          "output_type": "stream",
          "name": "stdout",
          "text": [
            "Enter 1st list:- 2,4,6,8,10\n",
            "Enter 2nd list:- 1,2,3,4,5\n",
            "[1, 2, 2, 3, 4, 4, 5, 6, 8, 10]\n",
            "merged lists are [1, 2, 2, 3, 4, 4, 5, 6, 8, 10]\n"
          ]
        }
      ]
    },
    {
      "cell_type": "code",
      "source": [
        "#26. Implement a function to find the mode of a list of numbers.\n",
        "from collections import Counter\n",
        "import statistics as st\n",
        "nums=  list(map(int,input(\"Enter list:- \").split(',')))\n",
        "n= len(nums)\n",
        "\n",
        "#method 1\n",
        "dict1= dict(Counter(nums))\n",
        "print(dict1)\n",
        "for i,j in dict1.items():\n",
        "  if j== max(dict1.values()):\n",
        "    mode= i\n",
        "print(\"Mode: \", mode)\n",
        "\n",
        "#method 2\n",
        "print(st.mode(nums))"
      ],
      "metadata": {
        "colab": {
          "base_uri": "https://localhost:8080/"
        },
        "id": "7iewYFsyvS24",
        "outputId": "20fbadae-b909-497a-e88a-9fe7ef4e5310"
      },
      "execution_count": 47,
      "outputs": [
        {
          "output_type": "stream",
          "name": "stdout",
          "text": [
            "Enter list:- 1, 2, 3, 4, 5, 5\n",
            "{1: 1, 2: 1, 3: 1, 4: 1, 5: 2}\n",
            "Mode:  5\n",
            "5\n"
          ]
        }
      ]
    },
    {
      "cell_type": "code",
      "source": [
        "#27. Write a program to find the greatest common divisor (GCD) of two numbers.\n",
        "num1= int(input(\"Enter 1st number:\"))\n",
        "num2= int(input(\"Enter 2nd number:\"))\n",
        "\n",
        "#method 1\n",
        "import math\n",
        "print(f' GCD of {num1} and {num2} is {math.gcd(num1,num2)}')\n",
        "\n",
        "#method 2\n",
        "def gcd(n1,n2):\n",
        "  if n2==0:\n",
        "    return n1\n",
        "  else:\n",
        "    return gcd(n2,n1%n2)\n",
        "print(f' GCD of {num1} and {num2} is {gcd(num1,num2)}')"
      ],
      "metadata": {
        "colab": {
          "base_uri": "https://localhost:8080/"
        },
        "id": "BfvCNbUwwwdL",
        "outputId": "2ade8e4f-38c4-4a8c-f66c-3e52f3df0fb1"
      },
      "execution_count": 50,
      "outputs": [
        {
          "output_type": "stream",
          "name": "stdout",
          "text": [
            "Enter 1st number:60\n",
            "Enter 2nd number:48\n",
            " GCD of 60 and 48 is 12\n",
            " GCD of 60 and 48 is 12\n"
          ]
        }
      ]
    },
    {
      "cell_type": "code",
      "source": [
        "#28. Implement a function to calculate the square root of a given number.\n",
        "num=int(input(\"Enter a number: \"))\n",
        "#method 1\n",
        "print(f'Square root of {num} is {num**0.5}')\n",
        "\n",
        "#method 2\n",
        "def sqr_root(num):\n",
        "  if num== 0 or num==1:\n",
        "    return num\n",
        "  else:\n",
        "    i= 1\n",
        "    while i<= num//i:\n",
        "      if num/i== i:\n",
        "        return i\n",
        "      i+=1\n",
        "    return i-1\n",
        "\n",
        "print(f'Square root of {num} is {sqr_root(num)}')\n"
      ],
      "metadata": {
        "colab": {
          "base_uri": "https://localhost:8080/"
        },
        "id": "_j2M1om7023O",
        "outputId": "2e920238-ada8-44fd-f030-167858bef80d"
      },
      "execution_count": 122,
      "outputs": [
        {
          "output_type": "stream",
          "name": "stdout",
          "text": [
            "Enter a number: 8\n",
            "Square root of 8 is 2.8284271247461903\n",
            "Square root of 8 is 2\n"
          ]
        }
      ]
    },
    {
      "cell_type": "code",
      "source": [
        "#29. Write a Python program to check if a given string is a valid palindrome ignoring non-alphanumeric characters.\n",
        "str1= input(\"Enter string:- \")\n",
        "s = ''.join([c.lower() for c in str1 if c.isalnum()])\n",
        "rev = ''.join(reversed(s))\n",
        "if(s == rev):\n",
        "    print(\"String is palindrome\")\n",
        "else:\n",
        "  print(\"String is not palindrome\")"
      ],
      "metadata": {
        "colab": {
          "base_uri": "https://localhost:8080/"
        },
        "id": "emTYveAT3VU5",
        "outputId": "9100a42b-8cf4-4d2a-aa9f-fc6e45510b80"
      },
      "execution_count": 59,
      "outputs": [
        {
          "output_type": "stream",
          "name": "stdout",
          "text": [
            "Enter string:- A man, a plan, a canal: Panama\n",
            "String is palindrome\n"
          ]
        }
      ]
    },
    {
      "cell_type": "code",
      "source": [
        "#30. Implement a function to find the minimum element in a rotated sorted list.\n",
        "list_30= list(map(int,input(\"Enter list:- \").split(',')))\n",
        "left,right= 0,len(list_30)-1\n",
        "while left<right:\n",
        "    med= (left+right)//2\n",
        "    if list_30[med]>list_30[right]:\n",
        "        left = med+1\n",
        "    else:\n",
        "        right= med\n",
        "\n",
        "print(f'Minimum element in the rotated sorted list is: {list_30[left]}')"
      ],
      "metadata": {
        "colab": {
          "base_uri": "https://localhost:8080/"
        },
        "id": "fq2cQqkVQB15",
        "outputId": "78df7b82-945c-4fb3-a5e0-266b7c5f341d"
      },
      "execution_count": 60,
      "outputs": [
        {
          "output_type": "stream",
          "name": "stdout",
          "text": [
            "Enter list:- 3,4,5,1,2\n",
            "Minimum element in the rotated sorted list is: 1\n"
          ]
        }
      ]
    },
    {
      "cell_type": "code",
      "source": [
        "#31. Write a program to find the sum of all even numbers in a list.\n",
        "list_31= list(map(int,input(\"Enter list:- \").split(',')))\n",
        "evens= [i for i in list_31 if i%2==0]\n",
        "print(sum(evens))"
      ],
      "metadata": {
        "colab": {
          "base_uri": "https://localhost:8080/"
        },
        "id": "FY98X-xiQkZF",
        "outputId": "c49e29a8-807a-435e-f106-0ef9943a327f"
      },
      "execution_count": 64,
      "outputs": [
        {
          "output_type": "stream",
          "name": "stdout",
          "text": [
            "Enter list:- 4,5,6,7,0,1,2\n",
            "12\n"
          ]
        }
      ]
    },
    {
      "cell_type": "code",
      "source": [
        "#32. Implement a function to calculate the power of a number using recursion.\n",
        "n= list(map(int,input(\"Enter x,n :- \").split(',')))[:2]\n",
        "def power(x,n):\n",
        "  if n == 0:\n",
        "      return 1\n",
        "  elif n< 0:\n",
        "      x= 1/x\n",
        "      n= -n\n",
        "      return pow(x,n)\n",
        "  else:\n",
        "      res = power(x,n//2)\n",
        "      if n%2==0:\n",
        "          return res*res\n",
        "      else:\n",
        "          return x*res*res\n",
        "\n",
        "print(f'Power of {n} is {power(n[0],n[1])}')"
      ],
      "metadata": {
        "colab": {
          "base_uri": "https://localhost:8080/"
        },
        "id": "8XPudRsCQ6iE",
        "outputId": "0111c7d1-3f90-45c5-a295-bf991033b3d5"
      },
      "execution_count": 68,
      "outputs": [
        {
          "output_type": "stream",
          "name": "stdout",
          "text": [
            "Enter x,n :- 2,10\n",
            "Power of [2, 10] is 1024\n"
          ]
        }
      ]
    },
    {
      "cell_type": "code",
      "source": [
        "#33. Write a Python program to remove duplicates from a list while preserving the order.\n",
        "n= list(map(int,input(\"Enter list :- \").split(',')))\n",
        "output=[]\n",
        "for i in n:\n",
        "  if i not in output:\n",
        "    output.append(i)\n",
        "print(f'After removing duplicates, the output list is {output}')\n"
      ],
      "metadata": {
        "colab": {
          "base_uri": "https://localhost:8080/"
        },
        "id": "cHL6PaS7R0o4",
        "outputId": "7fe07749-4cbe-41d0-aa62-79ac63a60aab"
      },
      "execution_count": 69,
      "outputs": [
        {
          "output_type": "stream",
          "name": "stdout",
          "text": [
            "Enter list :- 2, 4, 10, 20, 5, 2, 20, 4\n",
            "After removing duplicates, the output list is [2, 4, 10, 20, 5]\n"
          ]
        }
      ]
    },
    {
      "cell_type": "code",
      "source": [
        "#34. Implement a function to find the longest common prefix among a list of strings.\n",
        "strs= list(map(str,input(\"Enter strings :- \").split(',')))\n",
        "def longest_common_prefix(strs):\n",
        "  if not strs:\n",
        "      return \"\"\n",
        "  shortest= min(strs)\n",
        "  for i in range(len(shortest)):\n",
        "      for j in strs:\n",
        "          if j[i]!= shortest[i]:\n",
        "              return shortest[:i] if i>0 else ''\n",
        "  return shortest\n",
        "print(f'Longest common substring is: {longest_common_prefix(strs)}')"
      ],
      "metadata": {
        "colab": {
          "base_uri": "https://localhost:8080/"
        },
        "id": "ivGeZiLnTGbF",
        "outputId": "e43ba038-f9e8-4a4f-cc4d-39ebdf1e170d"
      },
      "execution_count": 71,
      "outputs": [
        {
          "output_type": "stream",
          "name": "stdout",
          "text": [
            "Enter strings :- \"flower\",\"flow\",\"flight\"\n",
            "Longest common substring is: \"fl\n"
          ]
        }
      ]
    },
    {
      "cell_type": "code",
      "source": [
        "#35. Write a program to check if a given number is a perfect square.\n",
        "n= int(input(\"Enter Number:- \"))\n",
        "flag= 0\n",
        "for i in range(n):\n",
        "  if i**2 == n:\n",
        "   flag= 1\n",
        "if flag:\n",
        "  print(\"The number is a perfect square\")\n",
        "else:\n",
        "  print(\"The number is not a perfect square\")"
      ],
      "metadata": {
        "colab": {
          "base_uri": "https://localhost:8080/"
        },
        "id": "fUtuCt92UwoM",
        "outputId": "7faba30e-a99c-4079-9e8c-ae7f230d3ff0"
      },
      "execution_count": 73,
      "outputs": [
        {
          "output_type": "stream",
          "name": "stdout",
          "text": [
            "Enter Number:- 35\n",
            "The number is not a perfect square\n"
          ]
        }
      ]
    },
    {
      "cell_type": "code",
      "source": [
        "#36. Implement a function to calculate the product of all elements in a list.\n",
        "nums=list(map(int,input(\"Enter list :- \").split(',')))\n",
        "#print(nums)\n",
        "def prod_list(nums):\n",
        "  prod1=1\n",
        "  for i in nums:\n",
        "    prod1*=i\n",
        "    #print(prod1)\n",
        "  return prod1\n",
        "print(f'The product of all elements in list is: {prod_list(nums)}')"
      ],
      "metadata": {
        "colab": {
          "base_uri": "https://localhost:8080/"
        },
        "id": "sLitCnskWC_z",
        "outputId": "a68813f9-284f-4c18-a1b5-91fb741d0e6c"
      },
      "execution_count": 77,
      "outputs": [
        {
          "output_type": "stream",
          "name": "stdout",
          "text": [
            "Enter list :- 2,4,7,4,2\n",
            "The product of all elements in list is: 448\n"
          ]
        }
      ]
    },
    {
      "cell_type": "code",
      "source": [
        "#37. Write a Python program to reverse the order of words in a sentence while preserving the word order.\n",
        "\n",
        "str_20= input(\"Enter Sentence:- \")\n",
        "l1= str_20.split(' ')\n",
        "print(f\"The output after reversing this sentence is: {' '.join(i[::-1] for i in l1)}\")"
      ],
      "metadata": {
        "colab": {
          "base_uri": "https://localhost:8080/"
        },
        "id": "KuF0NH1XW2k5",
        "outputId": "1715f6ee-01c1-48cb-d6de-3ad1cd4ad928"
      },
      "execution_count": 80,
      "outputs": [
        {
          "output_type": "stream",
          "name": "stdout",
          "text": [
            "Enter Sentence:- Hi there, lets solve this assignment\n",
            "The output after reversing this sentence is: iH ,ereht stel evlos siht tnemngissa\n"
          ]
        }
      ]
    },
    {
      "cell_type": "code",
      "source": [
        "#38. Implement a function to find the missing number in a given list of consecutive numbers.\n",
        "nums= list(map(int,input(\"Enter list :- \").split(',')))\n",
        "m= max(nums)\n",
        "miss=0\n",
        "for i in range(m+1):\n",
        "    if i not in nums:\n",
        "        miss= i\n",
        "if miss:\n",
        "  print('the missing number in list is: ',(miss))\n",
        "else:\n",
        "   print('the missing number in list is: ',(m+1))"
      ],
      "metadata": {
        "colab": {
          "base_uri": "https://localhost:8080/"
        },
        "id": "WoShV8BVXoHo",
        "outputId": "df2c7672-faab-4074-c79c-b79d7461aec2"
      },
      "execution_count": 83,
      "outputs": [
        {
          "output_type": "stream",
          "name": "stdout",
          "text": [
            "Enter list :- 9,6,4,2,3,5,7,0,1\n",
            "the missing number in list is:  8\n"
          ]
        }
      ]
    },
    {
      "cell_type": "code",
      "source": [
        "#39. Write a program to find the sum of digits of a given number.\n",
        "num = int(input(\"Enter number: \"))\n",
        "def addDigits(num) :\n",
        "    if num <10:\n",
        "        return num\n",
        "    elif num==10:\n",
        "        return 1\n",
        "    else:\n",
        "        ans = 0\n",
        "        while num!=0:\n",
        "            ans+= num%10\n",
        "            num= num//10\n",
        "        num=ans\n",
        "        if num >=10:\n",
        "            return addDigits(num)\n",
        "    return num\n",
        "print(f'Sum of all digits of {num} is {addDigits(num)}')"
      ],
      "metadata": {
        "colab": {
          "base_uri": "https://localhost:8080/"
        },
        "id": "0_Nd_JRYYcuZ",
        "outputId": "12d7fa6d-0f7e-441b-bae9-21c30ee2fcc8"
      },
      "execution_count": 84,
      "outputs": [
        {
          "output_type": "stream",
          "name": "stdout",
          "text": [
            "Enter number: 38\n",
            "Sum of all digits of 38 is 2\n"
          ]
        }
      ]
    },
    {
      "cell_type": "code",
      "source": [
        "#40. Implement a function to check if a given string is a valid palindrome considering case sensitivity.\n",
        "str1= input(\"Enter string:- \")\n",
        "def is_palindrome(str1):\n",
        "  Flag= 1\n",
        "  m,n= 0,len(str1)-1\n",
        "  while n>m:\n",
        "    if str1[n]!= str1[m]:\n",
        "      Flag = False\n",
        "      break\n",
        "    m+=1\n",
        "    n-=1\n",
        "  return Flag\n",
        "\n",
        "print(\"The Given string is palindrome\") if is_palindrome(str1) else print(\"The given string is not palindrome\")\n"
      ],
      "metadata": {
        "colab": {
          "base_uri": "https://localhost:8080/"
        },
        "id": "hV-Tpko-ZHiB",
        "outputId": "2a671d25-8fb3-46c2-8891-2af7ed128313"
      },
      "execution_count": 86,
      "outputs": [
        {
          "output_type": "stream",
          "name": "stdout",
          "text": [
            "Enter string:- racecar\n",
            "The Given string is palindrome\n"
          ]
        }
      ]
    },
    {
      "cell_type": "code",
      "source": [
        "str2= input(\"Enter string:- \")\n",
        "print(\"The Given string is palindrome\") if is_palindrome(str2) else print(\"The given string is not palindrome\")"
      ],
      "metadata": {
        "colab": {
          "base_uri": "https://localhost:8080/"
        },
        "id": "QOdOvoqPZrBi",
        "outputId": "63bab635-5fbd-4229-e260-3601ee40e254"
      },
      "execution_count": 88,
      "outputs": [
        {
          "output_type": "stream",
          "name": "stdout",
          "text": [
            "Enter string:- RaceCar\n",
            "The given string is not palindrome\n"
          ]
        }
      ]
    },
    {
      "cell_type": "code",
      "source": [
        "\n",
        "#41. Write a Python program to find the smallest missing positive integer in a list.\n",
        "nums= list(map(int,input(\"Enter list :- \").split(',')))\n",
        "def first_missing_positive(nums):\n",
        "  maxi = len(nums)\n",
        "  if maxi and max(nums)>=0:\n",
        "      for i in range(1, max(nums)):\n",
        "          if i not in nums: return i\n",
        "      return max(nums)+1\n",
        "  return 1\n",
        "print(f'The smallest missing positive in the list is {smallest_missing_positive(nums)}')"
      ],
      "metadata": {
        "colab": {
          "base_uri": "https://localhost:8080/"
        },
        "id": "zYDVIx2kaAaU",
        "outputId": "cb2a0997-f48b-4cac-bacb-6181c21684d9"
      },
      "execution_count": 124,
      "outputs": [
        {
          "output_type": "stream",
          "name": "stdout",
          "text": [
            "Enter list :- 2, 3, 7, 6, 8, -1, -10, 15\n",
            "The smallest missing positive in the list is 1\n"
          ]
        }
      ]
    },
    {
      "cell_type": "code",
      "source": [
        "#42. Implement a function to find the longest palindrome substring in a given string.\n",
        "s =input(\"Enter string: \")\n",
        "def longest_palindrome(s):\n",
        "  longest_palindrom = ''\n",
        "  dp = [[0]*len(s) for _ in range(len(s))]\n",
        "  for i in range(len(s)):\n",
        "      dp[i][i] = True\n",
        "      longest_palindrom = s[i]\n",
        "\n",
        "  for i in range(len(s)-1,-1,-1):\n",
        "      for j in range(i+1,len(s)):\n",
        "          if s[i] == s[j]:\n",
        "              if j-i ==1 or dp[i+1][j-1] is True:\n",
        "                  dp[i][j] = True\n",
        "                  if len(longest_palindrom) < len(s[i:j+1]):\n",
        "                      longest_palindrom = s[i:j+1]\n",
        "\n",
        "  return longest_palindrom\n",
        "\n",
        "print(\"Longest Palindrome Substring is :\",longest_palindrome(s))"
      ],
      "metadata": {
        "colab": {
          "base_uri": "https://localhost:8080/"
        },
        "id": "JQSw74G4ahMn",
        "outputId": "e2d1a9c4-b339-41fe-9811-05dbd9d58ea2"
      },
      "execution_count": 129,
      "outputs": [
        {
          "output_type": "stream",
          "name": "stdout",
          "text": [
            "Enter string: babad\n",
            "Longest Palindrome Substring is : aba\n"
          ]
        }
      ]
    },
    {
      "cell_type": "code",
      "source": [
        "#43. Write a program to find the number of occurrences of a given element in a list.\n",
        "from collections import Counter\n",
        "l1= list(map(int,input(\"Enter list :- \").split(',')))\n",
        "x= int(input(\"Enter a number\"))\n",
        "print(f'{x} has occurred {Counter(l1)[x]} times in the given list')"
      ],
      "metadata": {
        "colab": {
          "base_uri": "https://localhost:8080/"
        },
        "id": "VRR78QYQa-UH",
        "outputId": "e9eb4dbe-ad03-4d8c-dc5e-5b5748746c3f"
      },
      "execution_count": 90,
      "outputs": [
        {
          "output_type": "stream",
          "name": "stdout",
          "text": [
            "Enter list :- 1, 1, 2, 2, 3, 3, 4, 4, 5, 5\n",
            "Enter a number3\n",
            "3 has occurred 2 times in the given list\n"
          ]
        }
      ]
    },
    {
      "cell_type": "code",
      "source": [
        "#44. Implement a function to check if a given number is a perfect number.\n",
        "n= int(input(\"Enter a number\"))\n",
        "def checkPerfectNumber(self, num: int) -> bool:\n",
        "  if num>0:\n",
        "    if num== 6 or num == 28 or num == 496 or num== 8128 or num== 33550336:\n",
        "      return True\n",
        "  else:\n",
        "    return False\n",
        "print(f'{n} is a perfect number' if checkPerfectNumber else '{n} is not a Perfect number')\n"
      ],
      "metadata": {
        "colab": {
          "base_uri": "https://localhost:8080/"
        },
        "id": "qkBaI6XgbtLE",
        "outputId": "a4f753d7-78c1-4be1-82c7-78369566842c"
      },
      "execution_count": 91,
      "outputs": [
        {
          "output_type": "stream",
          "name": "stdout",
          "text": [
            "Enter a number28\n",
            "28 is a perfect number\n"
          ]
        }
      ]
    },
    {
      "cell_type": "code",
      "source": [
        "#45. Write a Python program to remove all duplicates from a string.\n",
        "str1= input(\"enter String\")\n",
        "from collections import Counter\n",
        "dict1= Counter(str1)\n",
        "for i in str1:\n",
        "  if dict1[i]!=0:\n",
        "    print(i,end='')\n",
        "    dict1[i]=0"
      ],
      "metadata": {
        "colab": {
          "base_uri": "https://localhost:8080/"
        },
        "id": "5D1evep7cMnd",
        "outputId": "10b214c6-cf1c-45c3-88dc-96eecf1a50e3"
      },
      "execution_count": 93,
      "outputs": [
        {
          "output_type": "stream",
          "name": "stdout",
          "text": [
            "enter Stringletsfinishthisassignment\n",
            "letsfinhagm"
          ]
        }
      ]
    },
    {
      "cell_type": "code",
      "source": [
        "#46. Implement a function to find the first missing positive\n",
        "nums= list(map(int,input(\"Enter list :- \").split(',')))\n",
        "def first_missing_positive(nums):\n",
        "  maxi = len(nums)\n",
        "  if maxi and max(nums)>=0:\n",
        "      for i in range(1, max(nums)):\n",
        "          if i not in nums: return i\n",
        "      return max(nums)+1\n",
        "  return 1\n",
        "print(f'The first missing positive in the list is {first_missing_positive(nums)}')"
      ],
      "metadata": {
        "colab": {
          "base_uri": "https://localhost:8080/"
        },
        "id": "0RXhTB-mdGVa",
        "outputId": "d03dbbbf-feb8-4a94-b3d2-e1c494228871"
      },
      "execution_count": 94,
      "outputs": [
        {
          "output_type": "stream",
          "name": "stdout",
          "text": [
            "Enter list :- 1,2,0\n",
            "The first missing positive in the list is 3\n"
          ]
        }
      ]
    },
    {
      "cell_type": "code",
      "source": [],
      "metadata": {
        "id": "VodLMCnTdgLE"
      },
      "execution_count": null,
      "outputs": []
    }
  ]
}