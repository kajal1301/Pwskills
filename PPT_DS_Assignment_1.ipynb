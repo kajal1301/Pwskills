{
  "nbformat": 4,
  "nbformat_minor": 0,
  "metadata": {
    "colab": {
      "provenance": [],
      "authorship_tag": "ABX9TyMI6rkc2RXspf5sMbcJTICO",
      "include_colab_link": true
    },
    "kernelspec": {
      "name": "python3",
      "display_name": "Python 3"
    },
    "language_info": {
      "name": "python"
    }
  },
  "cells": [
    {
      "cell_type": "markdown",
      "metadata": {
        "id": "view-in-github",
        "colab_type": "text"
      },
      "source": [
        "<a href=\"https://colab.research.google.com/github/kajal1301/Pwskills/blob/main/PPT_DS_Assignment_1.ipynb\" target=\"_parent\"><img src=\"https://colab.research.google.com/assets/colab-badge.svg\" alt=\"Open In Colab\"/></a>"
      ]
    },
    {
      "cell_type": "code",
      "execution_count": null,
      "metadata": {
        "colab": {
          "base_uri": "https://localhost:8080/"
        },
        "id": "YYQ0I0Hs9kW-",
        "outputId": "f5677cf7-d91d-4c57-fc2d-70510896e1e1"
      },
      "outputs": [
        {
          "output_type": "stream",
          "name": "stdout",
          "text": [
            "Enter a string:- hello\n",
            "olleh\n"
          ]
        }
      ],
      "source": [
        "#1. Write a Python program to reverse a string without using any built-in string reversal functions.\n",
        "s= input(\"Enter a string:- \")\n",
        "output_string=''\n",
        "#string reversal\n",
        "for i in range(len(s)-1,-1,-1):\n",
        "  output_string+=str(s[i])\n",
        "print(output_string)"
      ]
    },
    {
      "cell_type": "code",
      "source": [
        "#2. Implement a function to check if a given string is a palindrome.\n",
        "str1= input(\"Enter string:- \")\n",
        "Flag= 1\n",
        "str1= str1.lower()\n",
        "m,n= 0,len(str1)-1\n",
        "while n>m:\n",
        "  if str1[n]!= str1[m]:\n",
        "    Flag = False\n",
        "    break\n",
        "  m+=1\n",
        "  n-=1\n",
        "print(\"The Given string is palindrome\") if Flag else print(\"The given string is not palindrome\")\n",
        "\n"
      ],
      "metadata": {
        "colab": {
          "base_uri": "https://localhost:8080/"
        },
        "id": "2BebrhOn99Ev",
        "outputId": "40485a07-523b-44f2-d805-9651e1a986a4"
      },
      "execution_count": null,
      "outputs": [
        {
          "output_type": "stream",
          "name": "stdout",
          "text": [
            "Enter string:- racecar\n",
            "The Given string is palindrome\n"
          ]
        }
      ]
    },
    {
      "cell_type": "code",
      "source": [
        "#3. Write a program to find the largest element in a given list.\n",
        "num1= list(map(int,input(\"Enter list:- \").split(',')))\n",
        "# method 1\n",
        "print(max(num1))\n",
        "\n",
        "## method 2:\n",
        "max_num= num1[0]\n",
        "for i in num1[1:]:\n",
        "  if max_num<i:\n",
        "    max_num=i\n",
        "print(\"The largest element in given list is:- \",max_num)\n"
      ],
      "metadata": {
        "colab": {
          "base_uri": "https://localhost:8080/"
        },
        "id": "ElClWS1C_nbA",
        "outputId": "3993cca7-cdca-4485-996a-fec9944ad59c"
      },
      "execution_count": null,
      "outputs": [
        {
          "output_type": "stream",
          "name": "stdout",
          "text": [
            "Enter list:- 20,1,30,45,2,6,8,3\n",
            "45\n",
            "The largest element in given list is:-  45\n"
          ]
        }
      ]
    },
    {
      "cell_type": "code",
      "source": [
        "#4. Implement a function to count the occurrence of each element in a list.\n",
        "\n",
        "list1= list(map(int,input(\"Enter list:- \").split(',')))\n",
        "target = int(input(\"Enter target number: \"))\n",
        "\n",
        "#method 1:\n",
        "print(list1.count(target))\n",
        "\n",
        "#method 2:\n",
        "count= 0\n",
        "for i in list1:\n",
        "  if target ==i:\n",
        "    count+=1\n",
        "print(f'{target} occured {count} times in the list')\n",
        "\n",
        "#method 3: using dict\n",
        "dict1= {i: list1.count(i) for i in list1}\n",
        "print(dict1.get(target))"
      ],
      "metadata": {
        "colab": {
          "base_uri": "https://localhost:8080/"
        },
        "id": "V7D3A0omAsvk",
        "outputId": "a402f2a2-9c96-4d43-fb72-4db6c8e5e716"
      },
      "execution_count": null,
      "outputs": [
        {
          "output_type": "stream",
          "name": "stdout",
          "text": [
            "Enter list:- 1,2,3,9,6,4,7,3,6,12,5,8,9,9,9,15\n",
            "Enter target number: 5\n",
            "1\n",
            "5 occured 1 times in the list\n",
            "1\n"
          ]
        }
      ]
    },
    {
      "cell_type": "code",
      "source": [
        "#5. Write a Python program to find the second largest number in a list.\n",
        "list5= list(map(int,input(\"Enter list:- \").split(',')))\n",
        "list5.sort(reverse= True)\n",
        "print(f'The second largest number in list is: {list5[1]}')"
      ],
      "metadata": {
        "colab": {
          "base_uri": "https://localhost:8080/"
        },
        "id": "cUaQf40DBreu",
        "outputId": "7d9e1134-ad1a-4eb4-b660-4ca13bb34e5d"
      },
      "execution_count": null,
      "outputs": [
        {
          "output_type": "stream",
          "name": "stdout",
          "text": [
            "Enter list:- 3,45,100,99,88,1,0,4,28\n",
            "The second largest number in list is: 99\n"
          ]
        }
      ]
    },
    {
      "cell_type": "code",
      "source": [
        "#6. Implement a function to remove duplicate elements from a list.\n",
        "list6= list(map(int,input(\"Enter list:- \").split(',')))\n",
        "list6= list(set(list6))\n",
        "print(list6)"
      ],
      "metadata": {
        "colab": {
          "base_uri": "https://localhost:8080/"
        },
        "id": "-Hcl7wHMDdOY",
        "outputId": "aaaad4be-410c-4a50-ed60-96da9d6efcd1"
      },
      "execution_count": null,
      "outputs": [
        {
          "output_type": "stream",
          "name": "stdout",
          "text": [
            "Enter list:- 1,1,1,4,6,7,3,5,7\n",
            "[1, 3, 4, 5, 6, 7]\n"
          ]
        }
      ]
    },
    {
      "cell_type": "code",
      "source": [
        "#7. Write a program to calculate the factorial of a given number.\n",
        "number= int(input(\"Enter Number:- \"))\n",
        "res=1\n",
        "for i in range(2,number+1):\n",
        "  res*=i\n",
        "\n",
        "print(f'The factorial of {number} is {res}')"
      ],
      "metadata": {
        "colab": {
          "base_uri": "https://localhost:8080/"
        },
        "id": "plQK7fL_Dumo",
        "outputId": "a2cf7f91-cf38-4e70-dbaf-0f43a8fe55d3"
      },
      "execution_count": null,
      "outputs": [
        {
          "output_type": "stream",
          "name": "stdout",
          "text": [
            "Enter Number:- 6\n",
            "The factorial of 6 is 720\n"
          ]
        }
      ]
    },
    {
      "cell_type": "code",
      "source": [
        "#8. Implement a function to check if a given number is prime.\n",
        "number8= int(input(\"Enter Number:- \"))\n",
        "prime= True\n",
        "for i in range(2,number8//2+1):\n",
        "  if number8%i==0:\n",
        "    prime=False\n",
        "    break\n",
        "if prime:\n",
        "  print(f'{number8} is prime number')\n",
        "else:\n",
        "  print(f'{number8} is not prime number')"
      ],
      "metadata": {
        "colab": {
          "base_uri": "https://localhost:8080/"
        },
        "id": "8amJKfKJEOan",
        "outputId": "843bac56-c885-43e2-d484-8fb837be0c4d"
      },
      "execution_count": null,
      "outputs": [
        {
          "output_type": "stream",
          "name": "stdout",
          "text": [
            "Enter Number:- 479\n",
            "479 is prime number\n"
          ]
        }
      ]
    },
    {
      "cell_type": "code",
      "source": [
        "#9. Write a Python program to sort a list of integers in ascending order.\n",
        "list9= list(map(int,input(\"Enter list:- \").split(',')))\n",
        "\n",
        "#method 1\n",
        "print(sorted(list9))\n",
        "\n",
        "#method 2: without using sort-\n",
        "for i in range(len(list9)-1):\n",
        "  for j in range(i+1,len(list9)):\n",
        "    if list9[i]>list9[j]:\n",
        "      list9[i],list9[j]=list9[j],list9[i]\n",
        "\n",
        "print(f'List after sorting: {list9}')"
      ],
      "metadata": {
        "colab": {
          "base_uri": "https://localhost:8080/"
        },
        "id": "eiLFGvkPFXc5",
        "outputId": "0e799b37-2fa4-4032-e382-9861f1b075c8"
      },
      "execution_count": null,
      "outputs": [
        {
          "output_type": "stream",
          "name": "stdout",
          "text": [
            "Enter list:- 3,4,6,23,56,7,1,6\n",
            "[1, 3, 4, 6, 6, 7, 23, 56]\n",
            "List after sorting: [1, 3, 4, 6, 6, 7, 23, 56]\n"
          ]
        }
      ]
    },
    {
      "cell_type": "code",
      "source": [
        "#10. Implement a function to find the sum of all numbers in a list.\n",
        "list_10= list(map(int,input(\"Enter list:- \").split(',')))\n",
        "\n",
        "#method 1:\n",
        "print(sum(list_10))\n",
        "\n",
        "#method 2 : without using function\n",
        "ans=0\n",
        "for i in list_10:\n",
        "  ans+=i\n",
        "print(f'Sum of the list is : {ans}')"
      ],
      "metadata": {
        "colab": {
          "base_uri": "https://localhost:8080/"
        },
        "id": "AaDhpwTPHUqX",
        "outputId": "49b19aca-7b92-4078-f3a4-35ab1db85fd9"
      },
      "execution_count": null,
      "outputs": [
        {
          "output_type": "stream",
          "name": "stdout",
          "text": [
            "Enter list:- 1,2,5,3,6,7\n",
            "24\n",
            "Sum of the list is : 24\n"
          ]
        }
      ]
    },
    {
      "cell_type": "code",
      "source": [
        "#11. Write a program to find the common elements between two lists.\n",
        "list_11_1= list(map(int,input(\"Enter 1st list:- \").split(',')))\n",
        "list_11_2= list(map(int,input(\"Enter 2nd list:- \").split(',')))\n",
        "\n",
        "#method 1 set intersection method:\n",
        "list_11_1 = set(list_11_1)\n",
        "list_11_2= set(list_11_2)\n",
        "print(f'The common elements in {list_11_1} and {list_11_2} are {list_11_1.intersection(list_11_2)}')\n",
        "\n",
        "#method 2:\n",
        "common=[]\n",
        "for i in list_11_1:\n",
        "  if i in list_11_2:\n",
        "    common.append(i)\n",
        "print(f'The common elements in {list_11_1} and {list_11_2} are {common}')"
      ],
      "metadata": {
        "id": "05TPV5vqHyrw",
        "colab": {
          "base_uri": "https://localhost:8080/"
        },
        "outputId": "66750268-a763-4041-bd70-0fd672b3a2fc"
      },
      "execution_count": 3,
      "outputs": [
        {
          "output_type": "stream",
          "name": "stdout",
          "text": [
            "Enter 1st list:- 1,2,3,4,5\n",
            "Enter 2nd list:- 3,4,5,6,7\n",
            "The common elements in {1, 2, 3, 4, 5} and {3, 4, 5, 6, 7} are {3, 4, 5}\n",
            "The common elements in {1, 2, 3, 4, 5} and {3, 4, 5, 6, 7} are [3, 4, 5]\n"
          ]
        }
      ]
    },
    {
      "cell_type": "code",
      "source": [
        "#12. Implement a function to check if a given string is an anagram of another string.\n",
        "def is_anagram(str1,str2):\n",
        "  if sorted(str1)== sorted(str2):\n",
        "    return True\n",
        "  else:\n",
        "    return False\n",
        "str_1= input(\"Enter string 1:- \")\n",
        "str_2= input(\"Enter string 2:- \")\n",
        "if is_anagram(str_1,str_2):\n",
        "  print(f'{str_1} and {str_2} are anagrams')\n",
        "else:\n",
        "  print(f'{str_1} and {str_2} are not anagrams')\n"
      ],
      "metadata": {
        "colab": {
          "base_uri": "https://localhost:8080/"
        },
        "id": "4bXxU96jopBz",
        "outputId": "404b5fcd-dbf9-47e5-a838-89aaf5c8582a"
      },
      "execution_count": 4,
      "outputs": [
        {
          "output_type": "stream",
          "name": "stdout",
          "text": [
            "Enter string 1:- listen\n",
            "Enter string 2:- silent\n",
            "listen and silent are anagrams\n"
          ]
        }
      ]
    },
    {
      "cell_type": "code",
      "source": [
        "#13. Write a Python program to generate all permutations of a given string.\n",
        "str_13= input(\"Enter String:- \")\n",
        "#method 1: with built in function\n",
        "from itertools import permutations\n",
        "p= permutations(str_13)\n",
        "a=[]\n",
        "output=[]\n",
        "for i in p:\n",
        "  a.append(list(i))\n",
        "  for k in a:\n",
        "    b= ''.join(str(j) for j in k)\n",
        "    output.append(b)\n",
        "\n",
        "print(set(output))\n",
        "#method 2: without built in function\n",
        "def get_permutation(str1,str2):\n",
        "  if len(str1)==0:\n",
        "    return ''.join\n",
        "\n",
        "output=\"\"\n",
        "print(f'All possible permutation of {str_13} are {get_permutation(str_13,output)}')"
      ],
      "metadata": {
        "colab": {
          "base_uri": "https://localhost:8080/",
          "height": 380
        },
        "id": "0sCEMNBmpsNL",
        "outputId": "e199f5b7-ec3e-438b-a14a-bbf1ea40d654"
      },
      "execution_count": 11,
      "outputs": [
        {
          "output_type": "stream",
          "name": "stdout",
          "text": [
            "Enter String:- abc\n",
            "{'acb', 'bca', 'cba', 'bac', 'abc', 'cab'}\n"
          ]
        },
        {
          "output_type": "error",
          "ename": "IndexError",
          "evalue": "ignored",
          "traceback": [
            "\u001b[0;31m---------------------------------------------------------------------------\u001b[0m",
            "\u001b[0;31mIndexError\u001b[0m                                Traceback (most recent call last)",
            "\u001b[0;32m<ipython-input-11-15168655a35e>\u001b[0m in \u001b[0;36m<cell line: 26>\u001b[0;34m()\u001b[0m\n\u001b[1;32m     24\u001b[0m \u001b[0mn\u001b[0m\u001b[0;34m=\u001b[0m \u001b[0mlen\u001b[0m\u001b[0;34m(\u001b[0m\u001b[0mstr_13\u001b[0m\u001b[0;34m)\u001b[0m\u001b[0;34m\u001b[0m\u001b[0;34m\u001b[0m\u001b[0m\n\u001b[1;32m     25\u001b[0m \u001b[0ma\u001b[0m\u001b[0;34m=\u001b[0m\u001b[0mlist\u001b[0m\u001b[0;34m(\u001b[0m\u001b[0mstr_13\u001b[0m\u001b[0;34m)\u001b[0m\u001b[0;34m\u001b[0m\u001b[0;34m\u001b[0m\u001b[0m\n\u001b[0;32m---> 26\u001b[0;31m \u001b[0mprint\u001b[0m\u001b[0;34m(\u001b[0m\u001b[0;34mf'All possible permutation of {str_13} are {get_permutation(a,0,n+1)}'\u001b[0m\u001b[0;34m)\u001b[0m\u001b[0;34m\u001b[0m\u001b[0;34m\u001b[0m\u001b[0m\n\u001b[0m",
            "\u001b[0;32m<ipython-input-11-15168655a35e>\u001b[0m in \u001b[0;36mget_permutation\u001b[0;34m(a, l, r)\u001b[0m\n\u001b[1;32m     20\u001b[0m     \u001b[0;32mfor\u001b[0m \u001b[0mi\u001b[0m \u001b[0;32min\u001b[0m \u001b[0mrange\u001b[0m\u001b[0;34m(\u001b[0m\u001b[0ml\u001b[0m\u001b[0;34m,\u001b[0m\u001b[0mr\u001b[0m\u001b[0;34m+\u001b[0m\u001b[0;36m1\u001b[0m\u001b[0;34m)\u001b[0m\u001b[0;34m:\u001b[0m\u001b[0;34m\u001b[0m\u001b[0;34m\u001b[0m\u001b[0m\n\u001b[1;32m     21\u001b[0m       \u001b[0ma\u001b[0m\u001b[0;34m[\u001b[0m\u001b[0ml\u001b[0m\u001b[0;34m]\u001b[0m\u001b[0;34m,\u001b[0m\u001b[0ma\u001b[0m\u001b[0;34m[\u001b[0m\u001b[0mi\u001b[0m\u001b[0;34m]\u001b[0m\u001b[0;34m=\u001b[0m \u001b[0ma\u001b[0m\u001b[0;34m[\u001b[0m\u001b[0mi\u001b[0m\u001b[0;34m]\u001b[0m\u001b[0;34m,\u001b[0m\u001b[0ma\u001b[0m\u001b[0;34m[\u001b[0m\u001b[0ml\u001b[0m\u001b[0;34m]\u001b[0m\u001b[0;34m\u001b[0m\u001b[0;34m\u001b[0m\u001b[0m\n\u001b[0;32m---> 22\u001b[0;31m       \u001b[0mget_permutation\u001b[0m\u001b[0;34m(\u001b[0m\u001b[0ma\u001b[0m\u001b[0;34m,\u001b[0m\u001b[0ml\u001b[0m\u001b[0;34m+\u001b[0m\u001b[0;36m1\u001b[0m\u001b[0;34m,\u001b[0m\u001b[0mr\u001b[0m\u001b[0;34m)\u001b[0m\u001b[0;34m\u001b[0m\u001b[0;34m\u001b[0m\u001b[0m\n\u001b[0m\u001b[1;32m     23\u001b[0m       \u001b[0ma\u001b[0m\u001b[0;34m[\u001b[0m\u001b[0ml\u001b[0m\u001b[0;34m]\u001b[0m\u001b[0;34m,\u001b[0m\u001b[0ma\u001b[0m\u001b[0;34m[\u001b[0m\u001b[0mi\u001b[0m\u001b[0;34m]\u001b[0m\u001b[0;34m=\u001b[0m\u001b[0ma\u001b[0m\u001b[0;34m[\u001b[0m\u001b[0mi\u001b[0m\u001b[0;34m]\u001b[0m\u001b[0;34m,\u001b[0m\u001b[0ma\u001b[0m\u001b[0;34m[\u001b[0m\u001b[0ml\u001b[0m\u001b[0;34m]\u001b[0m\u001b[0;34m\u001b[0m\u001b[0;34m\u001b[0m\u001b[0m\n\u001b[1;32m     24\u001b[0m \u001b[0mn\u001b[0m\u001b[0;34m=\u001b[0m \u001b[0mlen\u001b[0m\u001b[0;34m(\u001b[0m\u001b[0mstr_13\u001b[0m\u001b[0;34m)\u001b[0m\u001b[0;34m\u001b[0m\u001b[0;34m\u001b[0m\u001b[0m\n",
            "\u001b[0;32m<ipython-input-11-15168655a35e>\u001b[0m in \u001b[0;36mget_permutation\u001b[0;34m(a, l, r)\u001b[0m\n\u001b[1;32m     20\u001b[0m     \u001b[0;32mfor\u001b[0m \u001b[0mi\u001b[0m \u001b[0;32min\u001b[0m \u001b[0mrange\u001b[0m\u001b[0;34m(\u001b[0m\u001b[0ml\u001b[0m\u001b[0;34m,\u001b[0m\u001b[0mr\u001b[0m\u001b[0;34m+\u001b[0m\u001b[0;36m1\u001b[0m\u001b[0;34m)\u001b[0m\u001b[0;34m:\u001b[0m\u001b[0;34m\u001b[0m\u001b[0;34m\u001b[0m\u001b[0m\n\u001b[1;32m     21\u001b[0m       \u001b[0ma\u001b[0m\u001b[0;34m[\u001b[0m\u001b[0ml\u001b[0m\u001b[0;34m]\u001b[0m\u001b[0;34m,\u001b[0m\u001b[0ma\u001b[0m\u001b[0;34m[\u001b[0m\u001b[0mi\u001b[0m\u001b[0;34m]\u001b[0m\u001b[0;34m=\u001b[0m \u001b[0ma\u001b[0m\u001b[0;34m[\u001b[0m\u001b[0mi\u001b[0m\u001b[0;34m]\u001b[0m\u001b[0;34m,\u001b[0m\u001b[0ma\u001b[0m\u001b[0;34m[\u001b[0m\u001b[0ml\u001b[0m\u001b[0;34m]\u001b[0m\u001b[0;34m\u001b[0m\u001b[0;34m\u001b[0m\u001b[0m\n\u001b[0;32m---> 22\u001b[0;31m       \u001b[0mget_permutation\u001b[0m\u001b[0;34m(\u001b[0m\u001b[0ma\u001b[0m\u001b[0;34m,\u001b[0m\u001b[0ml\u001b[0m\u001b[0;34m+\u001b[0m\u001b[0;36m1\u001b[0m\u001b[0;34m,\u001b[0m\u001b[0mr\u001b[0m\u001b[0;34m)\u001b[0m\u001b[0;34m\u001b[0m\u001b[0;34m\u001b[0m\u001b[0m\n\u001b[0m\u001b[1;32m     23\u001b[0m       \u001b[0ma\u001b[0m\u001b[0;34m[\u001b[0m\u001b[0ml\u001b[0m\u001b[0;34m]\u001b[0m\u001b[0;34m,\u001b[0m\u001b[0ma\u001b[0m\u001b[0;34m[\u001b[0m\u001b[0mi\u001b[0m\u001b[0;34m]\u001b[0m\u001b[0;34m=\u001b[0m\u001b[0ma\u001b[0m\u001b[0;34m[\u001b[0m\u001b[0mi\u001b[0m\u001b[0;34m]\u001b[0m\u001b[0;34m,\u001b[0m\u001b[0ma\u001b[0m\u001b[0;34m[\u001b[0m\u001b[0ml\u001b[0m\u001b[0;34m]\u001b[0m\u001b[0;34m\u001b[0m\u001b[0;34m\u001b[0m\u001b[0m\n\u001b[1;32m     24\u001b[0m \u001b[0mn\u001b[0m\u001b[0;34m=\u001b[0m \u001b[0mlen\u001b[0m\u001b[0;34m(\u001b[0m\u001b[0mstr_13\u001b[0m\u001b[0;34m)\u001b[0m\u001b[0;34m\u001b[0m\u001b[0;34m\u001b[0m\u001b[0m\n",
            "\u001b[0;32m<ipython-input-11-15168655a35e>\u001b[0m in \u001b[0;36mget_permutation\u001b[0;34m(a, l, r)\u001b[0m\n\u001b[1;32m     20\u001b[0m     \u001b[0;32mfor\u001b[0m \u001b[0mi\u001b[0m \u001b[0;32min\u001b[0m \u001b[0mrange\u001b[0m\u001b[0;34m(\u001b[0m\u001b[0ml\u001b[0m\u001b[0;34m,\u001b[0m\u001b[0mr\u001b[0m\u001b[0;34m+\u001b[0m\u001b[0;36m1\u001b[0m\u001b[0;34m)\u001b[0m\u001b[0;34m:\u001b[0m\u001b[0;34m\u001b[0m\u001b[0;34m\u001b[0m\u001b[0m\n\u001b[1;32m     21\u001b[0m       \u001b[0ma\u001b[0m\u001b[0;34m[\u001b[0m\u001b[0ml\u001b[0m\u001b[0;34m]\u001b[0m\u001b[0;34m,\u001b[0m\u001b[0ma\u001b[0m\u001b[0;34m[\u001b[0m\u001b[0mi\u001b[0m\u001b[0;34m]\u001b[0m\u001b[0;34m=\u001b[0m \u001b[0ma\u001b[0m\u001b[0;34m[\u001b[0m\u001b[0mi\u001b[0m\u001b[0;34m]\u001b[0m\u001b[0;34m,\u001b[0m\u001b[0ma\u001b[0m\u001b[0;34m[\u001b[0m\u001b[0ml\u001b[0m\u001b[0;34m]\u001b[0m\u001b[0;34m\u001b[0m\u001b[0;34m\u001b[0m\u001b[0m\n\u001b[0;32m---> 22\u001b[0;31m       \u001b[0mget_permutation\u001b[0m\u001b[0;34m(\u001b[0m\u001b[0ma\u001b[0m\u001b[0;34m,\u001b[0m\u001b[0ml\u001b[0m\u001b[0;34m+\u001b[0m\u001b[0;36m1\u001b[0m\u001b[0;34m,\u001b[0m\u001b[0mr\u001b[0m\u001b[0;34m)\u001b[0m\u001b[0;34m\u001b[0m\u001b[0;34m\u001b[0m\u001b[0m\n\u001b[0m\u001b[1;32m     23\u001b[0m       \u001b[0ma\u001b[0m\u001b[0;34m[\u001b[0m\u001b[0ml\u001b[0m\u001b[0;34m]\u001b[0m\u001b[0;34m,\u001b[0m\u001b[0ma\u001b[0m\u001b[0;34m[\u001b[0m\u001b[0mi\u001b[0m\u001b[0;34m]\u001b[0m\u001b[0;34m=\u001b[0m\u001b[0ma\u001b[0m\u001b[0;34m[\u001b[0m\u001b[0mi\u001b[0m\u001b[0;34m]\u001b[0m\u001b[0;34m,\u001b[0m\u001b[0ma\u001b[0m\u001b[0;34m[\u001b[0m\u001b[0ml\u001b[0m\u001b[0;34m]\u001b[0m\u001b[0;34m\u001b[0m\u001b[0;34m\u001b[0m\u001b[0m\n\u001b[1;32m     24\u001b[0m \u001b[0mn\u001b[0m\u001b[0;34m=\u001b[0m \u001b[0mlen\u001b[0m\u001b[0;34m(\u001b[0m\u001b[0mstr_13\u001b[0m\u001b[0;34m)\u001b[0m\u001b[0;34m\u001b[0m\u001b[0;34m\u001b[0m\u001b[0m\n",
            "\u001b[0;32m<ipython-input-11-15168655a35e>\u001b[0m in \u001b[0;36mget_permutation\u001b[0;34m(a, l, r)\u001b[0m\n\u001b[1;32m     19\u001b[0m   \u001b[0;32melse\u001b[0m\u001b[0;34m:\u001b[0m\u001b[0;34m\u001b[0m\u001b[0;34m\u001b[0m\u001b[0m\n\u001b[1;32m     20\u001b[0m     \u001b[0;32mfor\u001b[0m \u001b[0mi\u001b[0m \u001b[0;32min\u001b[0m \u001b[0mrange\u001b[0m\u001b[0;34m(\u001b[0m\u001b[0ml\u001b[0m\u001b[0;34m,\u001b[0m\u001b[0mr\u001b[0m\u001b[0;34m+\u001b[0m\u001b[0;36m1\u001b[0m\u001b[0;34m)\u001b[0m\u001b[0;34m:\u001b[0m\u001b[0;34m\u001b[0m\u001b[0;34m\u001b[0m\u001b[0m\n\u001b[0;32m---> 21\u001b[0;31m       \u001b[0ma\u001b[0m\u001b[0;34m[\u001b[0m\u001b[0ml\u001b[0m\u001b[0;34m]\u001b[0m\u001b[0;34m,\u001b[0m\u001b[0ma\u001b[0m\u001b[0;34m[\u001b[0m\u001b[0mi\u001b[0m\u001b[0;34m]\u001b[0m\u001b[0;34m=\u001b[0m \u001b[0ma\u001b[0m\u001b[0;34m[\u001b[0m\u001b[0mi\u001b[0m\u001b[0;34m]\u001b[0m\u001b[0;34m,\u001b[0m\u001b[0ma\u001b[0m\u001b[0;34m[\u001b[0m\u001b[0ml\u001b[0m\u001b[0;34m]\u001b[0m\u001b[0;34m\u001b[0m\u001b[0;34m\u001b[0m\u001b[0m\n\u001b[0m\u001b[1;32m     22\u001b[0m       \u001b[0mget_permutation\u001b[0m\u001b[0;34m(\u001b[0m\u001b[0ma\u001b[0m\u001b[0;34m,\u001b[0m\u001b[0ml\u001b[0m\u001b[0;34m+\u001b[0m\u001b[0;36m1\u001b[0m\u001b[0;34m,\u001b[0m\u001b[0mr\u001b[0m\u001b[0;34m)\u001b[0m\u001b[0;34m\u001b[0m\u001b[0;34m\u001b[0m\u001b[0m\n\u001b[1;32m     23\u001b[0m       \u001b[0ma\u001b[0m\u001b[0;34m[\u001b[0m\u001b[0ml\u001b[0m\u001b[0;34m]\u001b[0m\u001b[0;34m,\u001b[0m\u001b[0ma\u001b[0m\u001b[0;34m[\u001b[0m\u001b[0mi\u001b[0m\u001b[0;34m]\u001b[0m\u001b[0;34m=\u001b[0m\u001b[0ma\u001b[0m\u001b[0;34m[\u001b[0m\u001b[0mi\u001b[0m\u001b[0;34m]\u001b[0m\u001b[0;34m,\u001b[0m\u001b[0ma\u001b[0m\u001b[0;34m[\u001b[0m\u001b[0ml\u001b[0m\u001b[0;34m]\u001b[0m\u001b[0;34m\u001b[0m\u001b[0;34m\u001b[0m\u001b[0m\n",
            "\u001b[0;31mIndexError\u001b[0m: list index out of range"
          ]
        }
      ]
    },
    {
      "cell_type": "code",
      "source": [
        "#14. Implement a function to calculate the Fibonacci sequence up to a given number of terms.\n",
        "n= int(input())\n",
        "def fibo(n):\n",
        "  if n==0:\n",
        "    return 0\n",
        "  elif n==1:\n",
        "    return 1\n",
        "  else:\n",
        "    a=0\n",
        "    b=1\n",
        "    for i in range(1,n):\n",
        "      c= a+b\n",
        "      a=b\n",
        "      b=c\n",
        "    return b\n",
        "print(f'Fibonacci sequence upto {n} is {fibo(n)}')\n",
        "\n",
        "#method 2: to get fibonacci series:\n",
        "from functools import reduce\n",
        "fib = lambda n:reduce(lambda x,i: x+[x[-1]+x[-2]],range(n-2),[0,1])\n",
        "print(fib(n))"
      ],
      "metadata": {
        "colab": {
          "base_uri": "https://localhost:8080/"
        },
        "id": "PWCcFGygqWnh",
        "outputId": "c76a41f5-7fff-403d-a0e2-7b17e0aa9c55"
      },
      "execution_count": 17,
      "outputs": [
        {
          "output_type": "stream",
          "name": "stdout",
          "text": [
            "10\n",
            "Fibonacci sequence upto 10 is 55\n",
            "[0, 1, 1, 2, 3, 5, 8, 13, 21, 34]\n"
          ]
        }
      ]
    },
    {
      "cell_type": "code",
      "source": [
        "#15. Write a program to find the median of a list of numbers.\n",
        "import statistics as st\n",
        "list_15= list(map(int,input(\"Enter the list:- \").split(',')))\n",
        "print(st.median(list_15))\n",
        "\n",
        "#method 2:\n",
        "list_15.sort()\n",
        "n= len(list_15)\n",
        "if n%2 == 0:\n",
        "  med= (list_15[n//2-1]+ list_15[n//2])/2\n",
        "else:\n",
        "  med= list_15[n//2]\n",
        "print(f'Median of given list is: {med}')"
      ],
      "metadata": {
        "colab": {
          "base_uri": "https://localhost:8080/"
        },
        "id": "b3TIVpOh74OM",
        "outputId": "9f3a5d83-9751-4c20-9d29-0e93f9f90a87"
      },
      "execution_count": 24,
      "outputs": [
        {
          "output_type": "stream",
          "name": "stdout",
          "text": [
            "Enter 1st list:- 4, 5, 8, 9, 10, 17,22,21,24,26\n",
            "13.5\n",
            "Median of given list is: 13.5\n"
          ]
        }
      ]
    },
    {
      "cell_type": "code",
      "source": [
        "#16. Implement a function to check if a given list is sorted in non-decreasing order.\n",
        "list_16= list(map(int,input(\"Enter the list:- \").split(',')))\n",
        "if list_16 == sorted(list_16):\n",
        "  print(\"Given list is sorted in non-decreasing order\")\n",
        "else:\n",
        "  print(\"List is not sorted in non-decreasing order\")"
      ],
      "metadata": {
        "colab": {
          "base_uri": "https://localhost:8080/"
        },
        "id": "n7D0xjaQGt_W",
        "outputId": "ef1c6e96-5629-4b47-8cce-e2f845ea10a4"
      },
      "execution_count": 26,
      "outputs": [
        {
          "output_type": "stream",
          "name": "stdout",
          "text": [
            "Enter 1st list:- 4, 5, 8, 9, 10\n",
            "Given list is sorted in non-decreasing order\n"
          ]
        }
      ]
    },
    {
      "cell_type": "code",
      "source": [
        "#17. Write a Python program to find the intersection of two lists.\n",
        "list_1= list(map(int,input(\"Enter 1st list:- \").split(',')))\n",
        "list_2= list(map(int,input(\"Enter 2nd list:- \").split(',')))\n",
        "print(set(list_1).intersection(set(list_2)))"
      ],
      "metadata": {
        "colab": {
          "base_uri": "https://localhost:8080/"
        },
        "id": "PyBDS_k1H8W5",
        "outputId": "259d8efc-afba-47b0-bd96-c12994439093"
      },
      "execution_count": 29,
      "outputs": [
        {
          "output_type": "stream",
          "name": "stdout",
          "text": [
            "Enter 1st list:- 4, 5, 8, 9, 10\n",
            "Enter 2nd list:- 8, 9, 10,13,15,17\n",
            "{8, 9, 10}\n"
          ]
        }
      ]
    },
    {
      "cell_type": "code",
      "source": [
        "#18. Implement a function to find the maximum subarray sum in a given list.\n"
      ],
      "metadata": {
        "id": "wrQFcmgPIX-J"
      },
      "execution_count": null,
      "outputs": []
    }
  ]
}