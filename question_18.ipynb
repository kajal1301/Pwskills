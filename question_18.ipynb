{
 "cells": [
  {
   "attachments": {},
   "cell_type": "markdown",
   "metadata": {},
   "source": [
    "18. Implement a decorator function called ‘timer’ that measures the execution time of a function. The ‘timer’ decorator should print the time taken by the decorated function to execute. Use the ‘time’ module in Python to calculate the execution time.\n",
    "\n",
    "Example:\n",
    "\n",
    "import time\n",
    "\n",
    "@timer\n",
    "def my_function():\n",
    "    # Function code goes here\n",
    "    time.sleep(2)\n",
    "\n",
    "my_function()\n",
    "\n",
    "Output:\n",
    "\"Execution time: 2.00123 seconds\""
   ]
  },
  {
   "cell_type": "code",
   "execution_count": 14,
   "metadata": {},
   "outputs": [
    {
     "name": "stdout",
     "output_type": "stream",
     "text": [
      "The time taken by 'even_nums' to execute is: 2.002056s\n",
      "2.0020558834075928\n",
      "[2, 4, 6, 8, 10]\n"
     ]
    }
   ],
   "source": [
    "import time\n",
    "def timer(even_nums):\n",
    "  \n",
    "    def wrapper_function(*args,**kwargs):\n",
    "        t1=time.time()\n",
    "        result= even_nums(*args,**kwargs)\n",
    "        time.sleep(2)\n",
    "        t2= time.time()\n",
    "        print(f'The time taken by {even_nums.__name__!r} to execute is: {(t2-t1):4f}s')\n",
    "        return result,t2-t1\n",
    "    return wrapper_function\n",
    "\n",
    "@timer\n",
    "def even_nums(nums):\n",
    "   #list comprehension\n",
    "   return [i for i in nums if i%2==0]\n",
    "\n",
    "#input numbers:\n",
    "nums= list(map(int,input(\"enter list:-\").split(',')))\n",
    "result, execution_time = even_nums(nums)\n",
    "print(execution_time)\n",
    "print(result)\n"
   ]
  }
 ],
 "metadata": {
  "kernelspec": {
   "display_name": "base",
   "language": "python",
   "name": "python3"
  },
  "language_info": {
   "codemirror_mode": {
    "name": "ipython",
    "version": 3
   },
   "file_extension": ".py",
   "mimetype": "text/x-python",
   "name": "python",
   "nbconvert_exporter": "python",
   "pygments_lexer": "ipython3",
   "version": "3.10.9"
  },
  "orig_nbformat": 4
 },
 "nbformat": 4,
 "nbformat_minor": 2
}
