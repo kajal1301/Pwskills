{
  "nbformat": 4,
  "nbformat_minor": 0,
  "metadata": {
    "colab": {
      "provenance": [],
      "authorship_tag": "ABX9TyPMS7m8uNx90CQZq34GL81a",
      "include_colab_link": true
    },
    "kernelspec": {
      "name": "python3",
      "display_name": "Python 3"
    },
    "language_info": {
      "name": "python"
    }
  },
  "cells": [
    {
      "cell_type": "markdown",
      "metadata": {
        "id": "view-in-github",
        "colab_type": "text"
      },
      "source": [
        "<a href=\"https://colab.research.google.com/github/kajal1301/Pwskills/blob/DSA/DSA_Mock_2_ques_17.ipynb\" target=\"_parent\"><img src=\"https://colab.research.google.com/assets/colab-badge.svg\" alt=\"Open In Colab\"/></a>"
      ]
    },
    {
      "cell_type": "markdown",
      "source": [
        "Write a function that takes a list of numbers as input and returns a new list containing only the even numbers from the input list. Use list comprehension to solve this problem.\n",
        "Example:\n",
        "\n",
        "Input: [1, 2, 3, 4, 5, 6, 7, 8, 9, 10]\n",
        "\n",
        "Output: [2, 4, 6, 8, 10]"
      ],
      "metadata": {
        "id": "cK7ithBIWUtm"
      }
    },
    {
      "cell_type": "code",
      "execution_count": 10,
      "metadata": {
        "id": "RQIw4GAOWUBf"
      },
      "outputs": [],
      "source": [
        "def even_nums(nums):\n",
        "    #list comprehension\n",
        "    return [i for i in nums if i%2==0]\n"
      ]
    },
    {
      "cell_type": "code",
      "source": [
        "#input numbers:\n",
        "nums= list(map(int,input(\"enter list:-\").split(',')))\n",
        "print(\"The Even numbers are:-\",even_nums(nums))"
      ],
      "metadata": {
        "colab": {
          "base_uri": "https://localhost:8080/"
        },
        "id": "N2I-GVPWWcFp",
        "outputId": "394a3c21-27d4-4632-9f31-4b0520fd7ef2"
      },
      "execution_count": 14,
      "outputs": [
        {
          "output_type": "stream",
          "name": "stdout",
          "text": [
            "enter list:-1,2,3,4,5,6,7,8,9,10\n",
            "The Even numbers are:- [2, 4, 6, 8, 10]\n"
          ]
        }
      ]
    }
  ]
}