{
  "nbformat": 4,
  "nbformat_minor": 0,
  "metadata": {
    "colab": {
      "provenance": [],
      "authorship_tag": "ABX9TyOjmNWHYyuXx9bpGhWsmSSg",
      "include_colab_link": true
    },
    "kernelspec": {
      "name": "python3",
      "display_name": "Python 3"
    },
    "language_info": {
      "name": "python"
    }
  },
  "cells": [
    {
      "cell_type": "markdown",
      "metadata": {
        "id": "view-in-github",
        "colab_type": "text"
      },
      "source": [
        "<a href=\"https://colab.research.google.com/github/kajal1301/Pwskills/blob/DSA/DSA_Assignment2.ipynb\" target=\"_parent\"><img src=\"https://colab.research.google.com/assets/colab-badge.svg\" alt=\"Open In Colab\"/></a>"
      ]
    },
    {
      "cell_type": "markdown",
      "source": [],
      "metadata": {
        "id": "36xf60EtzTSs"
      }
    },
    {
      "cell_type": "markdown",
      "source": [
        "<aside>\n",
        "💡 **Question 1**\n",
        "Given an integer array nums of 2n integers, group these integers into n pairs (a1, b1), (a2, b2),..., (an, bn) such that the sum of min(ai, bi) for all i is maximized. Return the maximized sum.\n",
        "\n",
        "**Example 1:**\n",
        "Input: nums = [1,4,3,2]\n",
        "Output: 4\n",
        "\n",
        "**Explanation:** All possible pairings (ignoring the ordering of elements) are:\n",
        "\n",
        "1. (1, 4), (2, 3) -> min(1, 4) + min(2, 3) = 1 + 2 = 3\n",
        "2. (1, 3), (2, 4) -> min(1, 3) + min(2, 4) = 1 + 2 = 3\n",
        "3. (1, 2), (3, 4) -> min(1, 2) + min(3, 4) = 1 + 3 = 4\n",
        "So the maximum possible sum is 4\n",
        "</aside>"
      ],
      "metadata": {
        "id": "vaNBzofdzVp_"
      }
    },
    {
      "cell_type": "code",
      "source": [
        "class Solution:\n",
        "    def arrayPairSum(self, nums: List[int]) -> int:\n",
        "\n",
        "        nums.sort()\n",
        "        return sum(nums[::2])\n"
      ],
      "metadata": {
        "id": "QKVg19K1zUDT"
      },
      "execution_count": null,
      "outputs": []
    },
    {
      "cell_type": "markdown",
      "source": [
        "Question 2\n",
        "Alice has n candies, where the ith candy is of type candyType[i]. Alice noticed that she started to gain weight, so she visited a doctor.\n",
        "\n",
        "The doctor advised Alice to only eat n / 2 of the candies she has (n is always even). Alice likes her candies very much, and she wants to eat the maximum number of different types of candies while still following the doctor's advice.\n",
        "\n",
        "Given the integer array candyType of length n, return the maximum number of different types of candies she can eat if she only eats n / 2 of them.\n",
        "\n",
        "Example 1:\n",
        "Input: candyType = [1,1,2,2,3,3]\n",
        "Output: 3\n",
        "\n",
        "Explanation: Alice can only eat 6 / 2 = 3 candies. Since there are only 3 types, she can eat one of each type."
      ],
      "metadata": {
        "id": "TXm26BXGzXvd"
      }
    },
    {
      "cell_type": "code",
      "source": [
        "class Solution:\n",
        "    def distributeCandies(self, candyType: List[int]) -> int:\n",
        "        candy= list(set(candyType))\n",
        "        n= len(candyType)\n",
        "        m= len(candy)\n",
        "        #alice can only eat n/2 candies\n",
        "        if m < n//2:\n",
        "            return m\n",
        "\n",
        "        return n//2"
      ],
      "metadata": {
        "id": "BtghEtxtzaqe"
      },
      "execution_count": null,
      "outputs": []
    },
    {
      "cell_type": "markdown",
      "source": [
        "Question 3\n",
        "We define a harmonious array as an array where the difference between its maximum value\n",
        "and its minimum value is exactly 1.\n",
        "\n",
        "Given an integer array nums, return the length of its longest harmonious subsequence\n",
        "among all its possible subsequences.\n",
        "\n",
        "A subsequence of an array is a sequence that can be derived from the array by deleting some or no elements without changing the order of the remaining elements.\n",
        "\n",
        "Example 1:\n",
        "Input: nums = [1,3,2,2,5,2,3,7]\n",
        "Output: 5\n",
        "\n",
        "Explanation: The longest harmonious subsequence is [3,2,2,2,3]."
      ],
      "metadata": {
        "id": "zx_AYR5qzc1J"
      }
    },
    {
      "cell_type": "code",
      "source": [
        "class Solution:\n",
        "    def findLHS(self, nums: List[int]) -> int:\n",
        "        count= collections.Counter(nums)\n",
        "        res= 0\n",
        "        for i in count:\n",
        "            if i+1 in count:\n",
        "                res= max(res,count[i]+count[i+1])\n",
        "        return res"
      ],
      "metadata": {
        "id": "wh0pBi4Jzf0L"
      },
      "execution_count": null,
      "outputs": []
    },
    {
      "cell_type": "markdown",
      "source": [
        "Question 4\n",
        "You have a long flowerbed in which some of the plots are planted, and some are not.\n",
        "However, flowers cannot be planted in adjacent plots.\n",
        "Given an integer array flowerbed containing 0's and 1's, where 0 means empty and 1 means not empty, and an integer n, return true if n new flowers can be planted in the flowerbed without violating the no-adjacent-flowers rule and false otherwise.\n",
        "\n",
        "Example 1:\n",
        "Input: flowerbed = [1,0,0,0,1], n = 1\n",
        "Output: true"
      ],
      "metadata": {
        "id": "yWOW6XktKqds"
      }
    },
    {
      "cell_type": "code",
      "source": [
        "class Solution:\n",
        "    def canPlaceFlowers(self, flowerbed: List[int], n: int) -> bool:\n",
        "        a= [0] + flowerbed + [0]\n",
        "                c= 0\n",
        "                for i in (range(len(a))):\n",
        "                    if a[i:i+3] == [0,0,0]:\n",
        "                        c += 1\n",
        "                        if c>=n:\n",
        "                            return True\n",
        "                        a[i+1] = 1\n",
        "                return c>=n\n"
      ],
      "metadata": {
        "id": "np4RUSqYKsaF"
      },
      "execution_count": null,
      "outputs": []
    },
    {
      "cell_type": "markdown",
      "source": [
        "Question 5\n",
        "Given an integer array nums, find three numbers whose product is maximum and return the maximum product.\n",
        "\n",
        "Example 1:\n",
        "Input: nums = [1,2,3]\n",
        "Output: 6"
      ],
      "metadata": {
        "id": "n1YqxbswMKtB"
      }
    },
    {
      "cell_type": "code",
      "source": [
        "class Solution:\n",
        "    def maximumProduct(self, nums: List[int]) -> int:\n",
        "        a = sorted(nums)\n",
        "        return(max(a[-1] *a[-2]*a[-3],a[0]*a[1]*a[-1]))"
      ],
      "metadata": {
        "id": "SWpsVa55Mrjl"
      },
      "execution_count": null,
      "outputs": []
    },
    {
      "cell_type": "markdown",
      "source": [
        "Question 6\n",
        "Given an array of integers nums which is sorted in ascending order, and an integer target,\n",
        "write a function to search target in nums. If target exists, then return its index. Otherwise,\n",
        "return -1.\n",
        "\n",
        "You must write an algorithm with O(log n) runtime complexity.\n",
        "\n",
        "Input: nums = [-1,0,3,5,9,12], target = 9\n",
        "Output: 4\n",
        "\n",
        "Explanation: 9 exists in nums and its index is 4"
      ],
      "metadata": {
        "id": "ZImHxEjjNWd_"
      }
    },
    {
      "cell_type": "code",
      "source": [
        "class Solution:\n",
        "    def search(self, nums: List[int], target: int) -> int:\n",
        "        if len(nums)== 0:\n",
        "            return -1\n",
        "        left= 0\n",
        "        right= len(nums)-1\n",
        "        while(left<= right):\n",
        "            midpoint= (right+left)//2\n",
        "            if nums[midpoint]== target:\n",
        "                return midpoint\n",
        "            elif nums[midpoint] > target :\n",
        "                right= midpoint-1\n",
        "            else:\n",
        "                left= midpoint+1\n",
        "        return -1"
      ],
      "metadata": {
        "id": "vhVCvAxwNYSI"
      },
      "execution_count": null,
      "outputs": []
    },
    {
      "cell_type": "markdown",
      "source": [
        "Question 7\n",
        "An array is monotonic if it is either monotone increasing or monotone decreasing.\n",
        "\n",
        "An array nums is monotone increasing if for all i <= j, nums[i] <= nums[j]. An array nums is\n",
        "monotone decreasing if for all i <= j, nums[i] >= nums[j].\n",
        "\n",
        "Given an integer array nums, return true if the given array is monotonic, or false otherwise.\n",
        "\n",
        "Example 1:\n",
        "Input: nums = [1,2,2,3]\n",
        "Output: true"
      ],
      "metadata": {
        "id": "Em4IxZVJOx1Y"
      }
    },
    {
      "cell_type": "code",
      "source": [
        "class Solution:\n",
        "    def isMonotonic(self, nums: List[int]) -> bool:\n",
        "        if nums[-1]<nums[0]:\n",
        "            nums= nums[::-1]\n",
        "        for i in range(1,len(nums)):\n",
        "            if nums[i]<nums[i-1]:\n",
        "                return False\n",
        "        return True"
      ],
      "metadata": {
        "id": "WiaPMbdiO0BJ"
      },
      "execution_count": null,
      "outputs": []
    },
    {
      "cell_type": "markdown",
      "source": [
        "Question 8\n",
        "You are given an integer array nums and an integer k.\n",
        "\n",
        "In one operation, you can choose any index i where 0 <= i < nums.length and change nums[i] to nums[i] + x where x is an integer from the range [-k, k]. You can apply this operation at most once for each index i.\n",
        "\n",
        "The score of nums is the difference between the maximum and minimum elements in nums.\n",
        "\n",
        "Return the minimum score of nums after applying the mentioned operation at most once for each index in it.\n",
        "\n",
        "Example 1:\n",
        "Input: nums = [1], k = 0\n",
        "Output: 0\n",
        "\n",
        "Explanation: The score is max(nums) - min(nums) = 1 - 1 = 0."
      ],
      "metadata": {
        "id": "k0qClmRgQfEw"
      }
    },
    {
      "cell_type": "code",
      "source": [
        "class Solution:\n",
        "    def smallestRangeII(self, nums: List[int], k: int) -> int:\n",
        "        if len(nums)<=1:\n",
        "            return 0\n",
        "        nums.sort()\n",
        "        score= nums[-1]-nums[0]\n",
        "        for i in range(len(nums)-1):\n",
        "           score= min(score, max(nums[i]+k, nums[-1]-k)- min(nums[i+1]-k, nums[0]+k))\n",
        "\n",
        "        return score"
      ],
      "metadata": {
        "id": "5KuVey-VQsid"
      },
      "execution_count": null,
      "outputs": []
    }
  ]
}