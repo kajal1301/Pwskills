{
  "nbformat": 4,
  "nbformat_minor": 0,
  "metadata": {
    "colab": {
      "provenance": [],
      "authorship_tag": "ABX9TyPp6r6EnUTW9CK/IU92czS1",
      "include_colab_link": true
    },
    "kernelspec": {
      "name": "python3",
      "display_name": "Python 3"
    },
    "language_info": {
      "name": "python"
    }
  },
  "cells": [
    {
      "cell_type": "markdown",
      "metadata": {
        "id": "view-in-github",
        "colab_type": "text"
      },
      "source": [
        "<a href=\"https://colab.research.google.com/github/kajal1301/Pwskills/blob/DSA/DSA_mock_2_ques_19.ipynb\" target=\"_parent\"><img src=\"https://colab.research.google.com/assets/colab-badge.svg\" alt=\"Open In Colab\"/></a>"
      ]
    },
    {
      "cell_type": "markdown",
      "source": [
        "19. Write a function called ‘calculate_mean’ that takes a list of numbers as input and returns the mean (average) of the numbers. The function should calculate the mean using the sum of the numbers divided by the total count.\n",
        "\n",
        "Example:\n",
        "\n",
        "def calculate_mean(numbers):\n",
        "    total = sum(numbers)\n",
        "    count = len(numbers)\n",
        "    mean = total / count\n",
        "    return mean\n",
        "\n",
        "data = [10, 15, 20, 25, 30]\n",
        "\n",
        "mean_value = calculate_mean(data)\n",
        "\n",
        "print(\"Mean:\", mean_value)\n",
        "\n",
        "Output:\n",
        "Mean: 20.0\n"
      ],
      "metadata": {
        "id": "J4moMUZCYg4S"
      }
    },
    {
      "cell_type": "code",
      "execution_count": 9,
      "metadata": {
        "id": "JjIMGeSMX2yY"
      },
      "outputs": [],
      "source": [
        "def calculate_mean():\n",
        "  #input\n",
        "  nums= list(map(int,input(\"enter numbers:-\").split(',')))\n",
        "  sum1=0\n",
        "  for i in nums:\n",
        "    sum1+=i\n",
        "  mean= sum1/len(nums)\n",
        "  return mean\n"
      ]
    },
    {
      "cell_type": "code",
      "source": [
        "print(\"Mean :-\",+calculate_mean())"
      ],
      "metadata": {
        "colab": {
          "base_uri": "https://localhost:8080/"
        },
        "id": "vWsBsDMdYwPu",
        "outputId": "9fea775c-eb68-41ce-91bd-63d76bc0c22a"
      },
      "execution_count": 10,
      "outputs": [
        {
          "output_type": "stream",
          "name": "stdout",
          "text": [
            "enter numbers:-10,15,20,25,30\n",
            "Mean :- 20.0\n"
          ]
        }
      ]
    },
    {
      "cell_type": "code",
      "source": [],
      "metadata": {
        "id": "PhM4ntosY5XO"
      },
      "execution_count": null,
      "outputs": []
    }
  ]
}