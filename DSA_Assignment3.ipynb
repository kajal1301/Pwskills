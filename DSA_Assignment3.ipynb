{
  "nbformat": 4,
  "nbformat_minor": 0,
  "metadata": {
    "colab": {
      "provenance": [],
      "authorship_tag": "ABX9TyOp9NtkrrcZWZ/9fXVGNJTx",
      "include_colab_link": true
    },
    "kernelspec": {
      "name": "python3",
      "display_name": "Python 3"
    },
    "language_info": {
      "name": "python"
    }
  },
  "cells": [
    {
      "cell_type": "markdown",
      "metadata": {
        "id": "view-in-github",
        "colab_type": "text"
      },
      "source": [
        "<a href=\"https://colab.research.google.com/github/kajal1301/Pwskills/blob/main/DSA_Assignment3.ipynb\" target=\"_parent\"><img src=\"https://colab.research.google.com/assets/colab-badge.svg\" alt=\"Open In Colab\"/></a>"
      ]
    },
    {
      "cell_type": "markdown",
      "source": [
        "\n",
        "Question 1\n",
        "Given an integer array nums of length n and an integer target, find three integers\n",
        "in nums such that the sum is closest to the target.\n",
        "Return the sum of the three integers.\n",
        "\n",
        "You may assume that each input would have exactly one solution.\n",
        "\n",
        "Example 1:\n",
        "Input: nums = [-1,2,1,-4], target = 1\n",
        "Output: 2\n",
        "\n",
        "Explanation: The sum that is closest to the target is 2. (-1 + 2 + 1 = 2)\n",
        "---\n",
        "\n"
      ],
      "metadata": {
        "id": "LXtDBUjyxXiZ"
      }
    },
    {
      "cell_type": "code",
      "execution_count": null,
      "metadata": {
        "id": "CEXuiqmFxTkX"
      },
      "outputs": [],
      "source": [
        "class Solution:\n",
        "    def threeSumClosest(self, nums: List[int], target: int) -> int:\n",
        "        res= nums[0]+ nums[1]+ nums[len(nums)-1]\n",
        "        nums.sort()\n",
        "        for i in range(len(nums)-2):\n",
        "            a= i+1\n",
        "            b= len(nums)-1\n",
        "            while a< b:\n",
        "                cur = nums[i]+ nums[a]+ nums[b]\n",
        "                if cur> target:\n",
        "                    b-=1\n",
        "                else:\n",
        "                    a+=1\n",
        "                if abs(cur- target) < abs(res- target):\n",
        "                    res= cur\n",
        "        return res"
      ]
    },
    {
      "cell_type": "markdown",
      "source": [
        "Question 2\n",
        "Given an array nums of n integers, return an array of all the unique quadruplets\n",
        "[nums[a], nums[b], nums[c], nums[d]] such that:\n",
        "           ● 0 <= a, b, c, d < n\n",
        "           ● a, b, c, and d are distinct.\n",
        "           ● nums[a] + nums[b] + nums[c] + nums[d] == target\n",
        "\n",
        "You may return the answer in any order.\n",
        "\n",
        "Example 1:\n",
        "Input: nums = [1,0,-1,0,-2,2], target = 0\n",
        "Output: [[-2,-1,1,2],[-2,0,0,2],[-1,0,0,1]]"
      ],
      "metadata": {
        "id": "wq5xLIejQ3Dc"
      }
    },
    {
      "cell_type": "code",
      "source": [
        "class Solution:\n",
        "    def fourSum(self, nums: List[int], target: int) -> List[List[int]]:\n",
        "        ans= set()\n",
        "        nums.sort()\n",
        "        for i in range(len(nums)):\n",
        "            for j in range(i+1,len(nums)):\n",
        "                left,right= j+1,len(nums)-1\n",
        "                while left<right:\n",
        "                    sum1= nums[i]+nums[j]+nums[left]+nums[right]\n",
        "                    if sum1== target :\n",
        "                        ans.add((nums[i],nums[j],nums[left],nums[right]))\n",
        "                        left+=1\n",
        "                        right-=1\n",
        "                    elif sum1>target:\n",
        "                        right-=1\n",
        "                    else:\n",
        "                        left+=1\n",
        "        return ans\n"
      ],
      "metadata": {
        "id": "8ecJW1VOdtKQ"
      },
      "execution_count": null,
      "outputs": []
    },
    {
      "cell_type": "markdown",
      "source": [
        "<aside>\n",
        "💡 **Question 3**\n",
        "A permutation of an array of integers is an arrangement of its members into a\n",
        "sequence or linear order.\n",
        "\n",
        "For example, for arr = [1,2,3], the following are all the permutations of arr:\n",
        "[1,2,3], [1,3,2], [2, 1, 3], [2, 3, 1], [3,1,2], [3,2,1].\n",
        "\n",
        "The next permutation of an array of integers is the next lexicographically greater\n",
        "permutation of its integer. More formally, if all the permutations of the array are\n",
        "sorted in one container according to their lexicographical order, then the next\n",
        "permutation of that array is the permutation that follows it in the sorted container.\n",
        "\n",
        "If such an arrangement is not possible, the array must be rearranged as the\n",
        "lowest possible order (i.e., sorted in ascending order).\n",
        "\n",
        "● For example, the next permutation of arr = [1,2,3] is [1,3,2].\n",
        "● Similarly, the next permutation of arr = [2,3,1] is [3,1,2].\n",
        "● While the next permutation of arr = [3,2,1] is [1,2,3] because [3,2,1] does not\n",
        "have a lexicographical larger rearrangement.\n",
        "\n",
        "Given an array of integers nums, find the next permutation of nums.\n",
        "The replacement must be in place and use only constant extra memory.\n",
        "\n",
        "**Example 1:**\n",
        "Input: nums = [1,2,3]\n",
        "Output: [1,3,2]\n",
        "\n",
        "</aside>"
      ],
      "metadata": {
        "id": "efTI0QXnxs5a"
      }
    },
    {
      "cell_type": "code",
      "source": [
        "class Solution:\n",
        "    def nextPermutation(self, nums: List[int]) -> None:\n",
        "        \"\"\"\n",
        "        Do not return anything, modify nums in-place instead.\n",
        "        \"\"\"\n",
        "        i= len(nums)-1\n",
        "        while i>0 and nums[i-1]>= nums[i]:\n",
        "            i-=1\n",
        "        if i<1:\n",
        "            nums[:]= nums[::-1]\n",
        "        else:\n",
        "            j= len(nums)-1\n",
        "            while nums[j]<=nums[i-1]:\n",
        "                j-=1\n",
        "            nums[i-1],nums[j]= nums[j],nums[i-1]\n",
        "            nums[i:]= reversed(nums[i:])"
      ],
      "metadata": {
        "id": "wMgiySVZ5Rmt"
      },
      "execution_count": null,
      "outputs": []
    },
    {
      "cell_type": "markdown",
      "source": [
        "Question 4\n",
        "Given a sorted array of distinct integers and a target value, return the index if the\n",
        "target is found. If not, return the index where it would be if it were inserted in\n",
        "order.\n",
        "\n",
        "You must write an algorithm with O(log n) runtime complexity.\n",
        "\n",
        "Example 1:\n",
        "Input: nums = [1,3,5,6], target = 5\n",
        "Output: 2"
      ],
      "metadata": {
        "id": "XtOMLheZx0TT"
      }
    },
    {
      "cell_type": "code",
      "source": [
        "class Solution:\n",
        "    def searchInsert(self, nums: List[int], target: int) -> int:\n",
        "        l= 0\n",
        "        r= len(nums)-1\n",
        "        while l<=r:\n",
        "            mid = (l+r)//2\n",
        "            if nums[mid]<target:\n",
        "                l= mid+1\n",
        "            elif nums[mid]>target:\n",
        "                r= mid-1\n",
        "            else:\n",
        "                return mid\n",
        "        return l"
      ],
      "metadata": {
        "id": "oZVderGI6ATe"
      },
      "execution_count": null,
      "outputs": []
    },
    {
      "cell_type": "markdown",
      "source": [
        "<aside>\n",
        "💡 **Question 5**\n",
        "You are given a large integer represented as an integer array digits, where each\n",
        "digits[i] is the ith digit of the integer. The digits are ordered from most significant\n",
        "to least significant in left-to-right order. The large integer does not contain any\n",
        "leading 0's.\n",
        "\n",
        "Increment the large integer by one and return the resulting array of digits.\n",
        "\n",
        "**Example 1:**\n",
        "Input: digits = [1,2,3]\n",
        "Output: [1,2,4]\n",
        "\n",
        "**Explanation:** The array represents the integer 123.\n",
        "Incrementing by one gives 123 + 1 = 124.\n",
        "Thus, the result should be [1,2,4].\n",
        "\n",
        "</aside>"
      ],
      "metadata": {
        "id": "DkpK22MUx4OW"
      }
    },
    {
      "cell_type": "code",
      "source": [
        "class Solution:\n",
        "    def plusOne(self, digits: List[int]) -> List[int]:\n",
        "        if digits[-1]<9:\n",
        "            digits[-1]+=1\n",
        "            return digits\n",
        "        elif len(digits)== 1 and digits[0]== 9:\n",
        "            return [1,0]\n",
        "        else:\n",
        "            digits[-1]=0\n",
        "            digits[0:-1]= self.plusOne(digits[0:-1])\n",
        "            return digits\n",
        ""
      ],
      "metadata": {
        "id": "tLoeHEM1ANhZ"
      },
      "execution_count": null,
      "outputs": []
    },
    {
      "cell_type": "markdown",
      "source": [
        "Question 6\n",
        "Given a non-empty array of integers nums, every element appears twice except\n",
        "for one. Find that single one.\n",
        "\n",
        "You must implement a solution with a linear runtime complexity and use only\n",
        "constant extra space.\n",
        "\n",
        "Example 1:\n",
        "Input: nums = [2,2,1]\n",
        "Output: 1"
      ],
      "metadata": {
        "id": "VZAIJTG_x_4L"
      }
    },
    {
      "cell_type": "code",
      "source": [
        "class Solution:\n",
        "    def singleNumber(self, nums: List[int]) -> int:\n",
        "        m=0\n",
        "        for i in nums:\n",
        "            m^=i\n",
        "        return m"
      ],
      "metadata": {
        "id": "6faLaC9YBtvL"
      },
      "execution_count": null,
      "outputs": []
    },
    {
      "cell_type": "markdown",
      "source": [
        "Question 7\n",
        "You are given an inclusive range [lower, upper] and a sorted unique integer array\n",
        "nums, where all elements are within the inclusive range.\n",
        "\n",
        "A number x is considered missing if x is in the range [lower, upper] and x is not in\n",
        "nums.\n",
        "\n",
        "Return the shortest sorted list of ranges that exactly covers all the missing\n",
        "numbers. That is, no element of nums is included in any of the ranges, and each\n",
        "missing number is covered by one of the ranges.\n",
        "\n",
        "Example 1:\n",
        "Input: nums = [0,1,3,50,75], lower = 0, upper = 99\n",
        "Output: [[2,2],[4,49],[51,74],[76,99]]\n",
        "\n",
        "Explanation: The ranges are:\n",
        "[2,2]\n",
        "[4,49]\n",
        "[51,74]\n",
        "[76,99]"
      ],
      "metadata": {
        "id": "qhq2gd6byGLu"
      }
    },
    {
      "cell_type": "code",
      "source": [
        "def FindMissingRange(nums,lower,upper):\n",
        "  n= len(nums)\n",
        "  if n==0:\n",
        "    return [lower,upper]\n",
        "  ans=[]\n",
        "  if nums[0]>lower:\n",
        "    ans.append([lower,nums[0]-1])\n",
        "  for i in range(1,len(nums)):\n",
        "    if nums[i]-nums[i-1]>1:\n",
        "      ans.append([nums[i-1]+1,nums[i]-1])\n",
        "\n",
        "  if nums[-1]<upper:\n",
        "    ans.append([nums[-1]+1,upper])\n",
        "  return ans"
      ],
      "metadata": {
        "id": "ohOrZnmmFDgC"
      },
      "execution_count": 32,
      "outputs": []
    },
    {
      "cell_type": "code",
      "source": [
        "print(FindMissingRange( [0,1,3,50,75],0,99))"
      ],
      "metadata": {
        "colab": {
          "base_uri": "https://localhost:8080/"
        },
        "id": "QaU2TYwNLjWl",
        "outputId": "09af0a3b-d54d-4f43-967b-18bcbf6758bd"
      },
      "execution_count": 33,
      "outputs": [
        {
          "output_type": "stream",
          "name": "stdout",
          "text": [
            "[[2, 2], [4, 49], [51, 74], [76, 99]]\n"
          ]
        }
      ]
    },
    {
      "cell_type": "code",
      "source": [
        "print(FindMissingRange( [-1],-1,-1))"
      ],
      "metadata": {
        "colab": {
          "base_uri": "https://localhost:8080/"
        },
        "id": "0jfr0DWtOlHf",
        "outputId": "0d307ea2-65bf-4873-fb88-1c23eba3ea21"
      },
      "execution_count": 34,
      "outputs": [
        {
          "output_type": "stream",
          "name": "stdout",
          "text": [
            "[]\n"
          ]
        }
      ]
    },
    {
      "cell_type": "markdown",
      "source": [
        "Question 8\n",
        "Given an array of meeting time intervals where intervals[i] = [starti, endi],\n",
        "determine if a person could attend all meetings.\n",
        "\n",
        "Example 1:\n",
        "Input: intervals = [[0,30],[5,10],[15,20]]\n",
        "Output: false"
      ],
      "metadata": {
        "id": "RvksIEidy2Ki"
      }
    },
    {
      "cell_type": "code",
      "source": [
        "def CanAttendMeeting(intervals):\n",
        "  intervals.sort()\n",
        "  for i in range(len(intervals)):\n",
        "    if (intervals[i[1]]> intervals[i+1][0]):\n",
        "      return False\n",
        "  return True\n",
        ""
      ],
      "metadata": {
        "id": "wMVrBo2JOsq9"
      },
      "execution_count": 36,
      "outputs": []
    },
    {
      "cell_type": "code",
      "source": [],
      "metadata": {
        "id": "lgI6GIbYO-vE"
      },
      "execution_count": null,
      "outputs": []
    }
  ]
}