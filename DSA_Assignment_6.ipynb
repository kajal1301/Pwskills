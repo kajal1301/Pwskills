{
  "nbformat": 4,
  "nbformat_minor": 0,
  "metadata": {
    "colab": {
      "provenance": [],
      "authorship_tag": "ABX9TyPMNd7ox9fBma2yTd2LQRFM",
      "include_colab_link": true
    },
    "kernelspec": {
      "name": "python3",
      "display_name": "Python 3"
    },
    "language_info": {
      "name": "python"
    }
  },
  "cells": [
    {
      "cell_type": "markdown",
      "metadata": {
        "id": "view-in-github",
        "colab_type": "text"
      },
      "source": [
        "<a href=\"https://colab.research.google.com/github/kajal1301/Pwskills/blob/main/DSA_Assignment_6.ipynb\" target=\"_parent\"><img src=\"https://colab.research.google.com/assets/colab-badge.svg\" alt=\"Open In Colab\"/></a>"
      ]
    },
    {
      "cell_type": "markdown",
      "source": [
        "<aside>\n",
        "💡 **Question 1**\n",
        "\n",
        "A permutation perm of n + 1 integers of all the integers in the range [0, n] can be represented as a string s of length n where:\n",
        "\n",
        "- s[i] == 'I' if perm[i] < perm[i + 1], and\n",
        "- s[i] == 'D' if perm[i] > perm[i + 1].\n",
        "\n",
        "Given a string s, reconstruct the permutation perm and return it. If there are multiple valid permutations perm, return **any of them**.\n",
        "\n",
        "**Example 1:**\n",
        "\n",
        "**Input:** s = \"IDID\"\n",
        "\n",
        "**Output:**\n",
        "\n",
        "[0,4,1,3,2]\n",
        "\n",
        "</aside>"
      ],
      "metadata": {
        "id": "00aWc1tBNXJ6"
      }
    },
    {
      "cell_type": "code",
      "execution_count": null,
      "metadata": {
        "id": "QRHLRfExNBQ7"
      },
      "outputs": [],
      "source": [
        "def diStringMatch(self, s: str) -> List[int]:\n",
        "        count1,count2=0,len(s)\n",
        "        perm=[]\n",
        "        for i in s:\n",
        "            if i=='I':\n",
        "                perm.append(count1)\n",
        "                count1+=1\n",
        "            elif i=='D':\n",
        "                perm.append(count2)\n",
        "                count2-=1\n",
        "        if s[-1]== 'I':\n",
        "            perm.append(count1)\n",
        "        else:\n",
        "            perm.append(count2)\n",
        "        return perm"
      ]
    },
    {
      "cell_type": "markdown",
      "source": [
        "<aside>\n",
        "💡 **Question 2**\n",
        "\n",
        "You are given an m x n integer matrix matrix with the following two properties:\n",
        "\n",
        "- Each row is sorted in non-decreasing order.\n",
        "- The first integer of each row is greater than the last integer of the previous row.\n",
        "\n",
        "Given an integer target, return true *if* target *is in* matrix *or* false *otherwise*.\n",
        "\n",
        "You must write a solution in O(log(m * n)) time complexity.\n",
        "\n",
        "</aside>\n"
      ],
      "metadata": {
        "id": "z2_WAzwzQGup"
      }
    },
    {
      "cell_type": "code",
      "source": [
        "def searchMatrix(self, matrix: List[List[int]], target: int) -> bool:\n",
        "        for i in matrix:\n",
        "            if target in i:\n",
        "                return True\n",
        "        return False"
      ],
      "metadata": {
        "id": "vv37X4ezQJdb"
      },
      "execution_count": null,
      "outputs": []
    },
    {
      "cell_type": "markdown",
      "source": [
        "<aside>\n",
        "💡 **Question 3**\n",
        "\n",
        "Given an array of integers arr, return *true if and only if it is a valid mountain array*.\n",
        "\n",
        "Recall that arr is a mountain array if and only if:\n",
        "\n",
        "- arr.length >= 3\n",
        "- There exists some i with 0 < i < arr.length - 1 such that:\n",
        "    - arr[0] < arr[1] < ... < arr[i - 1] < arr[i]\n",
        "    - arr[i] > arr[i + 1] > ... > arr[arr.length - 1]\n",
        "</aside>\n",
        "**Example 1:**\n",
        "\n",
        "**Input:** arr = [2,1]\n",
        "\n",
        "**Output:**\n",
        "\n",
        "false"
      ],
      "metadata": {
        "id": "aCOTQ078SH5z"
      }
    },
    {
      "cell_type": "code",
      "source": [
        "def validMountainArray(self, arr: List[int]) -> bool:\n",
        "        ##base case\n",
        "        increasing= False\n",
        "        decreasing= False\n",
        "        if len(arr)<3:\n",
        "            return False\n",
        "        max_num= max(arr)\n",
        "        for i in range(1,len(arr)):\n",
        "            if arr[i]>arr[i-1]:\n",
        "                if decreasing:\n",
        "                    return False\n",
        "                increasing = True\n",
        "            elif arr[i]<arr[i-1]:\n",
        "                if not increasing:\n",
        "                    return False\n",
        "                decreasing = True\n",
        "            else:\n",
        "                return False\n",
        "        return True if increasing and decreasing else False"
      ],
      "metadata": {
        "id": "kob80k7VSKBa"
      },
      "execution_count": null,
      "outputs": []
    },
    {
      "cell_type": "markdown",
      "source": [
        "<aside>\n",
        "💡 **Question 4**\n",
        "\n",
        "Given a binary array nums, return *the maximum length of a contiguous subarray with an equal number of* 0 *and* 1.\n",
        "\n",
        "**Example 1:**\n",
        "\n",
        "**Input:** nums = [0,1]\n",
        "\n",
        "**Output:** 2\n",
        "\n",
        "**Explanation:**\n",
        "\n",
        "[0, 1] is the longest contiguous subarray with an equal number of 0 and 1.\n",
        "\n",
        "</aside>"
      ],
      "metadata": {
        "id": "0Zh7-LwWUBF8"
      }
    },
    {
      "cell_type": "code",
      "source": [
        "def findMaxLength(self, nums: List[int]) -> int:\n",
        "        dict = {}\n",
        "        subarr, count= 0,0\n",
        "        for i in range(len(nums)):\n",
        "            if nums[i]== 1:\n",
        "                count+=1\n",
        "            else:\n",
        "                count+= -1\n",
        "            if count== 0:\n",
        "                subarr= i+1\n",
        "            if count in dict:\n",
        "                subarr= max(subarr, i- dict[count])\n",
        "            else:\n",
        "                dict[count]= i\n",
        "        return subarr"
      ],
      "metadata": {
        "id": "jwack_vBUDtm"
      },
      "execution_count": null,
      "outputs": []
    },
    {
      "cell_type": "markdown",
      "source": [
        "<aside>\n",
        "💡 **Question 5**\n",
        "\n",
        "The **product sum** of two equal-length arrays a and b is equal to the sum of a[i] * b[i] for all 0 <= i < a.length (**0-indexed**).\n",
        "\n",
        "- For example, if a = [1,2,3,4] and b = [5,2,3,1], the **product sum** would be 1*5 + 2*2 + 3*3 + 4*1 = 22.\n",
        "\n",
        "Given two arrays nums1 and nums2 of length n, return *the **minimum product sum** if you are allowed to **rearrange** the **order** of the elements in* nums1.\n",
        "\n",
        "**Example 1:**\n",
        "\n",
        "**Input:** nums1 = [5,3,4,2], nums2 = [4,2,2,5]\n",
        "\n",
        "**Output:** 40\n",
        "\n",
        "**Explanation:**\n",
        "\n",
        "We can rearrange nums1 to become [3,5,4,2]. The product sum of [3,5,4,2] and [4,2,2,5] is 3*4 + 5*2 + 4*2 + 2*5 = 40.\n",
        "\n",
        "</aside>\n",
        "\n",
        "<aside>"
      ],
      "metadata": {
        "id": "patKXw9bUwt5"
      }
    },
    {
      "cell_type": "code",
      "source": [
        "def Min_product_of_array(arr1,arr2):\n",
        "  arr1.sort()\n",
        "  arr2.sort()\n",
        "  sum1=0\n",
        "  for i in range(len(arr1)):\n",
        "    sum1+=arr1[i]*arr2[len(arr2)-i-1]\n",
        "  return sum1"
      ],
      "metadata": {
        "id": "6srS-VvnUzEU"
      },
      "execution_count": null,
      "outputs": []
    },
    {
      "cell_type": "code",
      "source": [
        "print(Min_product_of_array( [5,3,4,2],[4,2,2,5]))"
      ],
      "metadata": {
        "colab": {
          "base_uri": "https://localhost:8080/"
        },
        "id": "gfWkOpQpV-aa",
        "outputId": "64ab0727-8c77-4c27-b7ec-e1550bfd5bff"
      },
      "execution_count": null,
      "outputs": [
        {
          "output_type": "stream",
          "name": "stdout",
          "text": [
            "40\n"
          ]
        }
      ]
    },
    {
      "cell_type": "code",
      "source": [
        "print(Min_product_of_array( [2,1,4,5,7], [3,2,4,8,6]))"
      ],
      "metadata": {
        "colab": {
          "base_uri": "https://localhost:8080/"
        },
        "id": "QRLTW96iWEtQ",
        "outputId": "50590e42-38eb-4b09-cb0e-958975519167"
      },
      "execution_count": null,
      "outputs": [
        {
          "output_type": "stream",
          "name": "stdout",
          "text": [
            "65\n"
          ]
        }
      ]
    },
    {
      "cell_type": "markdown",
      "source": [
        "<aside>\n",
        "💡 **Question 6**\n",
        "\n",
        "An integer array original is transformed into a **doubled** array changed by appending **twice the value** of every element in original, and then randomly **shuffling** the resulting array.\n",
        "\n",
        "Given an array changed, return original *if* changed *is a **doubled** array. If* changed *is not a **doubled** array, return an empty array. The elements in* original *may be returned in **any** order*.\n",
        "\n",
        "**Example 1:**\n",
        "\n",
        "**Input:** changed = [1,3,4,2,6,8]\n",
        "\n",
        "**Output:** [1,3,4]\n",
        "\n",
        "**Explanation:** One possible original array could be [1,3,4]:\n",
        "\n",
        "- Twice the value of 1 is 1 * 2 = 2.\n",
        "- Twice the value of 3 is 3 * 2 = 6.\n",
        "- Twice the value of 4 is 4 * 2 = 8.\n",
        "\n",
        "Other original arrays could be [4,3,1] or [3,1,4].\n",
        "\n",
        "</aside>"
      ],
      "metadata": {
        "id": "-abgJNX-WfpU"
      }
    },
    {
      "cell_type": "code",
      "source": [
        "def findOriginalArray(self, changed: List[int]) -> List[int]:\n",
        "        if len(changed)%2 ==1:\n",
        "            return []\n",
        "        temp= Counter(changed)\n",
        "        res=[]\n",
        "        for i in sorted(temp):\n",
        "            if temp[i]<0:\n",
        "                return []\n",
        "            m= i*2\n",
        "            while temp[i]>0:\n",
        "                if temp[m]==0:\n",
        "                    return []\n",
        "                res.append(i)\n",
        "                temp[i]-=1\n",
        "                temp[m]-=1\n",
        "        return res"
      ],
      "metadata": {
        "id": "puPAi-6WWP8h"
      },
      "execution_count": null,
      "outputs": []
    },
    {
      "cell_type": "markdown",
      "source": [
        "<aside>\n",
        "💡 **Question 7**\n",
        "\n",
        "Given a positive integer n, generate an n x n matrix filled with elements from 1 to n2 in spiral order.\n",
        "\n",
        "**Example 1:**\n",
        "\n",
        "</aside>**Input:** n = 3\n",
        "\n",
        "**Output:** [[1,2,3],[8,9,4],[7,6,5]]"
      ],
      "metadata": {
        "id": "KsRrL0bsWpzB"
      }
    },
    {
      "cell_type": "code",
      "source": [
        "def generateMatrix(self, n: int) -> List[List[int]]:\n",
        "        ans= [[0 for i in range(n)] for i in range(n)]\n",
        "        left,right, top, bottom= 0,n-1,0,n-1\n",
        "        m= 1\n",
        "        while left<= right and top <=bottom:\n",
        "            for i in range(left,right+1):\n",
        "                ans[top][i]= m\n",
        "                m+=1\n",
        "            top+=1\n",
        "            for i in range(top,bottom+1):\n",
        "                ans[i][right]= m\n",
        "                m+=1\n",
        "            right-=1\n",
        "            if top<=bottom:\n",
        "                for i in range(right,left-1,-1):\n",
        "                    ans[bottom][i]=m\n",
        "                    m+=1\n",
        "                bottom-=1\n",
        "            if left<=right:\n",
        "                for i in range(bottom,top-1,-1):\n",
        "                    ans[i][left]= m\n",
        "                    m+=1\n",
        "                left+=1\n",
        "        return ans"
      ],
      "metadata": {
        "id": "DSBgERW1Wyga"
      },
      "execution_count": null,
      "outputs": []
    },
    {
      "cell_type": "markdown",
      "source": [
        "<aside>\n",
        "💡 **Question 8**\n",
        "\n",
        "Given two [sparse matrices](https://en.wikipedia.org/wiki/Sparse_matrix) mat1 of size m x k and mat2 of size k x n, return the result of mat1 x mat2. You may assume that multiplication is always possible.\n",
        "\n",
        "**Example 1:**\n",
        "\n",
        "</aside>**Input:** mat1 = [[1,0,0],[-1,0,3]], mat2 = [[7,0,0],[0,0,0],[0,0,1]]\n",
        "\n",
        "**Output:**\n",
        "\n",
        "[[7,0,0],[-7,0,3]]"
      ],
      "metadata": {
        "id": "6eUDP7_VRvyq"
      }
    },
    {
      "cell_type": "code",
      "source": [
        "from collections import defaultdict\n",
        "def sparse_matrices(mat1, mat2):\n",
        "\n",
        "    ##size of output matrix will me row1*col2\n",
        "  res= [[0 for i in range(len(mat2[0]))] for i in range(len(mat1))]\n",
        "  num= defaultdict(list)\n",
        "  for i in range(len(mat1)):\n",
        "    for j in range(len(mat1[0])):\n",
        "      if mat1[i][j]!=0:\n",
        "        num[i].append(j)\n",
        "  for i in range(len(mat1)):\n",
        "    for j in range(len(mat2[0])):\n",
        "      for k in num[i]:\n",
        "        res[i][j]+=mat1[i][k]*mat2[k][j]\n",
        "  return res\n",
        "\n",
        ""
      ],
      "metadata": {
        "id": "zf2qNbyZRxcG"
      },
      "execution_count": 24,
      "outputs": []
    },
    {
      "cell_type": "code",
      "source": [
        "print(sparse_matrices([[1,0,0],[-1,0,3]],[[7,0,0],[0,0,0],[0,0,1]]))"
      ],
      "metadata": {
        "colab": {
          "base_uri": "https://localhost:8080/"
        },
        "id": "2eNlIZw-PJ9_",
        "outputId": "526b1b66-b0b7-45fb-e7a3-508f05b38dd0"
      },
      "execution_count": 25,
      "outputs": [
        {
          "output_type": "stream",
          "name": "stdout",
          "text": [
            "[[7, 0, 0], [-7, 0, 3]]\n"
          ]
        }
      ]
    },
    {
      "cell_type": "code",
      "source": [
        "\n"
      ],
      "metadata": {
        "id": "MXsBDbXePeWp"
      },
      "execution_count": null,
      "outputs": []
    }
  ]
}