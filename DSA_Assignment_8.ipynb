{
  "nbformat": 4,
  "nbformat_minor": 0,
  "metadata": {
    "colab": {
      "provenance": [],
      "authorship_tag": "ABX9TyO5Y12pSjnUfGpQ9vh5ui+y",
      "include_colab_link": true
    },
    "kernelspec": {
      "name": "python3",
      "display_name": "Python 3"
    },
    "language_info": {
      "name": "python"
    }
  },
  "cells": [
    {
      "cell_type": "markdown",
      "metadata": {
        "id": "view-in-github",
        "colab_type": "text"
      },
      "source": [
        "<a href=\"https://colab.research.google.com/github/kajal1301/Pwskills/blob/main/DSA_Assignment_8.ipynb\" target=\"_parent\"><img src=\"https://colab.research.google.com/assets/colab-badge.svg\" alt=\"Open In Colab\"/></a>"
      ]
    },
    {
      "cell_type": "markdown",
      "source": [
        "<aside>\n",
        "💡 **Question 1**\n",
        "\n",
        "Given two strings s1 and s2, return *the lowest **ASCII** sum of deleted characters to make two strings equal*.\n",
        "\n",
        "**Example 1:**\n",
        "\n",
        "**Input:** s1 = \"sea\", s2 = \"eat\"\n",
        "\n",
        "**Output:** 231\n",
        "\n",
        "**Explanation:** Deleting \"s\" from \"sea\" adds the ASCII value of \"s\" (115) to the sum.\n",
        "\n",
        "Deleting \"t\" from \"eat\" adds 116 to the sum.\n",
        "\n",
        "At the end, both strings are equal, and 115 + 116 = 231 is the minimum sum possible to achieve this.\n",
        "\n",
        "</aside>"
      ],
      "metadata": {
        "id": "rk43V3X7w8wM"
      }
    },
    {
      "cell_type": "code",
      "execution_count": null,
      "metadata": {
        "id": "CZtA4Nwrw44f"
      },
      "outputs": [],
      "source": [
        "def minimumDeleteSum(self, s1: str, s2: str) -> int:\n",
        "        m= len(s1)\n",
        "        n= len(s2)\n",
        "        temp= [[0 for i in range(len(s1)+1)] for j in range(len(s2)+1)]\n",
        "        for i in range(len(s2)+1):\n",
        "            for j in range(len(s1)+1):\n",
        "                if i ==0 and j==0:\n",
        "                    continue\n",
        "                elif i == 0:\n",
        "                    temp[i][j]+= temp[i][j-1] + ord(s1[j-1])\n",
        "                elif j==0:\n",
        "                    temp[i][j]+= temp[i-1][j] + ord(s2[i-1])\n",
        "                elif s1[j-1]==s2[i-1]:\n",
        "                    temp[i][j]= temp[i-1][j-1]\n",
        "                else:\n",
        "                    temp[i][j]= min(ord(s1[j-1]) + temp[i][j-1], ord(s2[i-1]) +temp[i-1][j])\n",
        "        return temp[n][m]"
      ]
    },
    {
      "cell_type": "markdown",
      "source": [
        "**Question 2**\n",
        "Given a string s containing only three types of characters: '(', ')' and '*', return true *if* s *is **valid***.\n",
        "\n",
        "The following rules define a **valid** string:\n",
        "\n",
        "- Any left parenthesis '(' must have a corresponding right parenthesis ')'.\n",
        "- Any right parenthesis ')' must have a corresponding left parenthesis '('.\n",
        "- Left parenthesis '(' must go before the corresponding right parenthesis ')'.\n",
        "- '*' could be treated as a single right parenthesis ')' or a single left parenthesis '(' or an empty string \"\".\n",
        "\n",
        "**Example 1:**\n",
        "\n",
        "**Input:** s = \"()\"\n",
        "\n",
        "**Output:**\n",
        "\n",
        "true"
      ],
      "metadata": {
        "id": "-TTaS3y7ptrx"
      }
    },
    {
      "cell_type": "code",
      "source": [
        "def checkValidString(self, s: str) -> bool:\n",
        "    stack= []\n",
        "    stack1= []\n",
        "    for i, c in enumerate(s):\n",
        "        if c== '(':\n",
        "            stack.append(i)\n",
        "        elif c== '*':\n",
        "            stack1.append(i)\n",
        "        elif c== ')':\n",
        "            if len(stack)> 0:\n",
        "                stack.pop()\n",
        "            elif len(stack1)>0:\n",
        "                stack1.pop()\n",
        "            else:\n",
        "                return False\n",
        "    while stack and stack1:\n",
        "        if stack[-1]< stack1[-1]:\n",
        "            stack.pop()\n",
        "            stack1.pop()\n",
        "        else:\n",
        "            break\n",
        "    return len(stack)== 0"
      ],
      "metadata": {
        "id": "KuWcgQ1TpuNU"
      },
      "execution_count": null,
      "outputs": []
    },
    {
      "cell_type": "markdown",
      "source": [
        "<aside>\n",
        "💡 **Question 3**\n",
        "\n",
        "Given two strings word1 and word2, return *the minimum number of **steps** required to make* word1 *and* word2 *the same*.\n",
        "\n",
        "In one **step**, you can delete exactly one character in either string.\n",
        "\n",
        "**Example 1:**\n",
        "\n",
        "**Input:** word1 = \"sea\", word2 = \"eat\"\n",
        "\n",
        "**Output:** 2\n",
        "\n",
        "**Explanation:** You need one step to make \"sea\" to \"ea\" and another step to make \"eat\" to \"ea\".\n",
        "\n",
        "</aside>"
      ],
      "metadata": {
        "id": "a7Re7h53u_4o"
      }
    },
    {
      "cell_type": "code",
      "source": [
        "def minDistance(self, word1: str, word2: str) -> int:\n",
        "  ##@functools.lru_cache(None)\n",
        "  def recurse(i, j):\n",
        "      x, y = word1[i:i+1], word2[j:j+1]\n",
        "      if x == \"\" or y == \"\":\n",
        "          return max(len(word1[i:]), len(word2[j:]))\n",
        "      if x == y:\n",
        "          return recurse(i+1, j+1)\n",
        "      return 1 + min(recurse(i+1, j), recurse(i, j+1))\n",
        "  return recurse(0, 0)"
      ],
      "metadata": {
        "id": "Nx2kMY8Rt2oM"
      },
      "execution_count": null,
      "outputs": []
    },
    {
      "cell_type": "markdown",
      "source": [
        "<aside>\n",
        "💡 **Question 4**\n",
        "\n",
        "You need to construct a binary tree from a string consisting of parenthesis and integers.\n",
        "\n",
        "The whole input represents a binary tree. It contains an integer followed by zero, one or two pairs of parenthesis. The integer represents the root's value and a pair of parenthesis contains a child binary tree with the same structure.\n",
        "You always start to construct the **left** child node of the parent first if it exists.\n",
        "\n",
        "</aside>"
      ],
      "metadata": {
        "id": "5_EpDDULxrPE"
      }
    },
    {
      "cell_type": "code",
      "source": [
        "# class TreeNode:\n",
        "#     def __init__(self, val=0, left=None, right=None):\n",
        "#         self.val = val\n",
        "#         self.left = left\n",
        "#         self.right = right\n",
        "class Solution:\n",
        "    def str_to_tree(self, root: Optional[TreeNode]) -> str:\n",
        "      if s:\n",
        "        start = temp= 0\n",
        "        root= None\n",
        "        for i,c in enumerate(s):\n",
        "          if c==\"(\":\n",
        "            if not root and temp ==0:\n",
        "              root = TreeNode(s[:i])\n",
        "            temp+=1\n",
        "            if temp==1:\n",
        "              start= i+1\n",
        "          if c==\")\":\n",
        "            temp-=1\n",
        "            if temp==0:\n",
        "              if not root.left:\n",
        "                root.left= self.str_to_tree(s[start:i])\n",
        "              else:\n",
        "                root.right = self.str_to_tree(s[start:i])\n",
        "        return root if root else TreeNode(s)"
      ],
      "metadata": {
        "id": "4mooDFwaw8Z9"
      },
      "execution_count": null,
      "outputs": []
    },
    {
      "cell_type": "markdown",
      "source": [
        "<aside>\n",
        "💡 **Question 5**\n",
        "\n",
        "Given an array of characters chars, compress it using the following algorithm:\n",
        "\n",
        "Begin with an empty string s. For each group of **consecutive repeating characters** in chars:\n",
        "\n",
        "- If the group's length is 1, append the character to s.\n",
        "- Otherwise, append the character followed by the group's length.\n",
        "\n",
        "The compressed string s **should not be returned separately**, but instead, be stored **in the input character array chars**. Note that group lengths that are 10 or longer will be split into multiple characters in chars.\n",
        "\n",
        "After you are done **modifying the input array,** return *the new length of the array*.\n",
        "\n",
        "You must write an algorithm that uses only constant extra space.\n",
        "\n",
        "**Example 1:**\n",
        "\n",
        "**Input:** chars = [\"a\",\"a\",\"b\",\"b\",\"c\",\"c\",\"c\"]\n",
        "\n",
        "**Output:** Return 6, and the first 6 characters of the input array should be: [\"a\",\"2\",\"b\",\"2\",\"c\",\"3\"]\n",
        "\n",
        "**Explanation:**\n",
        "\n",
        "The groups are \"aa\", \"bb\", and \"ccc\". This compresses to \"a2b2c3\".\n",
        "\n",
        "</aside>"
      ],
      "metadata": {
        "id": "R6hZs-1517KS"
      }
    },
    {
      "cell_type": "code",
      "source": [
        "def compress(self, chars: List[str]) -> int:\n",
        "    if chars == None or len(chars) < 1:\n",
        "        return 0;\n",
        "    start, end, index =0, 0, 0\n",
        "    while start< len(chars):\n",
        "        end=start\n",
        "        while end< len(chars) and chars[start]==chars[end]:\n",
        "            end+=1\n",
        "        chars[index]=chars[start]\n",
        "        index+=1\n",
        "        if end-start > 1:\n",
        "            for s in str(end-start):\n",
        "                chars[index]=s\n",
        "                index+=1\n",
        "        start=end\n",
        "    return index\n"
      ],
      "metadata": {
        "id": "1NsY5Auf11QB"
      },
      "execution_count": null,
      "outputs": []
    },
    {
      "cell_type": "markdown",
      "source": [
        "<aside>\n",
        "💡 **Question 6**\n",
        "\n",
        "Given two strings s and p, return *an array of all the start indices of* p*'s anagrams in* s. You may return the answer in **any order**.\n",
        "\n",
        "An **Anagram** is a word or phrase formed by rearranging the letters of a different word or phrase, typically using all the original letters exactly once.\n",
        "\n",
        "**Example 1:**\n",
        "\n",
        "**Input:** s = \"cbaebabacd\", p = \"abc\"\n",
        "\n",
        "**Output:** [0,6]\n",
        "\n",
        "**Explanation:**\n",
        "\n",
        "The substring with start index = 0 is \"cba\", which is an anagram of \"abc\".\n",
        "\n",
        "The substring with start index = 6 is \"bac\", which is an anagram of \"abc\".\n",
        "\n",
        "</aside>"
      ],
      "metadata": {
        "id": "Mkx29G9r3Epk"
      }
    },
    {
      "cell_type": "code",
      "source": [
        "def findAnagrams(self, s: str, p: str) -> List[int]:\n",
        "    ans= []\n",
        "    p= sorted(p)\n",
        "    for i in range(len(s)-len(p)+1):\n",
        "        if p== sorted(s[i:i+len(p)]):\n",
        "            ans.append(i)\n",
        "    return ans"
      ],
      "metadata": {
        "colab": {
          "base_uri": "https://localhost:8080/"
        },
        "id": "VVcPWY913EZL",
        "outputId": "71ab1c78-b696-4c97-aaa6-b863d51272e9"
      },
      "execution_count": 5,
      "outputs": [
        {
          "output_type": "stream",
          "name": "stdout",
          "text": [
            "[0, 1, 2]\n"
          ]
        }
      ]
    },
    {
      "cell_type": "markdown",
      "source": [
        "<aside>\n",
        "💡 **Question 7**\n",
        "\n",
        "Given an encoded string, return its decoded string.\n",
        "\n",
        "The encoding rule is: k[encoded_string], where the encoded_string inside the square brackets is being repeated exactly k times. Note that k is guaranteed to be a positive integer.\n",
        "\n",
        "You may assume that the input string is always valid; there are no extra white spaces, square brackets are well-formed, etc. Furthermore, you may assume that the original data does not contain any digits and that digits are only for those repeat numbers, k. For example, there will not be input like 3a or 2[4].\n",
        "\n",
        "The test cases are generated so that the length of the output will never exceed 105.\n",
        "\n",
        "**Example 1:**\n",
        "\n",
        "**Input:** s = \"3[a]2[bc]\"\n",
        "\n",
        "**Output:** \"aaabcbc\"\n",
        "\n",
        "</aside>"
      ],
      "metadata": {
        "id": "z3ZYCoen4JS9"
      }
    },
    {
      "cell_type": "code",
      "source": [
        "def decodeString(self, s: str) -> str:\n",
        "    res,num=\"\",0\n",
        "    stack=[]\n",
        "    for i in s:\n",
        "        if i.isdigit():\n",
        "            num= num*10+int(i)\n",
        "        elif i==\"[\":\n",
        "            stack.append(res)\n",
        "            stack.append(num)\n",
        "            res=\"\"\n",
        "            num=0\n",
        "        elif i==\"]\":\n",
        "            a= stack.pop()\n",
        "            b= stack.pop()\n",
        "            res= b+ a*res\n",
        "        else:\n",
        "            res+=i\n",
        "    return res"
      ],
      "metadata": {
        "id": "0yWrsuTb33K6"
      },
      "execution_count": null,
      "outputs": []
    },
    {
      "cell_type": "markdown",
      "source": [
        "<aside>\n",
        "💡 **Question 8**\n",
        "\n",
        "Given two strings s and goal, return true *if you can swap two letters in* s *so the result is equal to* goal*, otherwise, return* false*.*\n",
        "\n",
        "Swapping letters is defined as taking two indices i and j (0-indexed) such that i != j and swapping the characters at s[i] and s[j].\n",
        "\n",
        "- For example, swapping at indices 0 and 2 in \"abcd\" results in \"cbad\".\n",
        "\n",
        "**Example 1:**\n",
        "\n",
        "**Input:** s = \"ab\", goal = \"ba\"\n",
        "\n",
        "**Output:** true\n",
        "\n",
        "**Explanation:** You can swap s[0] = 'a' and s[1] = 'b' to get \"ba\", which is equal to goal.\n",
        "\n",
        "</aside>"
      ],
      "metadata": {
        "id": "6BVYQFGt5WU9"
      }
    },
    {
      "cell_type": "code",
      "source": [
        "def buddyStrings(self, s: str, goal: str) -> bool:\n",
        "        if len(s)!= len(goal):\n",
        "            return False\n",
        "        if s==goal and len(set(s)) <len(s):\n",
        "            return True\n",
        "        temp= [(a,b) for a,b in zip(s,goal) if a!= b]\n",
        "        return len(temp)==2 and temp[0]==temp[1][::-1]"
      ],
      "metadata": {
        "id": "-3QEpi_z5YDf"
      },
      "execution_count": null,
      "outputs": []
    }
  ]
}