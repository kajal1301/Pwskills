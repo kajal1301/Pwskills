{
  "nbformat": 4,
  "nbformat_minor": 0,
  "metadata": {
    "colab": {
      "provenance": [],
      "authorship_tag": "ABX9TyNUfLb9l+8i+lI95BynCdkJ",
      "include_colab_link": true
    },
    "kernelspec": {
      "name": "python3",
      "display_name": "Python 3"
    },
    "language_info": {
      "name": "python"
    }
  },
  "cells": [
    {
      "cell_type": "markdown",
      "metadata": {
        "id": "view-in-github",
        "colab_type": "text"
      },
      "source": [
        "<a href=\"https://colab.research.google.com/github/kajal1301/Pwskills/blob/main/PPT_DS_assignment_2.ipynb\" target=\"_parent\"><img src=\"https://colab.research.google.com/assets/colab-badge.svg\" alt=\"Open In Colab\"/></a>"
      ]
    },
    {
      "cell_type": "markdown",
      "source": [
        "1. Scenario: A company wants to analyze the sales performance of its products in different regions. They have collected the following data:\n",
        "   Region A: [10, 15, 12, 8, 14]\n",
        "   Region B: [18, 20, 16, 22, 25]\n",
        "   Calculate the mean sales for each region.\n"
      ],
      "metadata": {
        "id": "FlWpWtFkxAYQ"
      }
    },
    {
      "cell_type": "code",
      "execution_count": 2,
      "metadata": {
        "colab": {
          "base_uri": "https://localhost:8080/"
        },
        "id": "rtz9s5QMw7Ha",
        "outputId": "4d6b78fa-f9a0-4dca-894d-b92702121ceb"
      },
      "outputs": [
        {
          "output_type": "stream",
          "name": "stdout",
          "text": [
            "Mean for Region A: 11.8\n",
            "Mean for Region B: 20.2\n"
          ]
        }
      ],
      "source": [
        "A= [10, 15, 12, 8, 14]\n",
        "B= [18, 20, 16, 22, 25]\n",
        "#mean sales for each region:\n",
        "print(f'Mean for Region A: {sum(A)/len(A)}')\n",
        "print(f'Mean for Region B: {sum(B)/len(B)}')"
      ]
    },
    {
      "cell_type": "markdown",
      "source": [
        "2. Scenario: A survey is conducted to measure customer satisfaction on a scale of 1 to 5. The data collected is as follows:\n",
        "   [4, 5, 2, 3, 5, 4, 3, 2, 4, 5]\n",
        "   Calculate the mode of the survey responses.\n",
        "\n"
      ],
      "metadata": {
        "id": "-DxTxul3w_fz"
      }
    },
    {
      "cell_type": "code",
      "source": [
        "import statistics as st\n",
        "data = [4, 5, 2, 3, 5, 4, 3, 2, 4, 5]\n",
        "print(f'Mode of data is : {st.mode(data)}')"
      ],
      "metadata": {
        "colab": {
          "base_uri": "https://localhost:8080/"
        },
        "id": "sWqfHT9dxddX",
        "outputId": "93be39c7-cc8f-4171-ce4c-eeeb0f122e0d"
      },
      "execution_count": 3,
      "outputs": [
        {
          "output_type": "stream",
          "name": "stdout",
          "text": [
            "Mode of data is : 4\n"
          ]
        }
      ]
    },
    {
      "cell_type": "markdown",
      "source": [
        "3. Scenario: A company wants to compare the salaries of two departments. The salary data for Department A and Department B are as follows:\n",
        "   Department A: [5000, 6000, 5500, 7000]\n",
        "   Department B: [4500, 5500, 5800, 6000, 5200]\n",
        "   Calculate the median salary for each department.\n"
      ],
      "metadata": {
        "id": "-On-URNfxrBQ"
      }
    },
    {
      "cell_type": "code",
      "source": [
        " A= [5000, 6000, 5500, 7000]\n",
        " B= [4500, 5500, 5800, 6000, 5200]\n",
        " print(f'Median of Department A : {st.median(A)}')\n",
        " print(f'Median of Department b : {st.median(B)}')"
      ],
      "metadata": {
        "colab": {
          "base_uri": "https://localhost:8080/"
        },
        "id": "1ytZaWTMxoAe",
        "outputId": "70f12b9a-9bd0-4f59-a4ed-131d690f5541"
      },
      "execution_count": 4,
      "outputs": [
        {
          "output_type": "stream",
          "name": "stdout",
          "text": [
            "Median of Department A : 5750.0\n",
            "Median of Department b : 5500\n"
          ]
        }
      ]
    },
    {
      "cell_type": "markdown",
      "source": [
        "4. Scenario: A data analyst wants to determine the variability in the daily stock prices of a company. The data collected is as follows:\n",
        "   [25.5, 24.8, 26.1, 25.3, 24.9]\n",
        "   Calculate the range of the stock prices.\n"
      ],
      "metadata": {
        "id": "rWmN6rygx8yC"
      }
    },
    {
      "cell_type": "code",
      "source": [
        "data1= [25.5, 24.8, 26.1, 25.3, 24.9]\n",
        "print(f'Range of stock prices is: {max(data1) - min(data1)}')"
      ],
      "metadata": {
        "colab": {
          "base_uri": "https://localhost:8080/"
        },
        "id": "xxsY3qPbx5cO",
        "outputId": "248ce5d4-2685-4837-ee85-9fa10fabe6e3"
      },
      "execution_count": 5,
      "outputs": [
        {
          "output_type": "stream",
          "name": "stdout",
          "text": [
            "Range of stock prices is: 1.3000000000000007\n"
          ]
        }
      ]
    },
    {
      "cell_type": "markdown",
      "source": [
        "5. Scenario: A study is conducted to compare the performance of two different teaching methods. The test scores of the students in each group are as follows:\n",
        "   Group A: [85, 90, 92, 88, 91]\n",
        "   Group B: [82, 88, 90, 86, 87]\n",
        "   Perform a t-test to determine if there is a significant difference in the mean scores between the two groups.\n"
      ],
      "metadata": {
        "id": "fVaLmKwwyRiC"
      }
    },
    {
      "cell_type": "code",
      "source": [],
      "metadata": {
        "id": "viL102YKyNTf"
      },
      "execution_count": null,
      "outputs": []
    }
  ]
}