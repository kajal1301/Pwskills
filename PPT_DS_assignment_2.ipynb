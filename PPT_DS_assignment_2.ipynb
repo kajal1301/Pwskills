{
  "nbformat": 4,
  "nbformat_minor": 0,
  "metadata": {
    "colab": {
      "provenance": [],
      "authorship_tag": "ABX9TyPeFnalLhJSu8epzGWcS0F6",
      "include_colab_link": true
    },
    "kernelspec": {
      "name": "python3",
      "display_name": "Python 3"
    },
    "language_info": {
      "name": "python"
    }
  },
  "cells": [
    {
      "cell_type": "markdown",
      "metadata": {
        "id": "view-in-github",
        "colab_type": "text"
      },
      "source": [
        "<a href=\"https://colab.research.google.com/github/kajal1301/Pwskills/blob/main/PPT_DS_assignment_2.ipynb\" target=\"_parent\"><img src=\"https://colab.research.google.com/assets/colab-badge.svg\" alt=\"Open In Colab\"/></a>"
      ]
    },
    {
      "cell_type": "markdown",
      "source": [
        "1. Scenario: A company wants to analyze the sales performance of its products in different regions. They have collected the following data:\n",
        "   Region A: [10, 15, 12, 8, 14]\n",
        "   Region B: [18, 20, 16, 22, 25]\n",
        "   Calculate the mean sales for each region.\n"
      ],
      "metadata": {
        "id": "FlWpWtFkxAYQ"
      }
    },
    {
      "cell_type": "code",
      "execution_count": null,
      "metadata": {
        "colab": {
          "base_uri": "https://localhost:8080/"
        },
        "id": "rtz9s5QMw7Ha",
        "outputId": "4d6b78fa-f9a0-4dca-894d-b92702121ceb"
      },
      "outputs": [
        {
          "output_type": "stream",
          "name": "stdout",
          "text": [
            "Mean for Region A: 11.8\n",
            "Mean for Region B: 20.2\n"
          ]
        }
      ],
      "source": [
        "A= [10, 15, 12, 8, 14]\n",
        "B= [18, 20, 16, 22, 25]\n",
        "#mean sales for each region:\n",
        "print(f'Mean for Region A: {sum(A)/len(A)}')\n",
        "print(f'Mean for Region B: {sum(B)/len(B)}')"
      ]
    },
    {
      "cell_type": "markdown",
      "source": [
        "2. Scenario: A survey is conducted to measure customer satisfaction on a scale of 1 to 5. The data collected is as follows:\n",
        "   [4, 5, 2, 3, 5, 4, 3, 2, 4, 5]\n",
        "   Calculate the mode of the survey responses.\n",
        "\n"
      ],
      "metadata": {
        "id": "-DxTxul3w_fz"
      }
    },
    {
      "cell_type": "code",
      "source": [
        "import statistics as st\n",
        "data = [4, 5, 2, 3, 5, 4, 3, 2, 4, 5]\n",
        "print(f'Mode of data is : {st.mode(data)}')"
      ],
      "metadata": {
        "colab": {
          "base_uri": "https://localhost:8080/"
        },
        "id": "sWqfHT9dxddX",
        "outputId": "93be39c7-cc8f-4171-ce4c-eeeb0f122e0d"
      },
      "execution_count": null,
      "outputs": [
        {
          "output_type": "stream",
          "name": "stdout",
          "text": [
            "Mode of data is : 4\n"
          ]
        }
      ]
    },
    {
      "cell_type": "markdown",
      "source": [
        "3. Scenario: A company wants to compare the salaries of two departments. The salary data for Department A and Department B are as follows:\n",
        "   Department A: [5000, 6000, 5500, 7000]\n",
        "   Department B: [4500, 5500, 5800, 6000, 5200]\n",
        "   Calculate the median salary for each department.\n"
      ],
      "metadata": {
        "id": "-On-URNfxrBQ"
      }
    },
    {
      "cell_type": "code",
      "source": [
        " A= [5000, 6000, 5500, 7000]\n",
        " B= [4500, 5500, 5800, 6000, 5200]\n",
        " print(f'Median of Department A : {st.median(A)}')\n",
        " print(f'Median of Department b : {st.median(B)}')"
      ],
      "metadata": {
        "colab": {
          "base_uri": "https://localhost:8080/"
        },
        "id": "1ytZaWTMxoAe",
        "outputId": "70f12b9a-9bd0-4f59-a4ed-131d690f5541"
      },
      "execution_count": null,
      "outputs": [
        {
          "output_type": "stream",
          "name": "stdout",
          "text": [
            "Median of Department A : 5750.0\n",
            "Median of Department b : 5500\n"
          ]
        }
      ]
    },
    {
      "cell_type": "markdown",
      "source": [
        "4. Scenario: A data analyst wants to determine the variability in the daily stock prices of a company. The data collected is as follows:\n",
        "   [25.5, 24.8, 26.1, 25.3, 24.9]\n",
        "   Calculate the range of the stock prices.\n"
      ],
      "metadata": {
        "id": "rWmN6rygx8yC"
      }
    },
    {
      "cell_type": "code",
      "source": [
        "data1= [25.5, 24.8, 26.1, 25.3, 24.9]\n",
        "print(f'Range of stock prices is: {max(data1) - min(data1)}')"
      ],
      "metadata": {
        "colab": {
          "base_uri": "https://localhost:8080/"
        },
        "id": "xxsY3qPbx5cO",
        "outputId": "248ce5d4-2685-4837-ee85-9fa10fabe6e3"
      },
      "execution_count": null,
      "outputs": [
        {
          "output_type": "stream",
          "name": "stdout",
          "text": [
            "Range of stock prices is: 1.3000000000000007\n"
          ]
        }
      ]
    },
    {
      "cell_type": "markdown",
      "source": [
        "5. Scenario: A study is conducted to compare the performance of two different teaching methods. The test scores of the students in each group are as follows:\n",
        "   Group A: [85, 90, 92, 88, 91]\n",
        "   Group B: [82, 88, 90, 86, 87]\n",
        "   Perform a t-test to determine if there is a significant difference in the mean scores between the two groups.\n"
      ],
      "metadata": {
        "id": "fVaLmKwwyRiC"
      }
    },
    {
      "cell_type": "code",
      "source": [
        "from scipy.stats import ttest_ind\n",
        "A= [85, 90, 92, 88, 91]\n",
        "B= [82, 88, 90, 86, 87]\n",
        "t_stats, p_value= ttest_ind(A,B)\n",
        "print(f'The result of T-Test is: {t_stats} and P Value is {p_value}')\n"
      ],
      "metadata": {
        "id": "viL102YKyNTf",
        "colab": {
          "base_uri": "https://localhost:8080/"
        },
        "outputId": "1baee6c5-e94a-4ca2-d662-1241a9700ca9"
      },
      "execution_count": 5,
      "outputs": [
        {
          "output_type": "stream",
          "name": "stdout",
          "text": [
            "The result of T-Test is: 1.4312528946642733 and P Value is 0.19023970239078333\n"
          ]
        }
      ]
    },
    {
      "cell_type": "markdown",
      "source": [
        "#### observation:-\n",
        "* Since p value ==0.19 which is greater than 0.05.\n",
        "* Hence it accept Null Hypothesis.\n",
        "* Which means there is no significant difference between mean scores of group A and group B."
      ],
      "metadata": {
        "id": "aPwulvC61KSM"
      }
    },
    {
      "cell_type": "markdown",
      "source": [
        "6. Scenario: A company wants to analyze the relationship between advertising expenditure and sales. The data collected is as follows:\n",
        "   Advertising Expenditure (in thousands): [10, 15, 12, 8, 14]\n",
        "   Sales (in thousands): [25, 30, 28, 20, 26]\n",
        "   Calculate the correlation coefficient between advertising expenditure and sales.\n"
      ],
      "metadata": {
        "id": "Ap7OXCwS1oXM"
      }
    },
    {
      "cell_type": "code",
      "source": [
        "import numpy as np\n",
        "Adv_Exp= [10, 15, 12, 8, 14]\n",
        "Sales = [25, 30, 28, 20, 26]\n",
        "corr_coef= np.corrcoef(Adv_Exp,Sales)[0,1]\n",
        "print(\"The correlation coefficient between Advertising Expenditure and Sales is {:.4f}\".format(corr_coef))"
      ],
      "metadata": {
        "colab": {
          "base_uri": "https://localhost:8080/"
        },
        "id": "3V_VOdif0B7K",
        "outputId": "a109f29a-68ca-4723-e071-162011ccb7d7"
      },
      "execution_count": 7,
      "outputs": [
        {
          "output_type": "stream",
          "name": "stdout",
          "text": [
            "The correlation coefficient between Advertising Expenditure and Sales is 0.8758\n"
          ]
        }
      ]
    },
    {
      "cell_type": "markdown",
      "source": [
        "#### Observation:\n",
        "Since the correlation coefficient is near to 1, there is a positive linear relationship between Advertising expenditure and Sales"
      ],
      "metadata": {
        "id": "2Q2E6jjN3QPS"
      }
    },
    {
      "cell_type": "markdown",
      "source": [
        "7. Scenario: A survey is conducted to measure the heights of a group of people. The data collected is as follows:\n",
        "   [160, 170, 165, 155, 175, 180, 170]\n",
        "   Calculate the standard deviation of the heights.\n"
      ],
      "metadata": {
        "id": "p9Aw8iTU3id4"
      }
    },
    {
      "cell_type": "code",
      "source": [
        "import statistics as st\n",
        "Heights=  [160, 170, 165, 155, 175, 180, 170]\n",
        "print(f'The standard Deviation of heights is: {st.stdev(Heights):.2f}')"
      ],
      "metadata": {
        "colab": {
          "base_uri": "https://localhost:8080/"
        },
        "id": "02Fg3mLt3Ayz",
        "outputId": "1f17d724-23e8-4fb5-ec36-c01619664ea1"
      },
      "execution_count": 46,
      "outputs": [
        {
          "output_type": "stream",
          "name": "stdout",
          "text": [
            "The standard Deviation of heights is: 8.59\n"
          ]
        }
      ]
    },
    {
      "cell_type": "markdown",
      "source": [
        "8. Scenario: A company wants to analyze the relationship between employee tenure and job satisfaction. The data collected is as follows:\n",
        "   Employee Tenure (in years): [2, 3, 5, 4, 6, 2, 4]\n",
        "   Job Satisfaction (on a scale of 1 to 10): [7, 8, 6, 9, 5, 7, 6]\n",
        "   Perform a linear regression analysis to predict job satisfaction based on employee tenure.\n",
        "\n"
      ],
      "metadata": {
        "id": "0GQRwJvl4XEK"
      }
    },
    {
      "cell_type": "code",
      "source": [
        "import numpy as np\n",
        "from sklearn.linear_model import LinearRegression\n",
        "\n",
        "Employee_Tenure= np.array([2, 3, 5, 4, 6, 2, 4]).reshape(-1,1)\n",
        "Job_Satisfaction = np.array([7, 8, 6, 9, 5, 7, 6])\n",
        "\n",
        "#creating linear regression model\n",
        "model= LinearRegression()\n",
        "\n",
        "#fitting the model\n",
        "model.fit(Employee_Tenure,Job_Satisfaction)\n",
        "\n",
        "#predict job satisfaction on basis of Employee Tenure:\n",
        "new_Tenure= np.array([5]).reshape(-1,1)\n",
        "predicted_satisfaction= model.predict(new_Tenure)\n",
        "\n",
        "#print predicted job satisfaction:\n",
        "print(f'The predicted job satisfaction after applying Linear Regression Model is: {predicted_satisfaction[0]:.2f}')\n",
        "\n"
      ],
      "metadata": {
        "colab": {
          "base_uri": "https://localhost:8080/"
        },
        "id": "wNr_eE9p4Mjp",
        "outputId": "98f831a9-cedb-4186-df7f-712390c8a042"
      },
      "execution_count": 47,
      "outputs": [
        {
          "output_type": "stream",
          "name": "stdout",
          "text": [
            "The predicted job satisfaction after applying Linear Regression Model is: 6.26\n"
          ]
        }
      ]
    },
    {
      "cell_type": "markdown",
      "source": [
        "9. Scenario: A study is conducted to compare the effectiveness of two different medications. The recovery times of the patients in each group are as follows:\n",
        "   Medication A: [10, 12, 14, 11, 13]\n",
        "   Medication B: [15, 17, 16, 14, 18]\n",
        "   Perform an analysis of variance (ANOVA) to determine if there is a significant difference in the mean recovery times between the two medications.\n"
      ],
      "metadata": {
        "id": "txDE11LN58YF"
      }
    },
    {
      "cell_type": "code",
      "source": [
        "from scipy.stats import f_oneway\n",
        "Medication_A= [10, 12, 14, 11, 13]\n",
        "Medication_B= [15, 17, 16, 14, 18]\n",
        "\n",
        "#one way annova\n",
        "f_stats,p_value= f_oneway(Medication_A,Medication_B)\n",
        "print(f'The p_value is: {p_value:.2f}')"
      ],
      "metadata": {
        "colab": {
          "base_uri": "https://localhost:8080/"
        },
        "id": "PLWtagHB5dj-",
        "outputId": "34206f06-d57e-4609-ca83-3f73c45f6412"
      },
      "execution_count": 48,
      "outputs": [
        {
          "output_type": "stream",
          "name": "stdout",
          "text": [
            "The p_value is: 0.00\n"
          ]
        }
      ]
    },
    {
      "cell_type": "markdown",
      "source": [
        "#### Observation:\n",
        "* Since p_value is less than 0.05 , it fails to accept Null Hypothesis.\n",
        "* Thus we can say that there is a significant difference in the mean recovery times between Medication A and Medication B."
      ],
      "metadata": {
        "id": "_mg2-RQo6_DY"
      }
    },
    {
      "cell_type": "markdown",
      "source": [
        "10. Scenario: A company wants to analyze customer feedback ratings on a scale of 1 to 10. The data collected is\n",
        "\n",
        " as follows:\n",
        "    [8, 9, 7, 6, 8, 10, 9, 8, 7, 8]\n",
        "    Calculate the 75th percentile of the feedback ratings.\n"
      ],
      "metadata": {
        "id": "YJcM1ddd7Zlm"
      }
    },
    {
      "cell_type": "code",
      "source": [
        " data =[8, 9, 7, 6, 8, 10, 9, 8, 7, 8]\n",
        " pt_75 = np.percentile(data,75)\n",
        " print(\"75 Percentile of the feedback ratings is :\",pt_75)"
      ],
      "metadata": {
        "colab": {
          "base_uri": "https://localhost:8080/"
        },
        "id": "wEJoerNk6sOg",
        "outputId": "e77abe0f-f299-4e38-9b9b-27f511a1bd52"
      },
      "execution_count": 16,
      "outputs": [
        {
          "output_type": "stream",
          "name": "stdout",
          "text": [
            "75 Percentile of the feedback ratings is : 8.75\n"
          ]
        }
      ]
    },
    {
      "cell_type": "markdown",
      "source": [
        "11. Scenario: A quality control department wants to test the weight consistency of a product. The weights of a sample of products are as follows:\n",
        "    [10.2, 9.8, 10.0, 10.5, 10.3, 10.1]\n",
        "    Perform a hypothesis test to determine if the mean weight differs significantly from 10 grams.\n"
      ],
      "metadata": {
        "id": "UO2Y-sce796f"
      }
    },
    {
      "cell_type": "code",
      "source": [
        "from scipy.stats import ttest_1samp\n",
        "weights= np.array([10.2, 9.8, 10.0, 10.5, 10.3, 10.1])\n",
        "\n",
        "# we will perform 1 sample ttest\n",
        "mean= 10\n",
        "\n",
        "t_stats,p_val= ttest_1samp(weights,mean)\n",
        "print(f'T statistics value of the weights is {t_stats} and p- Value is {p_val:.2f}')\n",
        "\n"
      ],
      "metadata": {
        "colab": {
          "base_uri": "https://localhost:8080/"
        },
        "id": "_D7nOYWy73t5",
        "outputId": "49d94423-7f9b-4f97-c6da-bf2eeb7ded6f"
      },
      "execution_count": 49,
      "outputs": [
        {
          "output_type": "stream",
          "name": "stdout",
          "text": [
            "T statistics value of the weights is 1.5126584522688367 and p- Value is 0.19\n"
          ]
        }
      ]
    },
    {
      "cell_type": "markdown",
      "source": [
        "#### observation:\n",
        "* Since p value >0.05, Thus it fails to reject Null Hypothesis.\n",
        "* This accepts Null Hypothesis\n",
        "* This means the mean weights doesnt have a significant difference of 10 grams."
      ],
      "metadata": {
        "id": "PhXRNCDP9AD6"
      }
    },
    {
      "cell_type": "markdown",
      "source": [
        "12. Scenario: A company wants to analyze the click-through rates of two different website designs. The number of clicks for each design is as follows:\n",
        "    Design A: [100, 120, 110, 90, 95]\n",
        "    Design B: [80, 85, 90, 95, 100]\n",
        "    Perform a chi-square test to determine if there is a significant difference in the click-through rates between the two designs.\n"
      ],
      "metadata": {
        "id": "AExl3ra69yju"
      }
    },
    {
      "cell_type": "code",
      "source": [
        "from scipy.stats import chi2_contingency\n",
        "Design_A = [100, 120, 110, 90, 95]\n",
        "Design_B = [80, 85, 90, 95, 100]\n",
        "\n",
        "#chi square test\n",
        "chi_stats,p_val, dof,expected = chi2_contingency([Design_A,Design_B])\n",
        "print(f'The test statistics for chi-square test is: {chi_stats} and p_value is {p_val:.2f}')\n"
      ],
      "metadata": {
        "colab": {
          "base_uri": "https://localhost:8080/"
        },
        "id": "lT98ws_88zwM",
        "outputId": "df947259-8be2-41ff-a669-9525eab76f5e"
      },
      "execution_count": 50,
      "outputs": [
        {
          "output_type": "stream",
          "name": "stdout",
          "text": [
            "The test statistics for chi-square test is: 6.110658166925435 and p_value is 0.19\n"
          ]
        }
      ]
    },
    {
      "cell_type": "markdown",
      "source": [
        "#### Observation:\n",
        "* Since p value >0.05, this fails to reject Null Hypothesis.\n",
        "* Hence we can conclude that there isnt significant difference in the click-through rates between Design A and Design B."
      ],
      "metadata": {
        "id": "Nv34b7p8-vA_"
      }
    },
    {
      "cell_type": "markdown",
      "source": [
        "13. Scenario: A survey is conducted to measure customer satisfaction with a product on a scale of 1 to 10. The data collected is as follows:\n",
        "    [7, 9, 6, 8, 10, 7, 8, 9, 7, 8]\n",
        "    Calculate the 95% confidence interval for the population mean satisfaction score.\n"
      ],
      "metadata": {
        "id": "CNwFvGTg_TPL"
      }
    },
    {
      "cell_type": "code",
      "source": [
        "import numpy as np\n",
        "import scipy.stats as st\n",
        "\n",
        "data = [7, 9, 6, 8, 10, 7, 8, 9, 7, 8]\n",
        "\n",
        "\n",
        "#confidence interval\n",
        "CI= st.t.interval(alpha= 0.95,df= len(data)-1, loc= np.mean(data),scale= st.sem(data))\n",
        "\n",
        "print(f'The 95% confidence interval of customer satisfaction data is {CI[0]:.2f} , {CI[1]:.2f}')"
      ],
      "metadata": {
        "colab": {
          "base_uri": "https://localhost:8080/"
        },
        "id": "0muOEHzi-diJ",
        "outputId": "0517bc06-6680-472d-c887-fcc6ff07b678"
      },
      "execution_count": 51,
      "outputs": [
        {
          "output_type": "stream",
          "name": "stdout",
          "text": [
            "The 95% confidence interval of customer satisfaction data is 7.04 , 8.76\n"
          ]
        },
        {
          "output_type": "stream",
          "name": "stderr",
          "text": [
            "<ipython-input-51-950aa92e5182>:8: DeprecationWarning: Use of keyword argument 'alpha' for method 'interval' is deprecated and wil be removed in SciPy 1.11.0. Use first positional argument or keyword argument 'confidence' instead.\n",
            "  CI= st.t.interval(alpha= 0.95,df= len(data)-1, loc= np.mean(data),scale= st.sem(data))\n"
          ]
        }
      ]
    },
    {
      "cell_type": "markdown",
      "source": [
        "14. Scenario: A company wants to analyze the effect of temperature on product performance. The data collected is as follows:\n",
        "    Temperature (in degrees Celsius): [20, 22, 23, 19, 21]\n",
        "    Performance (on a scale of 1 to 10): [8, 7, 9, 6, 8]\n",
        "    Perform a simple linear regression to predict performance based on temperature.\n"
      ],
      "metadata": {
        "id": "PpHelc9mBqm9"
      }
    },
    {
      "cell_type": "code",
      "source": [
        "import numpy as np\n",
        "from sklearn.linear_model import LinearRegression\n",
        "\n",
        "\n",
        "Temperature = np.array([20, 22, 23, 19, 21]).reshape(-1,1)\n",
        "Performance = np.array([8, 7, 9, 6, 8])\n",
        "\n",
        "#Linear Regression Model\n",
        "model= LinearRegression()\n",
        "model.fit(Temperature,Performance)\n",
        "\n",
        "#predict model performance for a given temperature\n",
        "temp= np.array([[25]])\n",
        "prediction= model.predict(temp)\n",
        "\n",
        "print(f'The predicted Model Performance of Linear Regression Model is : {prediction[0]:.2f}')"
      ],
      "metadata": {
        "colab": {
          "base_uri": "https://localhost:8080/"
        },
        "id": "EDX7sflHBNXY",
        "outputId": "6f212c6f-9d7f-4b4d-aaa9-b1f28b7a2012"
      },
      "execution_count": 52,
      "outputs": [
        {
          "output_type": "stream",
          "name": "stdout",
          "text": [
            "The predicted Model Performance of Linear Regression Model is : 9.60\n"
          ]
        }
      ]
    },
    {
      "cell_type": "markdown",
      "source": [
        "15. Scenario: A study is conducted to compare the preferences of two groups of participants. The preferences are measured on a Likert scale from 1 to 5. The data collected is as follows:\n",
        "    Group A: [4, 3, 5, 2, 4]\n",
        "    Group B: [3, 2, 4, 3, 3]\n",
        "    Perform a Mann-Whitney U test to determine if there is a significant difference in the median preferences between the two groups.\n"
      ],
      "metadata": {
        "id": "7gOdtAPhC-Tz"
      }
    },
    {
      "cell_type": "code",
      "source": [
        "from scipy.stats import mannwhitneyu\n",
        "Group_A= [4, 3, 5, 2, 4]\n",
        "Group_B= [3, 2, 4, 3, 3]\n",
        "\n",
        "stats, p_val= mannwhitneyu(Group_A,Group_B)\n",
        "print(f'The test statistics value of groups is {stats} and p_value is {p_val:.2f} ')\n"
      ],
      "metadata": {
        "colab": {
          "base_uri": "https://localhost:8080/"
        },
        "id": "UyzHEbggCzqQ",
        "outputId": "4a623569-c710-40b2-ff58-1a9948f32cb5"
      },
      "execution_count": 53,
      "outputs": [
        {
          "output_type": "stream",
          "name": "stdout",
          "text": [
            "The test statistics value of groups is 17.0 and p_value is 0.38 \n"
          ]
        }
      ]
    },
    {
      "cell_type": "markdown",
      "source": [
        "#### Observation:\n",
        "* Since p_value >0.05, thus it fails to reject Null Hypothesis.\n",
        "* Thus there is not any much significant difference in the median preferences between the two groups."
      ],
      "metadata": {
        "id": "O87nCX9QDjIB"
      }
    },
    {
      "cell_type": "markdown",
      "source": [
        "16. Scenario: A company wants to analyze the distribution of customer ages. The data collected is as follows:\n",
        "    [25, 30, 35, 40, 45, 50, 55, 60, 65, 70]\n",
        "    Calculate the interquartile range (IQR) of the ages.\n"
      ],
      "metadata": {
        "id": "IQDE-W2-EGpT"
      }
    },
    {
      "cell_type": "code",
      "source": [
        "ages=  [25, 30, 35, 40, 45, 50, 55, 60, 65, 70]\n",
        "q1= np.percentile(ages,25)\n",
        "q3= np.percentile(ages,75)\n",
        "\n",
        "print(f'The interquartile range (IQR) of the customer ages is {q3-q1}')"
      ],
      "metadata": {
        "colab": {
          "base_uri": "https://localhost:8080/"
        },
        "id": "uvc-7dEqDfIb",
        "outputId": "759db124-0ad0-4619-e2d3-24f9fd0c8d0a"
      },
      "execution_count": 34,
      "outputs": [
        {
          "output_type": "stream",
          "name": "stdout",
          "text": [
            "The interquartile range (IQR) of the customer ages is 22.5\n"
          ]
        }
      ]
    },
    {
      "cell_type": "markdown",
      "source": [
        "17. Scenario: A study is conducted to compare the performance of three different machine learning algorithms. The accuracy scores for each algorithm are as follows:\n",
        "    Algorithm A: [0.85, 0.80, 0.82, 0.87, 0.83]\n",
        "    Algorithm B: [0.78, 0.82, 0.84, 0.80, 0.79]\n",
        "    Algorithm C: [0.90, 0.88, 0.89, 0.86, 0.87]\n",
        "    Perform a Kruskal-Wallis test to determine if there is a significant difference in the median accuracy scores between the algorithms.\n"
      ],
      "metadata": {
        "id": "PjEwk-WEEnuG"
      }
    },
    {
      "cell_type": "code",
      "source": [
        " from scipy.stats import kruskal\n",
        "\n",
        " Algorithm_A= [0.85, 0.80, 0.82, 0.87, 0.83]\n",
        " Algorithm_B= [0.78, 0.82, 0.84, 0.80, 0.79]\n",
        " Algorithm_C= [0.90, 0.88, 0.89, 0.86, 0.87]\n",
        "\n",
        " test_stats,p_val= kruskal(Algorithm_A,Algorithm_B,Algorithm_C)\n",
        "\n",
        " print(f'Kruskal-Wallis test statistics for median accuracy for algorithms is: {test_stats} and p_value is {p_val:.2f} ')\n"
      ],
      "metadata": {
        "colab": {
          "base_uri": "https://localhost:8080/"
        },
        "id": "AszmGLX2Eacv",
        "outputId": "e62dfe38-4197-4954-b967-e9b85c500ac2"
      },
      "execution_count": 54,
      "outputs": [
        {
          "output_type": "stream",
          "name": "stdout",
          "text": [
            "Kruskal-Wallis test statistics for median accuracy for algorithms is: 9.696947935368053 and p_value is 0.01 \n"
          ]
        }
      ]
    },
    {
      "cell_type": "markdown",
      "source": [
        "#### Observation:-\n",
        "* Since p value >0.05, it fails to reject Null Hypothesis.\n",
        "* Thus there isnt a significant difference in the median accuracy scores between the algorithms."
      ],
      "metadata": {
        "id": "TKRaOpl2FrQb"
      }
    },
    {
      "cell_type": "markdown",
      "source": [
        "18. Scenario: A company wants to analyze the effect of price on sales. The data collected is as follows:\n",
        "    Price (in dollars): [10, 15, 12, 8, 14]\n",
        "    Sales: [100, 80, 90, 110, 95]\n",
        "    Perform a simple linear regression to predict\n",
        "\n"
      ],
      "metadata": {
        "id": "nNN8j_jdGIP5"
      }
    },
    {
      "cell_type": "code",
      "source": [
        "import numpy as np\n",
        "from sklearn.linear_model import LinearRegression\n",
        "\n",
        "Price =np.array([10, 15, 12, 8, 14]).reshape(-1,1)\n",
        "Sales =np.array([100, 80, 90, 110, 95])\n",
        "\n",
        "#model\n",
        "model= LinearRegression()\n",
        "model.fit(Price , Sales)\n",
        "\n",
        "#Prediction of sales for a given price\n",
        "pr= np.array([[15]])\n",
        "prediction= model.predict(pr)\n",
        "\n",
        "print(f'Predicted Sales for the price {pr} is {prediction[0]:.2f}')"
      ],
      "metadata": {
        "colab": {
          "base_uri": "https://localhost:8080/"
        },
        "id": "PuxchzplFqGz",
        "outputId": "271d7d2a-ead2-4d54-ba40-2bda5c825412"
      },
      "execution_count": 40,
      "outputs": [
        {
          "output_type": "stream",
          "name": "stdout",
          "text": [
            "Predicted Sales for the price [[15]] is 83.78\n"
          ]
        }
      ]
    },
    {
      "cell_type": "markdown",
      "source": [
        "\n",
        "19. Scenario: A survey is conducted to measure the satisfaction levels of customers with a new product. The data collected is as follows:\n",
        "    [7, 8, 9, 6, 8, 7, 9, 7, 8, 7]\n",
        "    Calculate the standard error of the mean satisfaction score.\n"
      ],
      "metadata": {
        "id": "4jbKVa06HOHy"
      }
    },
    {
      "cell_type": "code",
      "source": [
        "data = [7, 8, 9, 6, 8, 7, 9, 7, 8, 7]\n",
        "std_error= np.std(data,ddof=1)/np.sqrt(len(data))\n",
        "print(f'The standard error of the mean satisfaction score is : {std_error:.2f}')"
      ],
      "metadata": {
        "colab": {
          "base_uri": "https://localhost:8080/"
        },
        "id": "A0KEGnDvG1N0",
        "outputId": "6df4709a-7b8c-45bd-9aaf-9e97ab52f9b6"
      },
      "execution_count": 41,
      "outputs": [
        {
          "output_type": "stream",
          "name": "stdout",
          "text": [
            "The standard error of the mean satisfaction score is : 0.31\n"
          ]
        }
      ]
    },
    {
      "cell_type": "markdown",
      "source": [
        "20. Scenario: A company wants to analyze the relationship between advertising expenditure and sales. The data collected is as follows:\n",
        "    Advertising Expenditure (in thousands): [10, 15, 12, 8, 14]\n",
        "    Sales (in thousands): [25, 30, 28, 20, 26]\n",
        "    Perform a multiple regression analysis to predict sales based on advertising expenditure.\n",
        "\n"
      ],
      "metadata": {
        "id": "_c_WZcmsIJCa"
      }
    },
    {
      "cell_type": "code",
      "source": [
        "import numpy as np\n",
        "from sklearn.linear_model import LinearRegression\n",
        "\n",
        "Adv_Exp = np.array([10, 15, 12, 8, 14]).reshape(-1,1)\n",
        "Sales = [25, 30, 28, 20, 26]\n",
        "\n",
        "#model\n",
        "model= LinearRegression()\n",
        "model.fit(Adv_Exp,Sales)\n",
        "\n",
        "#predict sales based on Advertising Expenditure\n",
        "pr= [[13],[11]]\n",
        "prediction= model.predict(pr)\n",
        "\n",
        "for i in range(len(pr)):\n",
        "  print(f'Predicted Sales for Advertising Expenditure for {pr[i][0]}k is :{prediction[i]:.2f}')"
      ],
      "metadata": {
        "colab": {
          "base_uri": "https://localhost:8080/"
        },
        "id": "rYxFfEaJHsH3",
        "outputId": "b75b79cd-c296-4322-b3fb-0b6dc541f337"
      },
      "execution_count": 45,
      "outputs": [
        {
          "output_type": "stream",
          "name": "stdout",
          "text": [
            "Predicted Sales for Advertising Expenditure for 13k is :27.18\n",
            "Predicted Sales for Advertising Expenditure for 11k is :24.88\n"
          ]
        }
      ]
    }
  ]
}